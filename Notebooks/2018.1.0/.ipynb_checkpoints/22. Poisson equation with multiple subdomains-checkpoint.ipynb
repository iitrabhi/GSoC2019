{
 "cells": [
  {
   "cell_type": "code",
   "execution_count": 1,
   "metadata": {},
   "outputs": [],
   "source": [
    "# https://fenicsproject.org/olddocs/dolfin/1.3.0/python/demo/documented/subdomains-poisson/python/documentation.html"
   ]
  },
  {
   "cell_type": "code",
   "execution_count": null,
   "metadata": {},
   "outputs": [],
   "source": [
    "from dolfin import *"
   ]
  },
  {
   "cell_type": "code",
   "execution_count": null,
   "metadata": {},
   "outputs": [],
   "source": [
    "# Create classes for defining parts of the boundaries and the interior\n",
    "# of the domain\n",
    "class Left(SubDomain):\n",
    "    def inside(self, x, on_boundary):\n",
    "        return near(x[0], 0.0)\n",
    "\n",
    "class Right(SubDomain):\n",
    "    def inside(self, x, on_boundary):\n",
    "        return near(x[0], 1.0)\n",
    "\n",
    "class Bottom(SubDomain):\n",
    "    def inside(self, x, on_boundary):\n",
    "        return near(x[1], 0.0)\n",
    "\n",
    "class Top(SubDomain):\n",
    "    def inside(self, x, on_boundary):\n",
    "        return near(x[1], 1.0)\n",
    "\n",
    "class Obstacle(SubDomain):\n",
    "    def inside(self, x, on_boundary):\n",
    "        return (between(x[1], (0.5, 0.7)) and between(x[0], (0.2, 1.0)))"
   ]
  },
  {
   "cell_type": "code",
   "execution_count": null,
   "metadata": {},
   "outputs": [],
   "source": [
    "# Initialize sub-domain instances\n",
    "left = Left()\n",
    "top = Top()\n",
    "right = Right()\n",
    "bottom = Bottom()\n",
    "obstacle = Obstacle()"
   ]
  },
  {
   "cell_type": "code",
   "execution_count": null,
   "metadata": {},
   "outputs": [],
   "source": [
    "# Define mesh\n",
    "mesh = UnitSquareMesh(64, 64)"
   ]
  },
  {
   "cell_type": "code",
   "execution_count": null,
   "metadata": {},
   "outputs": [],
   "source": [
    "# Initialize mesh function for interior domains\n",
    "domains = CellFunction(\"size_t\", mesh)\n",
    "domains.set_all(0)\n",
    "obstacle.mark(domains, 1)"
   ]
  },
  {
   "cell_type": "code",
   "execution_count": null,
   "metadata": {},
   "outputs": [],
   "source": [
    "# Initialize mesh function for boundary domains\n",
    "boundaries = FacetFunction(\"size_t\", mesh)\n",
    "boundaries.set_all(0)\n",
    "left.mark(boundaries, 1)\n",
    "top.mark(boundaries, 2)\n",
    "right.mark(boundaries, 3)\n",
    "bottom.mark(boundaries, 4)"
   ]
  },
  {
   "cell_type": "code",
   "execution_count": null,
   "metadata": {},
   "outputs": [],
   "source": [
    "# Define input data\n",
    "a0 = Constant(1.0)\n",
    "a1 = Constant(0.01)\n",
    "g_L = Expression(\"- 10*exp(- pow(x[1] - 0.5, 2))\")\n",
    "g_R = Constant(\"1.0\")\n",
    "f = Constant(1.0)"
   ]
  },
  {
   "cell_type": "code",
   "execution_count": null,
   "metadata": {},
   "outputs": [],
   "source": [
    "# Define function space and basis functions\n",
    "V = FunctionSpace(mesh, \"CG\", 2)\n",
    "u = TrialFunction(V)\n",
    "v = TestFunction(V)"
   ]
  },
  {
   "cell_type": "code",
   "execution_count": null,
   "metadata": {},
   "outputs": [],
   "source": [
    "# Define Dirichlet boundary conditions at top and bottom boundaries\n",
    "bcs = [DirichletBC(V, 5.0, boundaries, 2),\n",
    "       DirichletBC(V, 0.0, boundaries, 4)]"
   ]
  },
  {
   "cell_type": "code",
   "execution_count": null,
   "metadata": {},
   "outputs": [],
   "source": [
    "# Define new measures associated with the interior domains and\n",
    "# exterior boundaries\n",
    "dx = Measure(\"dx\")[domains]\n",
    "ds = Measure(\"ds\")[boundaries]"
   ]
  },
  {
   "cell_type": "code",
   "execution_count": null,
   "metadata": {},
   "outputs": [],
   "source": [
    "# Define variational form\n",
    "F = (inner(a0*grad(u), grad(v))*dx(0) + inner(a1*grad(u), grad(v))*dx(1)\n",
    "     - g_L*v*ds(1) - g_R*v*ds(3)\n",
    "     - f*v*dx(0) - f*v*dx(1))"
   ]
  },
  {
   "cell_type": "code",
   "execution_count": null,
   "metadata": {},
   "outputs": [],
   "source": [
    "# Separate left and right hand sides of equation\n",
    "a, L = lhs(F), rhs(F)"
   ]
  },
  {
   "cell_type": "code",
   "execution_count": null,
   "metadata": {},
   "outputs": [],
   "source": [
    "# Solve problem\n",
    "u = Function(V)\n",
    "solve(a == L, u, bcs)"
   ]
  },
  {
   "cell_type": "code",
   "execution_count": null,
   "metadata": {},
   "outputs": [],
   "source": [
    "# Evaluate integral of normal gradient over top boundary\n",
    "n = FacetNormal(mesh)\n",
    "m1 = dot(grad(u), n)*ds(2)\n",
    "v1 = assemble(m1)\n",
    "print \"\\int grad(u) * n ds(2) = \", v1"
   ]
  },
  {
   "cell_type": "code",
   "execution_count": null,
   "metadata": {},
   "outputs": [],
   "source": [
    "# Evaluate integral of u over the obstacle\n",
    "m2 = u*dx(1)\n",
    "v2 = assemble(m2)\n",
    "print \"\\int u dx(1) = \", v2"
   ]
  },
  {
   "cell_type": "code",
   "execution_count": null,
   "metadata": {},
   "outputs": [],
   "source": [
    "# Plot solution and gradient\n",
    "plot(u, title=\"u\")\n",
    "plot(grad(u), title=\"Projected grad(u)\")\n",
    "interactive()"
   ]
  }
 ],
 "metadata": {
  "kernelspec": {
   "display_name": "Python 3",
   "language": "python",
   "name": "python3"
  },
  "language_info": {
   "codemirror_mode": {
    "name": "ipython",
    "version": 3
   },
   "file_extension": ".py",
   "mimetype": "text/x-python",
   "name": "python",
   "nbconvert_exporter": "python",
   "pygments_lexer": "ipython3",
   "version": "3.7.2"
  }
 },
 "nbformat": 4,
 "nbformat_minor": 2
}

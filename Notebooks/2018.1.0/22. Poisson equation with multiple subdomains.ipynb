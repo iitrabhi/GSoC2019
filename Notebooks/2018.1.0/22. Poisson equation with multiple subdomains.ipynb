{
 "cells": [
  {
   "cell_type": "code",
   "execution_count": 1,
   "metadata": {},
   "outputs": [],
   "source": [
    "# https://fenicsproject.org/olddocs/dolfin/1.3.0/python/demo/documented/subdomains-poisson/python/documentation.html"
   ]
  },
  {
   "cell_type": "code",
   "execution_count": 1,
   "metadata": {},
   "outputs": [],
   "source": [
    "from dolfin import *"
   ]
  },
  {
   "cell_type": "code",
   "execution_count": 2,
   "metadata": {},
   "outputs": [
    {
     "data": {
      "text/plain": [
       "'2018.1.0'"
      ]
     },
     "execution_count": 2,
     "metadata": {},
     "output_type": "execute_result"
    }
   ],
   "source": [
    "import dolfin\n",
    "dolfin.__version__"
   ]
  },
  {
   "cell_type": "code",
   "execution_count": 3,
   "metadata": {},
   "outputs": [],
   "source": [
    "# Create classes for defining parts of the boundaries and the interior\n",
    "# of the domain\n",
    "class Left(SubDomain):\n",
    "    def inside(self, x, on_boundary):\n",
    "        return near(x[0], 0.0)\n",
    "\n",
    "class Right(SubDomain):\n",
    "    def inside(self, x, on_boundary):\n",
    "        return near(x[0], 1.0)\n",
    "\n",
    "class Bottom(SubDomain):\n",
    "    def inside(self, x, on_boundary):\n",
    "        return near(x[1], 0.0)\n",
    "\n",
    "class Top(SubDomain):\n",
    "    def inside(self, x, on_boundary):\n",
    "        return near(x[1], 1.0)\n",
    "\n",
    "class Obstacle(SubDomain):\n",
    "    def inside(self, x, on_boundary):\n",
    "        return (between(x[1], (0.5, 0.7)) and between(x[0], (0.2, 1.0)))"
   ]
  },
  {
   "cell_type": "code",
   "execution_count": 4,
   "metadata": {},
   "outputs": [],
   "source": [
    "# Initialize sub-domain instances\n",
    "left = Left()\n",
    "top = Top()\n",
    "right = Right()\n",
    "bottom = Bottom()\n",
    "obstacle = Obstacle()"
   ]
  },
  {
   "cell_type": "code",
   "execution_count": 5,
   "metadata": {},
   "outputs": [],
   "source": [
    "# Define mesh\n",
    "mesh = UnitSquareMesh(dolfin.MPI.comm_world,64, 64)"
   ]
  },
  {
   "cell_type": "code",
   "execution_count": 6,
   "metadata": {},
   "outputs": [],
   "source": [
    "# Initialize mesh function for interior domains\n",
    "domains = MeshFunction(\"size_t\", mesh, mesh.topology().dim(),0)\n",
    "obstacle.mark(domains, 1)"
   ]
  },
  {
   "cell_type": "code",
   "execution_count": 7,
   "metadata": {},
   "outputs": [],
   "source": [
    "# Initialize mesh function for boundary domains\n",
    "boundaries = MeshFunction(\"size_t\", mesh, mesh.topology().dim()-1,0)\n",
    "left.mark(boundaries, 1)\n",
    "top.mark(boundaries, 2)\n",
    "right.mark(boundaries, 3)\n",
    "bottom.mark(boundaries, 4)"
   ]
  },
  {
   "cell_type": "code",
   "execution_count": 20,
   "metadata": {},
   "outputs": [],
   "source": [
    "# Define input data\n",
    "a0 = Constant(1.0)\n",
    "a1 = Constant(0.01)\n",
    "g_L = Expression(\"- 10*(- pow(x[1] - 0.5, 2))\",degree=2)\n",
    "g_R = Constant(1.0)\n",
    "f = Constant(1.0)"
   ]
  },
  {
   "cell_type": "code",
   "execution_count": 21,
   "metadata": {},
   "outputs": [],
   "source": [
    "# Define function space and basis functions\n",
    "V = FunctionSpace(mesh, \"CG\", 2)\n",
    "u = TrialFunction(V)\n",
    "v = TestFunction(V)"
   ]
  },
  {
   "cell_type": "code",
   "execution_count": 22,
   "metadata": {},
   "outputs": [],
   "source": [
    "# Define Dirichlet boundary conditions at top and bottom boundaries\n",
    "bcs = [DirichletBC(V, 5.0, boundaries, 2),\n",
    "       DirichletBC(V, 0.0, boundaries, 4)]"
   ]
  },
  {
   "cell_type": "code",
   "execution_count": 23,
   "metadata": {},
   "outputs": [],
   "source": [
    "# Define new measures associated with the interior domains and\n",
    "# exterior boundaries\n",
    "dx = dx(subdomain_data=domains)\n",
    "ds = ds(subdomain_data=boundaries)"
   ]
  },
  {
   "cell_type": "code",
   "execution_count": 24,
   "metadata": {},
   "outputs": [],
   "source": [
    "# Define variational form\n",
    "F = (inner(a0*grad(u), grad(v))*dx(0) + inner(a1*grad(u), grad(v))*dx(1)\n",
    "     - g_L*v*ds(1) - g_R*v*ds(3)\n",
    "     - f*v*dx(0) - f*v*dx(1))"
   ]
  },
  {
   "cell_type": "code",
   "execution_count": 25,
   "metadata": {},
   "outputs": [],
   "source": [
    "# Separate left and right hand sides of equation\n",
    "a, L = lhs(F), rhs(F)"
   ]
  },
  {
   "cell_type": "code",
   "execution_count": 26,
   "metadata": {},
   "outputs": [],
   "source": [
    "# Solve problem\n",
    "u = Function(V)\n",
    "solve(a == L, u, bcs)"
   ]
  },
  {
   "cell_type": "code",
   "execution_count": 27,
   "metadata": {},
   "outputs": [
    {
     "name": "stdout",
     "output_type": "stream",
     "text": [
      "\\int grad(u) * n ds(2) =  0.4977699487985152\n"
     ]
    }
   ],
   "source": [
    "# Evaluate integral of normal gradient over top boundary\n",
    "n = FacetNormal(mesh)\n",
    "m1 = dot(grad(u), n)*ds(2)\n",
    "v1 = assemble(m1)\n",
    "print (\"\\int grad(u) * n ds(2) = \", v1)"
   ]
  },
  {
   "cell_type": "code",
   "execution_count": 38,
   "metadata": {},
   "outputs": [
    {
     "name": "stdout",
     "output_type": "stream",
     "text": [
      "\\int u dx(1) =  0.5368834343646119\n"
     ]
    }
   ],
   "source": [
    "# Evaluate integral of u over the obstacle\n",
    "m2 = u*dx(1)\n",
    "v2 = assemble(m2)\n",
    "print (\"\\int u dx(1) = \", v2)"
   ]
  },
  {
   "cell_type": "code",
   "execution_count": 39,
   "metadata": {},
   "outputs": [
    {
     "name": "stdout",
     "output_type": "stream",
     "text": [
      "Help on Function in module dolfin.function.function object:\n",
      "\n",
      "class Function(ufl.coefficient.Coefficient)\n",
      " |  UFL form argument type: Representation of a form coefficient.\n",
      " |  \n",
      " |  Method resolution order:\n",
      " |      Function\n",
      " |      ufl.coefficient.Coefficient\n",
      " |      ufl.core.terminal.FormArgument\n",
      " |      ufl.core.terminal.Terminal\n",
      " |      ufl.core.expr.Expr\n",
      " |      builtins.object\n",
      " |  \n",
      " |  Methods defined here:\n",
      " |  \n",
      " |  __call__(self, *args, **kwargs)\n",
      " |      Call self as a function.\n",
      " |  \n",
      " |  __float__(self)\n",
      " |      Try to evaluate as scalar and cast to float.\n",
      " |  \n",
      " |  __init__(self, *args, **kwargs)\n",
      " |      Initialize Function.\n",
      " |  \n",
      " |  __str__(self)\n",
      " |      Return a pretty print representation of it self.\n",
      " |  \n",
      " |  assign(self, rhs)\n",
      " |      Assign either a Function or linear combination of Functions.\n",
      " |      \n",
      " |      *Arguments*\n",
      " |          rhs (_Function_)\n",
      " |              A Function or a linear combination of Functions. If a linear\n",
      " |              combination is passed all Functions need to be in the same\n",
      " |              FunctionSpaces.\n",
      " |  \n",
      " |  compute_vertex_values(self, mesh=None)\n",
      " |  \n",
      " |  copy(self, deepcopy=False)\n",
      " |  \n",
      " |  cpp_object(self)\n",
      " |  \n",
      " |  eval(self, u, x)\n",
      " |  \n",
      " |  eval_cell(self, u, x, cell)\n",
      " |  \n",
      " |  extrapolate(self, u)\n",
      " |  \n",
      " |  function_space(self)\n",
      " |      Return the FunctionSpace\n",
      " |  \n",
      " |  get_allow_extrapolation(self)\n",
      " |  \n",
      " |  id(self)\n",
      " |  \n",
      " |  interpolate(self, u)\n",
      " |  \n",
      " |  leaf_node(self)\n",
      " |  \n",
      " |  name(self)\n",
      " |  \n",
      " |  rename(self, name, s)\n",
      " |  \n",
      " |  restrict(self, w, element, cell, coordinate_dofs, ufc_cell)\n",
      " |      Restrict function to local cell (compute expansion coefficients w)\n",
      " |      \n",
      " |      *Arguments*\n",
      " |           w : list(double)\n",
      " |               Expansion coefficients.\n",
      " |           element : FiniteElement\n",
      " |               The element.\n",
      " |           dolfin_cell : Cell\n",
      " |               The cell.\n",
      " |           coordinate_dofs : list(double)\n",
      " |               The coordinates.\n",
      " |           ufc_cell : ufc::cell.\n",
      " |               The ufc::cell.\n",
      " |  \n",
      " |  root_node(self)\n",
      " |  \n",
      " |  set_allow_extrapolation(self, value)\n",
      " |  \n",
      " |  split(self, deepcopy=False)\n",
      " |      Extract any sub functions.\n",
      " |      \n",
      " |      A sub function can be extracted from a discrete function that\n",
      " |      is in a mixed, vector, or tensor FunctionSpace. The sub\n",
      " |      function resides in the subspace of the mixed space.\n",
      " |      \n",
      " |      *Arguments*\n",
      " |          deepcopy\n",
      " |              Copy sub function vector instead of sharing\n",
      " |  \n",
      " |  sub(self, i, deepcopy=False)\n",
      " |      Return a sub function.\n",
      " |      \n",
      " |      The sub functions are numbered from i = 0..N-1, where N is the\n",
      " |      total number of sub spaces.\n",
      " |      \n",
      " |      *Arguments*\n",
      " |          i : int\n",
      " |              The number of the sub function\n",
      " |  \n",
      " |  ufl_evaluate(self, x, component, derivatives)\n",
      " |      Function used by ufl to evaluate the Expression\n",
      " |  \n",
      " |  value_dimension(self, i)\n",
      " |  \n",
      " |  value_rank(self)\n",
      " |  \n",
      " |  value_shape(self)\n",
      " |  \n",
      " |  vector(self)\n",
      " |  \n",
      " |  ----------------------------------------------------------------------\n",
      " |  Methods inherited from ufl.coefficient.Coefficient:\n",
      " |  \n",
      " |  __eq__(self, other)\n",
      " |      Default comparison of terminals just compare repr strings.\n",
      " |  \n",
      " |  __hash__ = compute_expr_hash(expr)\n",
      " |      Compute hashes of *expr* and all its nodes efficiently, without using Python recursion.\n",
      " |  \n",
      " |  __repr__(self)\n",
      " |      Return string representation this object can be reconstructed from.\n",
      " |  \n",
      " |  count(self)\n",
      " |  \n",
      " |  is_cellwise_constant(self)\n",
      " |      Return whether this expression is spatially constant over each cell.\n",
      " |  \n",
      " |  ufl_domain(self)\n",
      " |      Shortcut to get the domain of the function space of this coefficient.\n",
      " |  \n",
      " |  ufl_domains(self)\n",
      " |      Return tuple of domains related to this terminal object.\n",
      " |  \n",
      " |  ufl_element(self)\n",
      " |      Shortcut to get the finite element of the function space of this coefficient.\n",
      " |  \n",
      " |  ufl_function_space(self)\n",
      " |      Get the function space of this coefficient.\n",
      " |  \n",
      " |  ----------------------------------------------------------------------\n",
      " |  Data descriptors inherited from ufl.coefficient.Coefficient:\n",
      " |  \n",
      " |  __dict__\n",
      " |      dictionary for instance variables (if defined)\n",
      " |  \n",
      " |  __weakref__\n",
      " |      list of weak references to the object (if defined)\n",
      " |  \n",
      " |  ufl_shape\n",
      " |      Return the associated UFL shape.\n",
      " |  \n",
      " |  ----------------------------------------------------------------------\n",
      " |  Methods inherited from ufl.core.terminal.Terminal:\n",
      " |  \n",
      " |  evaluate(self, x, mapping, component, index_values, derivatives=())\n",
      " |      Get *self* from *mapping* and return the component asked for.\n",
      " |  \n",
      " |  ----------------------------------------------------------------------\n",
      " |  Data and other attributes inherited from ufl.core.terminal.Terminal:\n",
      " |  \n",
      " |  ufl_free_indices = ()\n",
      " |  \n",
      " |  ufl_index_dimensions = ()\n",
      " |  \n",
      " |  ufl_operands = ()\n",
      " |  \n",
      " |  ----------------------------------------------------------------------\n",
      " |  Methods inherited from ufl.core.expr.Expr:\n",
      " |  \n",
      " |  __abs__ = _abs(self)\n",
      " |  \n",
      " |  __add__ = _add(self, o)\n",
      " |  \n",
      " |  __bool__(self)\n",
      " |      By default, all Expr are nonzero/False.\n",
      " |  \n",
      " |  __del__(self)\n",
      " |  \n",
      " |  __div__ = _div(self, o)\n",
      " |  \n",
      " |  __floordiv__(self, other)\n",
      " |      UFL does not support integer division.\n",
      " |  \n",
      " |  __ge__ = _ge(left, right)\n",
      " |      UFL operator: A boolean expresion (left >= right) for use with conditional.\n",
      " |  \n",
      " |  __getitem__ = _getitem(self, component)\n",
      " |  \n",
      " |  __getnewargs__(self)\n",
      " |      The tuple returned here is passed to as args to cls.__new__(cls, *args).\n",
      " |      \n",
      " |      This implementation passes the operands, which is () for terminals.\n",
      " |      \n",
      " |      May be necessary to override if __new__ is implemented in a subclass.\n",
      " |  \n",
      " |  __gt__ = _gt(left, right)\n",
      " |      UFL operator: A boolean expresion (left > right) for use with conditional.\n",
      " |  \n",
      " |  __iter__(self)\n",
      " |      Iteration over vector expressions.\n",
      " |  \n",
      " |  __le__ = _le(left, right)\n",
      " |      UFL operator: A boolean expresion (left <= right) for use with conditional.\n",
      " |  \n",
      " |  __len__(self)\n",
      " |      Length of expression. Used for iteration over vector expressions.\n",
      " |  \n",
      " |  __lt__ = _lt(left, right)\n",
      " |      UFL operator: A boolean expresion (left < right) for use with conditional.\n",
      " |  \n",
      " |  __mul__ = _mul(self, o)\n",
      " |  \n",
      " |  __ne__ = _ne(self, other)\n",
      " |      # != is used at least by tests, possibly in code as well, and must\n",
      " |      # mean the opposite of ==, i.e. when evaluated as bool it must mean\n",
      " |      # 'not equal representation'.\n",
      " |  \n",
      " |  __neg__ = _neg(self)\n",
      " |      # TODO: Add Negated class for this? Might simplify reductions in Add.\n",
      " |  \n",
      " |  __nonzero__(self)\n",
      " |      By default, all Expr are nonzero/False.\n",
      " |  \n",
      " |  __pos__(self)\n",
      " |      Unary + is a no-op.\n",
      " |  \n",
      " |  __pow__ = _pow(self, o)\n",
      " |  \n",
      " |  __radd__ = _radd(self, o)\n",
      " |  \n",
      " |  __rdiv__ = _rdiv(self, o)\n",
      " |  \n",
      " |  __rmul__ = _rmul(self, o)\n",
      " |  \n",
      " |  __round__(self, n=None)\n",
      " |      Round to nearest integer or to nearest nth decimal.\n",
      " |  \n",
      " |  __rpow__ = _rpow(self, o)\n",
      " |  \n",
      " |  __rsub__ = _rsub(self, o)\n",
      " |  \n",
      " |  __rtruediv__ = _rdiv(self, o)\n",
      " |  \n",
      " |  __sub__ = _sub(self, o)\n",
      " |  \n",
      " |  __truediv__ = _div(self, o)\n",
      " |  \n",
      " |  __xor__ = _as_tensor(self, indices)\n",
      " |      UFL operator: A^indices := as_tensor(A, indices).\n",
      " |  \n",
      " |  dx = _dx(self, *ii)\n",
      " |      Return the partial derivative with respect to spatial variable number *ii*.\n",
      " |  \n",
      " |  geometric_dimension(self)\n",
      " |      Return the geometric dimension this expression lives in.\n",
      " |  \n",
      " |  ----------------------------------------------------------------------\n",
      " |  Static methods inherited from ufl.core.expr.Expr:\n",
      " |  \n",
      " |  ufl_disable_profiling()\n",
      " |      Turn off the object counting mechanism. Return object init and del counts.\n",
      " |  \n",
      " |  ufl_enable_profiling()\n",
      " |      Turn on the object counting mechanism and reset counts to zero.\n",
      " |  \n",
      " |  ----------------------------------------------------------------------\n",
      " |  Data descriptors inherited from ufl.core.expr.Expr:\n",
      " |  \n",
      " |  T\n",
      " |      Transpose a rank-2 tensor expression. For more general transpose\n",
      " |      operations of higher order tensor expressions, use indexing and Tensor.\n",
      "\n"
     ]
    }
   ],
   "source": [
    "help(u)"
   ]
  },
  {
   "cell_type": "code",
   "execution_count": 42,
   "metadata": {},
   "outputs": [
    {
     "data": {
      "text/plain": [
       "array([[ 5.        ,  5.01638751,  5.        , ...,  4.78142536,\n",
       "         4.76330055,  4.79041596],\n",
       "       [ 4.80713477,  4.81621558,  4.79900029, ...,  4.79417366,\n",
       "         4.81527709,  4.83524342],\n",
       "       [ 4.81373977,  4.83627325,  4.85719597, ...,  4.39409205,\n",
       "         4.36016341,  4.39884426],\n",
       "       ..., \n",
       "       [ 0.20463712,  0.18290344,  0.20236547, ...,  0.46215929,\n",
       "         0.43699906,  0.45508159],\n",
       "       [ 0.4799151 ,  0.51240032,  0.48730046, ...,  0.02199001,\n",
       "         0.0438869 ,  0.06673284],\n",
       "       [ 0.09193424,  0.06791217,  0.09023361, ...,  0.        ,\n",
       "         0.03889096,  0.        ]])"
      ]
     },
     "execution_count": 42,
     "metadata": {},
     "output_type": "execute_result"
    }
   ],
   "source": [
    "u(0.5,1)"
   ]
  },
  {
   "cell_type": "code",
   "execution_count": 29,
   "metadata": {},
   "outputs": [
    {
     "data": {
      "text/plain": [
       "<matplotlib.tri.tricontour.TriContourSet at 0x7fd83c31f358>"
      ]
     },
     "execution_count": 29,
     "metadata": {},
     "output_type": "execute_result"
    },
    {
     "data": {
      "image/png": "[encoded data removed]",
      "text/plain": [
       "<Figure size 432x288 with 1 Axes>"
      ]
     },
     "metadata": {
      "needs_background": "light"
     },
     "output_type": "display_data"
    }
   ],
   "source": [
    "# Plot solution and gradient\n",
    "plot(u, title=\"u\")"
   ]
  },
  {
   "cell_type": "code",
   "execution_count": 19,
   "metadata": {},
   "outputs": [
    {
     "data": {
      "text/plain": [
       "<matplotlib.quiver.Quiver at 0x7fd83d017b00>"
      ]
     },
     "execution_count": 19,
     "metadata": {},
     "output_type": "execute_result"
    },
    {
     "data": {
      "image/png": "[encoded data removed]",
      "text/plain": [
       "<Figure size 432x288 with 1 Axes>"
      ]
     },
     "metadata": {
      "needs_background": "light"
     },
     "output_type": "display_data"
    }
   ],
   "source": [
    "plot(grad(u), title=\"Projected grad(u)\")"
   ]
  },
  {
   "cell_type": "code",
   "execution_count": null,
   "metadata": {},
   "outputs": [],
   "source": []
  }
 ],
 "metadata": {
  "kernelspec": {
   "display_name": "Python 3",
   "language": "python",
   "name": "python3"
  },
  "language_info": {
   "codemirror_mode": {
    "name": "ipython",
    "version": 3
   },
   "file_extension": ".py",
   "mimetype": "text/x-python",
   "name": "python",
   "nbconvert_exporter": "python",
   "pygments_lexer": "ipython3",
   "version": "3.6.5"
  }
 },
 "nbformat": 4,
 "nbformat_minor": 2
}

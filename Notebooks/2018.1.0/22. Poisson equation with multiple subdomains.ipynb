{
 "cells": [
  {
   "cell_type": "code",
   "execution_count": 1,
   "metadata": {},
   "outputs": [],
   "source": [
    "# https://fenicsproject.org/olddocs/dolfin/1.3.0/python/demo/documented/subdomains-poisson/python/documentation.html"
   ]
  },
  {
   "cell_type": "code",
   "execution_count": 2,
   "metadata": {},
   "outputs": [],
   "source": [
    "from dolfin import *\n",
    "%matplotlib inline\n",
    "# Define input data\n",
    "from ufl import SpatialCoordinate, inner, grad, lhs, rhs, dot, exp, Measure, dx, ds"
   ]
  },
  {
   "cell_type": "code",
   "execution_count": 3,
   "metadata": {},
   "outputs": [
    {
     "data": {
      "text/plain": [
       "'2018.1.0'"
      ]
     },
     "execution_count": 3,
     "metadata": {},
     "output_type": "execute_result"
    }
   ],
   "source": [
    "import dolfin\n",
    "dolfin.__version__"
   ]
  },
  {
   "cell_type": "code",
   "execution_count": 4,
   "metadata": {},
   "outputs": [],
   "source": [
    "# Create classes for defining parts of the boundaries and the interior\n",
    "# of the domain\n",
    "class Left(SubDomain):\n",
    "    def inside(self, x, on_boundary):\n",
    "        return near(x[0], 0.0)\n",
    "\n",
    "class Right(SubDomain):\n",
    "    def inside(self, x, on_boundary):\n",
    "        return near(x[0], 1.0)\n",
    "\n",
    "class Bottom(SubDomain):\n",
    "    def inside(self, x, on_boundary):\n",
    "        return near(x[1], 0.0)\n",
    "\n",
    "class Top(SubDomain):\n",
    "    def inside(self, x, on_boundary):\n",
    "        return near(x[1], 1.0)\n",
    "\n",
    "class Obstacle(SubDomain):\n",
    "    def inside(self, x, on_boundary):\n",
    "        return (between(x[1], (0.5, 0.7)) and between(x[0], (0.2, 1.0)))"
   ]
  },
  {
   "cell_type": "code",
   "execution_count": 5,
   "metadata": {},
   "outputs": [],
   "source": [
    "# Initialize sub-domain instances\n",
    "left = Left()\n",
    "top = Top()\n",
    "right = Right()\n",
    "bottom = Bottom()\n",
    "obstacle = Obstacle()"
   ]
  },
  {
   "cell_type": "code",
   "execution_count": 6,
   "metadata": {},
   "outputs": [],
   "source": [
    "# Define mesh\n",
    "mesh = UnitSquareMesh(dolfin.MPI.comm_world,64, 64)"
   ]
  },
  {
   "cell_type": "code",
   "execution_count": 7,
   "metadata": {},
   "outputs": [],
   "source": [
    "# Initialize mesh function for interior domains\n",
    "domains = MeshFunction(\"size_t\", mesh, mesh.topology().dim(),0)\n",
    "obstacle.mark(domains, 1)"
   ]
  },
  {
   "cell_type": "code",
   "execution_count": 8,
   "metadata": {},
   "outputs": [],
   "source": [
    "# Initialize mesh function for boundary domains\n",
    "boundaries = MeshFunction(\"size_t\", mesh, mesh.topology().dim()-1,0)\n",
    "left.mark(boundaries, 1)\n",
    "top.mark(boundaries, 2)\n",
    "right.mark(boundaries, 3)\n",
    "bottom.mark(boundaries, 4)"
   ]
  },
  {
   "cell_type": "code",
   "execution_count": 9,
   "metadata": {},
   "outputs": [],
   "source": [
    "# Define input data\n",
    "a0 = Constant(1.0)\n",
    "a1 = Constant(0.01)\n",
    "x = SpatialCoordinate(mesh)\n",
    "g_L = exp(- 10*(- pow(x[1] - 0.5, 2)))\n",
    "#g_L = Expression(\"- 10*(- pow(x[1] - 0.5, 2))\",degree=2)\n",
    "g_R = Constant(1.0)\n",
    "f = Constant(1.0)"
   ]
  },
  {
   "cell_type": "code",
   "execution_count": 10,
   "metadata": {},
   "outputs": [],
   "source": [
    "# Define function space and basis functions\n",
    "V = FunctionSpace(mesh, \"CG\", 2)\n",
    "u = TrialFunction(V)\n",
    "v = TestFunction(V)"
   ]
  },
  {
   "cell_type": "code",
   "execution_count": 11,
   "metadata": {},
   "outputs": [],
   "source": [
    "# Define Dirichlet boundary conditions at top and bottom boundaries\n",
    "bcs = [DirichletBC(V, 5.0, boundaries, 2),\n",
    "       DirichletBC(V, 0.0, boundaries, 4)]"
   ]
  },
  {
   "cell_type": "code",
   "execution_count": 12,
   "metadata": {},
   "outputs": [],
   "source": [
    "# Define new measures associated with the interior domains and\n",
    "# exterior boundaries\n",
    "dx = dx(subdomain_data=domains)\n",
    "ds = ds(subdomain_data=boundaries)"
   ]
  },
  {
   "cell_type": "code",
   "execution_count": 13,
   "metadata": {},
   "outputs": [],
   "source": [
    "# Define variational form\n",
    "F = (inner(a0*grad(u), grad(v))*dx(0) + inner(a1*grad(u), grad(v))*dx(1)\n",
    "     - g_L*v*ds(1) - g_R*v*ds(3)\n",
    "     - f*v*dx(0) - f*v*dx(1))"
   ]
  },
  {
   "cell_type": "code",
   "execution_count": 14,
   "metadata": {},
   "outputs": [],
   "source": [
    "# Separate left and right hand sides of equation\n",
    "a, L = lhs(F), rhs(F)"
   ]
  },
  {
   "cell_type": "code",
   "execution_count": 15,
   "metadata": {},
   "outputs": [],
   "source": [
    "# Solve problem\n",
    "u = Function(V)\n",
    "solve(a == L, u, bcs)"
   ]
  },
  {
   "cell_type": "code",
   "execution_count": 16,
   "metadata": {},
   "outputs": [
    {
     "data": {
      "text/plain": [
       "5.0"
      ]
     },
     "execution_count": 16,
     "metadata": {},
     "output_type": "execute_result"
    }
   ],
   "source": [
    "u(0.5,1)"
   ]
  },
  {
   "cell_type": "code",
   "execution_count": 17,
   "metadata": {},
   "outputs": [
    {
     "data": {
      "text/plain": [
       "10.758260861664922"
      ]
     },
     "execution_count": 17,
     "metadata": {},
     "output_type": "execute_result"
    }
   ],
   "source": [
    "max(u.vector().vec().array)"
   ]
  },
  {
   "cell_type": "code",
   "execution_count": 18,
   "metadata": {},
   "outputs": [
    {
     "name": "stdout",
     "output_type": "stream",
     "text": [
      "\\int grad(u) * n ds(2) =  -0.6123853651533828\n"
     ]
    }
   ],
   "source": [
    "# Evaluate integral of normal gradient over top boundary\n",
    "n = FacetNormal(mesh)\n",
    "m1 = dot(grad(u), n)*ds(2)\n",
    "v1 = assemble(m1)\n",
    "print (\"\\int grad(u) * n ds(2) = \", v1)"
   ]
  },
  {
   "cell_type": "code",
   "execution_count": 19,
   "metadata": {},
   "outputs": [
    {
     "name": "stdout",
     "output_type": "stream",
     "text": [
      "\\int u dx(1) =  0.5532678179467059\n"
     ]
    }
   ],
   "source": [
    "# Evaluate integral of u over the obstacle\n",
    "m2 = u*dx(1)\n",
    "v2 = assemble(m2)\n",
    "print (\"\\int u dx(1) = \", v2)"
   ]
  },
  {
   "cell_type": "code",
   "execution_count": 20,
   "metadata": {},
   "outputs": [
    {
     "data": {
      "text/plain": [
       "<matplotlib.tri.tricontour.TriContourSet at 0x7f0f9abc50f0>"
      ]
     },
     "execution_count": 20,
     "metadata": {},
     "output_type": "execute_result"
    },
    {
     "data": {
      "image/png": "[encoded data removed]",
      "text/plain": [
       "<Figure size 432x288 with 1 Axes>"
      ]
     },
     "metadata": {
      "needs_background": "light"
     },
     "output_type": "display_data"
    }
   ],
   "source": [
    "# Plot solution and gradient\n",
    "plot(u, title=\"Solution u\")"
   ]
  },
  {
   "cell_type": "code",
   "execution_count": 21,
   "metadata": {},
   "outputs": [
    {
     "data": {
      "image/png": "[encoded data removed]",
      "text/latex": [
       "$\\mathbf{grad}{\\left({w_h^15}\\right)}$"
      ],
      "text/plain": [
       "Grad(Coefficient(FunctionSpace(Mesh(VectorElement(FiniteElement('Lagrange', triangle, 1), dim=2), 0), FiniteElement('Lagrange', triangle, 2)), 15))"
      ]
     },
     "execution_count": 21,
     "metadata": {},
     "output_type": "execute_result"
    }
   ],
   "source": [
    "gu=grad(u)\n",
    "gu"
   ]
  },
  {
   "cell_type": "code",
   "execution_count": 22,
   "metadata": {},
   "outputs": [
    {
     "data": {
      "text/plain": [
       "<matplotlib.quiver.Quiver at 0x7f0f9a42f198>"
      ]
     },
     "execution_count": 22,
     "metadata": {},
     "output_type": "execute_result"
    },
    {
     "data": {
      "image/png": "[encoded data removed]",
      "text/plain": [
       "<Figure size 432x288 with 1 Axes>"
      ]
     },
     "metadata": {
      "needs_background": "light"
     },
     "output_type": "display_data"
    }
   ],
   "source": [
    "plot(gu, title=\"Projected grad(u)\")"
   ]
  },
  {
   "cell_type": "code",
   "execution_count": null,
   "metadata": {},
   "outputs": [],
   "source": []
  }
 ],
 "metadata": {
  "kernelspec": {
   "display_name": "Python 3",
   "language": "python",
   "name": "python3"
  },
  "language_info": {
   "codemirror_mode": {
    "name": "ipython",
    "version": 3
   },
   "file_extension": ".py",
   "mimetype": "text/x-python",
   "name": "python",
   "nbconvert_exporter": "python",
   "pygments_lexer": "ipython3",
   "version": "3.6.5"
  }
 },
 "nbformat": 4,
 "nbformat_minor": 2
}

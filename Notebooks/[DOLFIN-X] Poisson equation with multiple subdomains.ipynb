{
 "cells": [
  {
   "cell_type": "code",
   "execution_count": 202,
   "metadata": {},
   "outputs": [],
   "source": [
    "from dolfin import *\n",
    "import numpy as np\n",
    "\n",
    "%matplotlib inline\n",
    "from dolfin.plotting import plot\n",
    "\n",
    "# Define input data\n",
    "from ufl import SpatialCoordinate, inner, grad, lhs, rhs, dot, exp, Measure, dx, ds\n",
    "from dolfin.fem import assemble_scalar"
   ]
  },
  {
   "cell_type": "code",
   "execution_count": 203,
   "metadata": {},
   "outputs": [
    {
     "data": {
      "text/plain": [
       "'2018.2.0.dev0'"
      ]
     },
     "execution_count": 203,
     "metadata": {},
     "output_type": "execute_result"
    }
   ],
   "source": [
    "import dolfin\n",
    "dolfin.__version__"
   ]
  },
  {
   "cell_type": "code",
   "execution_count": 204,
   "metadata": {},
   "outputs": [],
   "source": [
    "# Create classes for defining parts of the boundaries and the interior\n",
    "# of the domain\n",
    "class Left(SubDomain):\n",
    "    def inside(self, x, on_boundary):\n",
    "         return np.logical_and(x[:, 0] < np.finfo(float).eps, on_boundary)\n",
    "\n",
    "class Right(SubDomain):\n",
    "    def inside(self, x, on_boundary):\n",
    "         return np.logical_and(x[:, 0] > 1 - np.finfo(float).eps, on_boundary)\n",
    "\n",
    "class Bottom(SubDomain):\n",
    "    def inside(self, x, on_boundary):\n",
    "         return np.logical_and(x[:, 1] < np.finfo(float).eps, on_boundary)\n",
    "\n",
    "class Top(SubDomain):\n",
    "    def inside(self, x, on_boundary):\n",
    "         return np.logical_and(x[:, 1] > 1 - np.finfo(float).eps, on_boundary)\n",
    "    \n",
    "class Obstacle(SubDomain):\n",
    "    def inside(self, x, on_boundary):\n",
    "        return np.logical_and(np.logical_and(x[:, 0] <= 1.0,\n",
    "                              x[:, 0] > 0.2 - np.finfo(float).eps),\n",
    "                              np.logical_and(x[:, 1] < 0.7 + np.finfo(float).eps,\n",
    "                              x[:, 1] > 0.5 - np.finfo(float).eps))"
   ]
  },
  {
   "cell_type": "code",
   "execution_count": 205,
   "metadata": {},
   "outputs": [],
   "source": [
    "# Initialize sub-domain instances\n",
    "left = Left()\n",
    "top = Top()\n",
    "right = Right()\n",
    "bottom = Bottom()\n",
    "obstacle = Obstacle()"
   ]
  },
  {
   "cell_type": "code",
   "execution_count": 206,
   "metadata": {},
   "outputs": [],
   "source": [
    "# Define mesh\n",
    "mesh = UnitSquareMesh(dolfin.MPI.comm_world,58, 58)"
   ]
  },
  {
   "cell_type": "code",
   "execution_count": 226,
   "metadata": {},
   "outputs": [
    {
     "data": {
      "text/plain": [
       "6728"
      ]
     },
     "execution_count": 226,
     "metadata": {},
     "output_type": "execute_result"
    }
   ],
   "source": [
    "mesh.num_cells()"
   ]
  },
  {
   "cell_type": "code",
   "execution_count": 207,
   "metadata": {},
   "outputs": [],
   "source": [
    "# Initialize mesh function for boundary domains\n",
    "boundaries = MeshFunction(\"size_t\", mesh, mesh.topology.dim - 1,0)\n",
    "left.mark(boundaries, 1)\n",
    "top.mark(boundaries, 2)\n",
    "right.mark(boundaries, 3)\n",
    "bottom.mark(boundaries, 4)"
   ]
  },
  {
   "cell_type": "code",
   "execution_count": 208,
   "metadata": {},
   "outputs": [],
   "source": [
    "# Initialize mesh function for interior domains\n",
    "domains = MeshFunction(\"size_t\", mesh, mesh.topology.dim,5)\n",
    "obstacle.mark(domains, 6)"
   ]
  },
  {
   "cell_type": "code",
   "execution_count": 209,
   "metadata": {},
   "outputs": [],
   "source": [
    "a0 = 1.0\n",
    "a1 = 0.01\n",
    "x = SpatialCoordinate(mesh)\n",
    "g_L = exp(- 10*(- pow(x[1] - 0.5, 2)))\n",
    "g_R = 1.0\n",
    "f = 1.0"
   ]
  },
  {
   "cell_type": "code",
   "execution_count": 210,
   "metadata": {},
   "outputs": [],
   "source": [
    "# Define function space and basis functions\n",
    "V = FunctionSpace(mesh, (\"CG\", 2))\n",
    "u = TrialFunction(V)\n",
    "v = TestFunction(V)"
   ]
  },
  {
   "cell_type": "code",
   "execution_count": 211,
   "metadata": {},
   "outputs": [],
   "source": [
    "u5 = Function(V)\n",
    "with u5.vector().localForm() as bc_local:\n",
    "    bc_local.set(5.0)\n",
    "\n",
    "u0 = Function(V)\n",
    "with u0.vector().localForm() as bc_local:\n",
    "    bc_local.set(0.0)"
   ]
  },
  {
   "cell_type": "raw",
   "metadata": {},
   "source": [
    "# Define Dirichlet boundary conditions at top and bottom boundaries\n",
    "bcs = [DirichletBC(V, u5, top),\n",
    "       DirichletBC(V, u0, bottom)]"
   ]
  },
  {
   "cell_type": "code",
   "execution_count": 212,
   "metadata": {},
   "outputs": [],
   "source": [
    "# Define Dirichlet boundary conditions at top and bottom boundaries\n",
    "bcs = [DirichletBC(V, u5, boundaries.where_equal(2)),\n",
    "       DirichletBC(V, u0, boundaries.where_equal(4))]"
   ]
  },
  {
   "cell_type": "code",
   "execution_count": 213,
   "metadata": {},
   "outputs": [],
   "source": [
    "dx = dx(subdomain_data=domains)\n",
    "ds = ds(subdomain_data=boundaries)"
   ]
  },
  {
   "cell_type": "code",
   "execution_count": 214,
   "metadata": {},
   "outputs": [],
   "source": [
    "# Define variational form\n",
    "F = (inner(a0*grad(u), grad(v))*dx(5) + inner(a1*grad(u), grad(v))*dx(6)\n",
    "     - g_L*v*ds(1) - g_R*v*ds(3)\n",
    "     - f*v*dx(5) - f*v*dx(6))"
   ]
  },
  {
   "cell_type": "code",
   "execution_count": 215,
   "metadata": {},
   "outputs": [],
   "source": [
    "# Separate left and right hand sides of equation\n",
    "a, L = lhs(F), rhs(F)"
   ]
  },
  {
   "cell_type": "code",
   "execution_count": 216,
   "metadata": {},
   "outputs": [],
   "source": [
    "# Solve problem\n",
    "u = Function(V)\n",
    "solve(a == L, u, bcs)"
   ]
  },
  {
   "cell_type": "code",
   "execution_count": 225,
   "metadata": {},
   "outputs": [
    {
     "data": {
      "text/plain": [
       "1.0363053455199278"
      ]
     },
     "execution_count": 225,
     "metadata": {},
     "output_type": "execute_result"
    }
   ],
   "source": [
    "bb_tree = cpp.geometry.BoundingBoxTree(mesh, mesh.geometry.dim)\n",
    "u([0.5, 0.5], bb_tree)[0]"
   ]
  },
  {
   "cell_type": "code",
   "execution_count": 218,
   "metadata": {
    "scrolled": true
   },
   "outputs": [
    {
     "data": {
      "text/plain": [
       "10.847105065005907"
      ]
     },
     "execution_count": 218,
     "metadata": {},
     "output_type": "execute_result"
    }
   ],
   "source": [
    "max(u.vector().array)"
   ]
  },
  {
   "cell_type": "code",
   "execution_count": 219,
   "metadata": {
    "scrolled": true
   },
   "outputs": [
    {
     "data": {
      "text/plain": [
       "<matplotlib.tri.tricontour.TriContourSet at 0x7fa2c7875b70>"
      ]
     },
     "execution_count": 219,
     "metadata": {},
     "output_type": "execute_result"
    },
    {
     "data": {
      "image/png": "[encoded data removed]",
      "text/plain": [
       "<matplotlib.figure.Figure at 0x7fa2c794c470>"
      ]
     },
     "metadata": {
      "needs_background": "light"
     },
     "output_type": "display_data"
    }
   ],
   "source": [
    "plot(u, title=\"Solution u\")"
   ]
  },
  {
   "cell_type": "code",
   "execution_count": 220,
   "metadata": {},
   "outputs": [],
   "source": [
    "from numpy import linspace\n",
    "from matplotlib.pyplot import plot\n",
    "\n",
    "xval = linspace(0,1,10)"
   ]
  },
  {
   "cell_type": "code",
   "execution_count": 221,
   "metadata": {
    "scrolled": true
   },
   "outputs": [
    {
     "data": {
      "image/png": "[encoded data removed]",
      "text/plain": [
       "<matplotlib.figure.Figure at 0x7fa2c791d208>"
      ]
     },
     "metadata": {
      "needs_background": "light"
     },
     "output_type": "display_data"
    }
   ],
   "source": [
    "for x in xval:\n",
    "    yval=[u([x, y], bb_tree)[0] for y in xval]\n",
    "    plot(xval, yval)"
   ]
  },
  {
   "cell_type": "code",
   "execution_count": 222,
   "metadata": {},
   "outputs": [
    {
     "name": "stdout",
     "output_type": "stream",
     "text": [
      "\\int grad(u) * n ds(2) =  -0.5873100128573697\n"
     ]
    }
   ],
   "source": [
    "# Evaluate integral of normal gradient over top boundary\n",
    "n = FacetNormal(mesh)\n",
    "m1 = dot(grad(u), n)*ds(2)\n",
    "v1 = assemble_scalar(m1)\n",
    "print(\"\\int grad(u) * n ds(2) = \", v1)"
   ]
  },
  {
   "cell_type": "code",
   "execution_count": 224,
   "metadata": {},
   "outputs": [
    {
     "name": "stdout",
     "output_type": "stream",
     "text": [
      "\\int u dx(1) =  0.5587314317483761\n"
     ]
    }
   ],
   "source": [
    "# Evaluate integral of u over the obstacle\n",
    "m2 = u*dx(6)\n",
    "v2 = assemble_scalar(m2)\n",
    "print(\"\\int u dx(1) = \", v2)"
   ]
  },
  {
   "cell_type": "code",
   "execution_count": 201,
   "metadata": {},
   "outputs": [
    {
     "data": {
      "text/plain": [
       "Grad(Coefficient(FunctionSpace(Mesh(VectorElement(FiniteElement('Lagrange', triangle, 1), dim=2), 64), FiniteElement('Lagrange', triangle, 2)), 70))"
      ]
     },
     "execution_count": 201,
     "metadata": {},
     "output_type": "execute_result"
    }
   ],
   "source": [
    "gu=grad(u)\n",
    "gu"
   ]
  },
  {
   "cell_type": "code",
   "execution_count": null,
   "metadata": {
    "scrolled": true
   },
   "outputs": [],
   "source": [
    "#plot(gu, title=\"Projected grad(u)\")"
   ]
  },
  {
   "cell_type": "code",
   "execution_count": null,
   "metadata": {},
   "outputs": [],
   "source": []
  },
  {
   "cell_type": "code",
   "execution_count": null,
   "metadata": {},
   "outputs": [],
   "source": []
  },
  {
   "cell_type": "code",
   "execution_count": null,
   "metadata": {},
   "outputs": [],
   "source": []
  },
  {
   "cell_type": "code",
   "execution_count": null,
   "metadata": {},
   "outputs": [],
   "source": []
  }
 ],
 "metadata": {
  "kernelspec": {
   "display_name": "Python 3",
   "language": "python",
   "name": "python3"
  },
  "language_info": {
   "codemirror_mode": {
    "name": "ipython",
    "version": 3
   },
   "file_extension": ".py",
   "mimetype": "text/x-python",
   "name": "python",
   "nbconvert_exporter": "python",
   "pygments_lexer": "ipython3",
   "version": "3.6.7"
  }
 },
 "nbformat": 4,
 "nbformat_minor": 2
}

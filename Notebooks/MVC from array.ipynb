{
 "cells": [
  {
   "cell_type": "code",
   "execution_count": 11,
   "metadata": {},
   "outputs": [],
   "source": [
    "from dolfin import (MPI, MeshFunction, MeshValueCollection,\n",
    "                    UnitSquareMesh, cpp, plotting)\n",
    "import pygmsh"
   ]
  },
  {
   "cell_type": "code",
   "execution_count": 17,
   "metadata": {},
   "outputs": [],
   "source": [
    "%matplotlib inline"
   ]
  },
  {
   "cell_type": "code",
   "execution_count": 18,
   "metadata": {},
   "outputs": [
    {
     "name": "stdout",
     "output_type": "stream",
     "text": [
      "Info    : Running 'gmsh -3 /tmp/tmp8z7cc5d7.geo -format msh -bin -o /tmp/tmploiymtnc.msh' [Gmsh 4.4.0, 1 node, max. 1 thread]\n",
      "Info    : Started on Mon Jul 29 13:13:17 2019\n",
      "Info    : Reading '/tmp/tmp8z7cc5d7.geo'...\n",
      "Info    : Done reading '/tmp/tmp8z7cc5d7.geo'\n",
      "Info    : Meshing 1D...\n",
      "Info    : Meshing curve 1 (Line)\n",
      "Info    : Meshing curve 2 (Line)\n",
      "Info    : Meshing curve 3 (Line)\n",
      "Info    : Meshing curve 4 (Line)\n",
      "Info    : Done meshing 1D (0 s)\n",
      "Info    : Meshing 2D...\n",
      "Info    : Meshing surface 6 (Plane, Delaunay)\n",
      "Info    : Done meshing 2D (0.01 s)\n",
      "Info    : Meshing 3D...\n",
      "Info    : Done meshing 3D (0 s)\n",
      "Info    : 13 vertices 28 elements\n",
      "Info    : Writing '/tmp/tmploiymtnc.msh'...\n",
      "Info    : Done writing '/tmp/tmploiymtnc.msh'\n",
      "Info    : Stopped on Mon Jul 29 13:13:17 2019\n"
     ]
    }
   ],
   "source": [
    "geom = pygmsh.opencascade.Geometry()\n",
    "\n",
    "mesh_ele_size = .5\n",
    "p0 = geom.add_point([0, 0, 0], lcar=mesh_ele_size)\n",
    "p1 = geom.add_point([1, 0, 0], lcar=mesh_ele_size)\n",
    "p2 = geom.add_point([1, 1, 0], lcar=mesh_ele_size)\n",
    "p3 = geom.add_point([0, 1, 0], lcar=mesh_ele_size)\n",
    "\n",
    "l0 = geom.add_line(p0, p1)\n",
    "l1 = geom.add_line(p1, p2)\n",
    "l2 = geom.add_line(p2, p3)\n",
    "l3 = geom.add_line(p3, p0)\n",
    "\n",
    "ll = geom.add_line_loop(lines=[l0, l1, l2, l3])\n",
    "ps = geom.add_plane_surface(ll)\n",
    "\n",
    "# Tag line and surface\n",
    "geom.add_physical(l3, label=\"LINE\")\n",
    "geom.add_physical(ps, label=\"SURFACE\")\n",
    "\n",
    "pygmsh_mesh = pygmsh.generate_mesh(geom)\n",
    "points, cells, cell_data = pygmsh_mesh.points, pygmsh_mesh.cells, pygmsh_mesh.cell_data"
   ]
  },
  {
   "cell_type": "code",
   "execution_count": 31,
   "metadata": {},
   "outputs": [],
   "source": [
    "mesh = cpp.mesh.Mesh(MPI.comm_world,\n",
    "                     cpp.mesh.CellType.triangle, points[:,:2],\n",
    "                     cells['triangle'], [], cpp.mesh.GhostMode.none)\n",
    "assert mesh.degree() == 1\n",
    "assert mesh.geometry.dim == 2\n",
    "assert mesh.topology.dim == 2"
   ]
  },
  {
   "cell_type": "code",
   "execution_count": 32,
   "metadata": {},
   "outputs": [],
   "source": [
    "f = MeshValueCollection(\"size_t\", mesh, 1, cells[\"line\"], cell_data[\"line\"]['gmsh:physical'])"
   ]
  },
  {
   "cell_type": "code",
   "execution_count": 33,
   "metadata": {},
   "outputs": [
    {
     "data": {
      "text/plain": [
       "{(1, 1): 1, (7, 1): 1}"
      ]
     },
     "execution_count": 33,
     "metadata": {},
     "output_type": "execute_result"
    }
   ],
   "source": [
    "f.values()"
   ]
  },
  {
   "cell_type": "code",
   "execution_count": 34,
   "metadata": {},
   "outputs": [
    {
     "data": {
      "text/plain": [
       "[<matplotlib.lines.Line2D at 0x7f500117e6d8>,\n",
       " <matplotlib.lines.Line2D at 0x7f500117e908>]"
      ]
     },
     "execution_count": 34,
     "metadata": {},
     "output_type": "execute_result"
    },
    {
     "data": {
      "image/png": "[encoded data removed]",
      "text/plain": [
       "<matplotlib.figure.Figure at 0x7f500120efd0>"
      ]
     },
     "metadata": {
      "needs_background": "light"
     },
     "output_type": "display_data"
    }
   ],
   "source": [
    "plotting.plot(mesh)"
   ]
  },
  {
   "cell_type": "code",
   "execution_count": 29,
   "metadata": {},
   "outputs": [
    {
     "data": {
      "text/plain": [
       "array([[ 0.  ,  0.  ],\n",
       "       [ 1.  ,  0.  ],\n",
       "       [ 1.  ,  1.  ],\n",
       "       [ 0.  ,  1.  ],\n",
       "       [ 0.5 ,  0.  ],\n",
       "       [ 1.  ,  0.5 ],\n",
       "       [ 0.5 ,  1.  ],\n",
       "       [ 0.  ,  0.5 ],\n",
       "       [ 0.5 ,  0.5 ],\n",
       "       [ 0.25,  0.25],\n",
       "       [ 0.75,  0.75],\n",
       "       [ 0.25,  0.75],\n",
       "       [ 0.75,  0.25]])"
      ]
     },
     "execution_count": 29,
     "metadata": {},
     "output_type": "execute_result"
    }
   ],
   "source": [
    "points[:,:2]"
   ]
  },
  {
   "cell_type": "code",
   "execution_count": null,
   "metadata": {},
   "outputs": [],
   "source": []
  }
 ],
 "metadata": {
  "kernelspec": {
   "display_name": "Python 3",
   "language": "python",
   "name": "python3"
  },
  "language_info": {
   "codemirror_mode": {
    "name": "ipython",
    "version": 3
   },
   "file_extension": ".py",
   "mimetype": "text/x-python",
   "name": "python",
   "nbconvert_exporter": "python",
   "pygments_lexer": "ipython3",
   "version": "3.6.8"
  }
 },
 "nbformat": 4,
 "nbformat_minor": 2
}

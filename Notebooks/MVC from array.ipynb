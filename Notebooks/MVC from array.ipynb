{
 "cells": [
  {
   "cell_type": "code",
   "execution_count": 1,
   "metadata": {},
   "outputs": [
    {
     "ename": "ImportError",
     "evalue": "Internal error while parsing type signature (2)",
     "output_type": "error",
     "traceback": [
      "\u001b[0;31m---------------------------------------------------------------------------\u001b[0m",
      "\u001b[0;31mImportError\u001b[0m                               Traceback (most recent call last)",
      "\u001b[0;32m<ipython-input-1-709be35cafe8>\u001b[0m in \u001b[0;36m<module>\u001b[0;34m\u001b[0m\n\u001b[0;32m----> 1\u001b[0;31m from dolfin import (MPI, Cells, FacetRange, MeshFunction, MeshValueCollection,\n\u001b[0m\u001b[1;32m      2\u001b[0m                     UnitSquareMesh, VertexRange, cpp)\n",
      "\u001b[0;32m~/Submodules/dolfinx/python/dolfin/__init__.py\u001b[0m in \u001b[0;36m<module>\u001b[0;34m\u001b[0m\n\u001b[1;32m     30\u001b[0m \u001b[0;34m\u001b[0m\u001b[0m\n\u001b[1;32m     31\u001b[0m \u001b[0;31m# Import cpp modules\u001b[0m\u001b[0;34m\u001b[0m\u001b[0;34m\u001b[0m\u001b[0;34m\u001b[0m\u001b[0m\n\u001b[0;32m---> 32\u001b[0;31m \u001b[0;32mfrom\u001b[0m \u001b[0;34m.\u001b[0m\u001b[0mcpp\u001b[0m \u001b[0;32mimport\u001b[0m \u001b[0m__version__\u001b[0m\u001b[0;34m\u001b[0m\u001b[0;34m\u001b[0m\u001b[0m\n\u001b[0m\u001b[1;32m     33\u001b[0m \u001b[0;34m\u001b[0m\u001b[0m\n\u001b[1;32m     34\u001b[0m \u001b[0;34m\u001b[0m\u001b[0m\n",
      "\u001b[0;31mImportError\u001b[0m: Internal error while parsing type signature (2)"
     ]
    }
   ],
   "source": [
    "from dolfin import (MPI, Cells, FacetRange, MeshFunction, MeshValueCollection,\n",
    "                    UnitSquareMesh, VertexRange, cpp)\n",
    "import pygmsh"
   ]
  },
  {
   "cell_type": "code",
   "execution_count": 2,
   "metadata": {},
   "outputs": [
    {
     "name": "stdout",
     "output_type": "stream",
     "text": [
      "Info    : Running 'gmsh -3 /tmp/tmp04cgte9r.geo -format msh -bin -o /tmp/tmpixe9iv1i.msh' [Gmsh 4.2.2, 1 node, max. 1 thread]\n",
      "Info    : Started on Thu Jul 18 04:47:24 2019\n",
      "Info    : Reading '/tmp/tmp04cgte9r.geo'...\n",
      "Info    : Done reading '/tmp/tmp04cgte9r.geo'\n",
      "Info    : Meshing 1D...\n",
      "Info    : Meshing curve 1 (Line)\n",
      "Info    : Meshing curve 2 (Line)\n",
      "Info    : Meshing curve 3 (Line)\n",
      "Info    : Meshing curve 4 (Line)\n",
      "Info    : Done meshing 1D (0 s)\n",
      "Info    : Meshing 2D...\n",
      "Info    : Meshing surface 6 (Plane, Delaunay)\n",
      "Info    : Done meshing 2D (0.01 s)\n",
      "Info    : Meshing 3D...\n",
      "Info    : Done meshing 3D (0 s)\n",
      "Info    : 143 vertices 288 elements\n",
      "Info    : Writing '/tmp/tmpixe9iv1i.msh'...\n",
      "Info    : Done writing '/tmp/tmpixe9iv1i.msh'\n",
      "Info    : Stopped on Thu Jul 18 04:47:24 2019\n"
     ]
    },
    {
     "ename": "NameError",
     "evalue": "name 'cpp' is not defined",
     "output_type": "error",
     "traceback": [
      "\u001b[0;31m---------------------------------------------------------------------------\u001b[0m",
      "\u001b[0;31mNameError\u001b[0m                                 Traceback (most recent call last)",
      "\u001b[0;32m<ipython-input-2-84dfbf42f977>\u001b[0m in \u001b[0;36m<module>\u001b[0;34m\u001b[0m\n\u001b[1;32m     22\u001b[0m \u001b[0mpoints\u001b[0m\u001b[0;34m,\u001b[0m \u001b[0mcells\u001b[0m\u001b[0;34m,\u001b[0m \u001b[0mcell_data\u001b[0m \u001b[0;34m=\u001b[0m \u001b[0mpygmsh_mesh\u001b[0m\u001b[0;34m.\u001b[0m\u001b[0mpoints\u001b[0m\u001b[0;34m,\u001b[0m \u001b[0mpygmsh_mesh\u001b[0m\u001b[0;34m.\u001b[0m\u001b[0mcells\u001b[0m\u001b[0;34m,\u001b[0m \u001b[0mpygmsh_mesh\u001b[0m\u001b[0;34m.\u001b[0m\u001b[0mcell_data\u001b[0m\u001b[0;34m\u001b[0m\u001b[0;34m\u001b[0m\u001b[0m\n\u001b[1;32m     23\u001b[0m \u001b[0;34m\u001b[0m\u001b[0m\n\u001b[0;32m---> 24\u001b[0;31m mesh = cpp.mesh.Mesh(MPI.comm_world,\n\u001b[0m\u001b[1;32m     25\u001b[0m                      \u001b[0mcpp\u001b[0m\u001b[0;34m.\u001b[0m\u001b[0mmesh\u001b[0m\u001b[0;34m.\u001b[0m\u001b[0mCellType\u001b[0m\u001b[0;34m.\u001b[0m\u001b[0mType\u001b[0m\u001b[0;34m.\u001b[0m\u001b[0mtriangle\u001b[0m\u001b[0;34m,\u001b[0m \u001b[0mpoints\u001b[0m\u001b[0;34m,\u001b[0m\u001b[0;34m\u001b[0m\u001b[0;34m\u001b[0m\u001b[0m\n\u001b[1;32m     26\u001b[0m                      cells['triangle'], [], cpp.mesh.GhostMode.none)\n",
      "\u001b[0;31mNameError\u001b[0m: name 'cpp' is not defined"
     ]
    }
   ],
   "source": [
    "geom = pygmsh.opencascade.Geometry()\n",
    "\n",
    "mesh_ele_size = .1\n",
    "p0 = geom.add_point([0, 0, 0], lcar=mesh_ele_size)\n",
    "p1 = geom.add_point([1, 0, 0], lcar=mesh_ele_size)\n",
    "p2 = geom.add_point([1, 1, 0], lcar=mesh_ele_size)\n",
    "p3 = geom.add_point([0, 1, 0], lcar=mesh_ele_size)\n",
    "\n",
    "l0 = geom.add_line(p0, p1)\n",
    "l1 = geom.add_line(p1, p2)\n",
    "l2 = geom.add_line(p2, p3)\n",
    "l3 = geom.add_line(p3, p0)\n",
    "\n",
    "ll = geom.add_line_loop(lines=[l0, l1, l2, l3])\n",
    "ps = geom.add_plane_surface(ll)\n",
    "\n",
    "# Tag line and surface\n",
    "geom.add_physical(l3, label=\"LINE\")\n",
    "geom.add_physical(ps, label=\"SURFACE\")\n",
    "\n",
    "pygmsh_mesh = pygmsh.generate_mesh(geom)\n",
    "points, cells, cell_data = pygmsh_mesh.points, pygmsh_mesh.cells, pygmsh_mesh.cell_data\n",
    "\n",
    "mesh = cpp.mesh.Mesh(MPI.comm_world,\n",
    "                     cpp.mesh.CellType.Type.triangle, points,\n",
    "                     cells['triangle'], [], cpp.mesh.GhostMode.none)\n",
    "assert mesh.degree() == 1\n",
    "assert mesh.geometry.dim == 3\n",
    "assert mesh.topology.dim == 2\n",
    "\n",
    "f = MeshValueCollection(\"size_t\", mesh, 1, cells[\"line\"], cell_data[\"line\"]['gmsh:physical'])"
   ]
  },
  {
   "cell_type": "code",
   "execution_count": null,
   "metadata": {},
   "outputs": [],
   "source": []
  }
 ],
 "metadata": {
  "kernelspec": {
   "display_name": "Python 3",
   "language": "python",
   "name": "python3"
  },
  "language_info": {
   "codemirror_mode": {
    "name": "ipython",
    "version": 3
   },
   "file_extension": ".py",
   "mimetype": "text/x-python",
   "name": "python",
   "nbconvert_exporter": "python",
   "pygments_lexer": "ipython3",
   "version": "3.6.8"
  }
 },
 "nbformat": 4,
 "nbformat_minor": 2
}

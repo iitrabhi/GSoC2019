{
 "cells": [
  {
   "cell_type": "code",
   "execution_count": 2,
   "metadata": {},
   "outputs": [],
   "source": [
    "from dolfin import *\n",
    "import numpy as np"
   ]
  },
  {
   "cell_type": "code",
   "execution_count": null,
   "metadata": {},
   "outputs": [],
   "source": []
  },
  {
   "cell_type": "code",
   "execution_count": 3,
   "metadata": {},
   "outputs": [],
   "source": [
    "# Create classes for defining parts of the boundaries and the interior\n",
    "# of the domain\n",
    "class Left(SubDomain):\n",
    "    def inside(self, x, on_boundary):\n",
    "        return x[:,0]== 0.0\n",
    "\n",
    "class Right(SubDomain):\n",
    "    def inside(self, x, on_boundary):\n",
    "        return x[:,0]== 1.0\n",
    "\n",
    "class Bottom(SubDomain):\n",
    "    def inside(self, x, on_boundary):\n",
    "        return x[:,1]== 0.0\n",
    "\n",
    "class Top(SubDomain):\n",
    "    def inside(self, x, on_boundary):\n",
    "        return x[:,1]==1.0\n",
    "    \n",
    "class Obstacle(SubDomain):\n",
    "    def inside(self, x, on_boundary):\n",
    "        return np.logical_and(np.logical_and(x[:, 0] < 1.0 - np.finfo(float).eps,\n",
    "                              x[:, 0] > 0.2 - np.finfo(float).eps),\n",
    "                              np.logical_and(x[:, 1] < 0.7 - np.finfo(float).eps,\n",
    "                              x[:, 1] > 0.5 - np.finfo(float).eps))"
   ]
  },
  {
   "cell_type": "code",
   "execution_count": 4,
   "metadata": {},
   "outputs": [],
   "source": [
    "# Initialize sub-domain instances\n",
    "left = Left()\n",
    "top = Top()\n",
    "right = Right()\n",
    "bottom = Bottom()\n",
    "obstacle = Obstacle()"
   ]
  },
  {
   "cell_type": "code",
   "execution_count": 5,
   "metadata": {},
   "outputs": [],
   "source": [
    "# Define mesh\n",
    "mesh = UnitSquareMesh(dolfin.MPI.comm_world,64, 64)"
   ]
  },
  {
   "cell_type": "code",
   "execution_count": 6,
   "metadata": {},
   "outputs": [
    {
     "data": {
      "text/plain": [
       "array([0, 0, 0, ..., 0, 0, 0], dtype=uint64)"
      ]
     },
     "execution_count": 6,
     "metadata": {},
     "output_type": "execute_result"
    }
   ],
   "source": [
    "# Initialize mesh function for interior domains\n",
    "domains = MeshFunction(\"size_t\", mesh, mesh.topology.dim,0)\n",
    "domains.array()"
   ]
  },
  {
   "cell_type": "code",
   "execution_count": 7,
   "metadata": {},
   "outputs": [],
   "source": [
    "obstacle.mark(domains, 1)"
   ]
  },
  {
   "cell_type": "code",
   "execution_count": 8,
   "metadata": {},
   "outputs": [],
   "source": [
    "# Initialize mesh function for boundary domains\n",
    "boundaries = MeshFunction(\"size_t\", mesh, mesh.topology.dim-1,0)\n",
    "left.mark(boundaries, 1)\n",
    "top.mark(boundaries, 2)\n",
    "right.mark(boundaries, 3)\n",
    "bottom.mark(boundaries, 4)"
   ]
  },
  {
   "cell_type": "code",
   "execution_count": 19,
   "metadata": {},
   "outputs": [],
   "source": [
    "# Define input data\n",
    "from ufl import SpatialCoordinate, inner, grad, lhs, rhs, Constant, dot, exp, Measure\n",
    "from dolfin.fem import assemble_scalar"
   ]
  },
  {
   "cell_type": "code",
   "execution_count": 20,
   "metadata": {},
   "outputs": [],
   "source": [
    "a0 = 1.0\n",
    "a1 = 0.01\n",
    "x = SpatialCoordinate(mesh)\n",
    "g_L = exp(- 10*(- pow(x[1] - 0.5, 2)))\n",
    "g_R = 1.0\n",
    "f = 1.0"
   ]
  },
  {
   "cell_type": "code",
   "execution_count": 21,
   "metadata": {},
   "outputs": [],
   "source": [
    "# Define function space and basis functions\n",
    "V = FunctionSpace(mesh, (\"CG\", 2))\n",
    "u = TrialFunction(V)\n",
    "v = TestFunction(V)"
   ]
  },
  {
   "cell_type": "code",
   "execution_count": 22,
   "metadata": {},
   "outputs": [],
   "source": [
    "u5 = Function(V)\n",
    "u5.vector().set(5.0)\n",
    "\n",
    "u0 = Function(V)\n",
    "u0.vector().set(0.0)"
   ]
  },
  {
   "cell_type": "code",
   "execution_count": 23,
   "metadata": {},
   "outputs": [],
   "source": [
    "# Define Dirichlet boundary conditions at top and bottom boundaries\n",
    "bcs = [DirichletBC(V, u5, boundaries),\n",
    "       DirichletBC(V, u0, boundaries)]"
   ]
  },
  {
   "cell_type": "code",
   "execution_count": 24,
   "metadata": {},
   "outputs": [],
   "source": [
    "# Define new measures associated with the interior domains and\n",
    "# exterior boundaries\n",
    "dx = Measure('dx', domain=mesh, subdomain_data=domains)\n",
    "ds = Measure('ds', domain=mesh, subdomain_data=boundaries)"
   ]
  },
  {
   "cell_type": "code",
   "execution_count": 25,
   "metadata": {},
   "outputs": [],
   "source": [
    "# Define variational form\n",
    "F = (inner(a0*grad(u), grad(v))*dx(0) + inner(a1*grad(u), grad(v))*dx(1)\n",
    "     - g_L*v*ds(1) - g_R*v*ds(3)\n",
    "     - f*v*dx(0) - f*v*dx(1))"
   ]
  },
  {
   "cell_type": "code",
   "execution_count": 26,
   "metadata": {},
   "outputs": [],
   "source": [
    "# Separate left and right hand sides of equation\n",
    "a, L = lhs(F), rhs(F)"
   ]
  },
  {
   "cell_type": "code",
   "execution_count": 27,
   "metadata": {},
   "outputs": [],
   "source": [
    "# Solve problem\n",
    "u = Function(V)\n",
    "solve(a == L, u, bcs)"
   ]
  },
  {
   "cell_type": "code",
   "execution_count": 28,
   "metadata": {},
   "outputs": [
    {
     "name": "stdout",
     "output_type": "stream",
     "text": [
      "\\int grad(u) * n ds(2) =  -0.003440148277068289\n"
     ]
    }
   ],
   "source": [
    "# Evaluate integral of normal gradient over top boundary\n",
    "n = FacetNormal(mesh)\n",
    "m1 = dot(grad(u), n)*ds(2)\n",
    "v1 = assemble_scalar(m1)\n",
    "print(\"\\int grad(u) * n ds(2) = \", v1)"
   ]
  },
  {
   "cell_type": "code",
   "execution_count": 29,
   "metadata": {},
   "outputs": [
    {
     "name": "stdout",
     "output_type": "stream",
     "text": [
      "\\int u dx(1) =  1.5930492478443088\n"
     ]
    }
   ],
   "source": [
    "# Evaluate integral of u over the obstacle\n",
    "m2 = u*dx(1)\n",
    "v2 = assemble_scalar(m2)\n",
    "print(\"\\int u dx(1) = \", v2)"
   ]
  },
  {
   "cell_type": "code",
   "execution_count": 31,
   "metadata": {},
   "outputs": [],
   "source": [
    "# Plot solution\n",
    "import matplotlib.pyplot as plt\n",
    "%matplotlib inline\n",
    "from dolfin.plotting import plot"
   ]
  },
  {
   "cell_type": "code",
   "execution_count": 32,
   "metadata": {},
   "outputs": [
    {
     "data": {
      "text/plain": [
       "<matplotlib.tri.tricontour.TriContourSet at 0x7f51035c2b38>"
      ]
     },
     "execution_count": 32,
     "metadata": {},
     "output_type": "execute_result"
    },
    {
     "data": {
      "image/png": "[encoded data removed]",
      "text/plain": [
       "<matplotlib.figure.Figure at 0x7f510354d978>"
      ]
     },
     "metadata": {
      "needs_background": "light"
     },
     "output_type": "display_data"
    }
   ],
   "source": [
    "plt.figure()\n",
    "plot(u, title=\"Solution u\")"
   ]
  },
  {
   "cell_type": "code",
   "execution_count": 33,
   "metadata": {},
   "outputs": [
    {
     "ename": "ModuleNotFoundError",
     "evalue": "No module named 'fem'",
     "output_type": "error",
     "traceback": [
      "\u001b[0;31m---------------------------------------------------------------------------\u001b[0m",
      "\u001b[0;31mModuleNotFoundError\u001b[0m                       Traceback (most recent call last)",
      "\u001b[0;32m<ipython-input-33-e0eda730f853>\u001b[0m in \u001b[0;36m<module>\u001b[0;34m\u001b[0m\n\u001b[1;32m      1\u001b[0m \u001b[0;31m# Plot solution and gradient\u001b[0m\u001b[0;34m\u001b[0m\u001b[0;34m\u001b[0m\u001b[0;34m\u001b[0m\u001b[0m\n\u001b[1;32m      2\u001b[0m \u001b[0mplt\u001b[0m\u001b[0;34m.\u001b[0m\u001b[0mfigure\u001b[0m\u001b[0;34m(\u001b[0m\u001b[0;34m)\u001b[0m\u001b[0;34m\u001b[0m\u001b[0;34m\u001b[0m\u001b[0m\n\u001b[0;32m----> 3\u001b[0;31m \u001b[0mplot\u001b[0m\u001b[0;34m(\u001b[0m\u001b[0mgrad\u001b[0m\u001b[0;34m(\u001b[0m\u001b[0mu\u001b[0m\u001b[0;34m)\u001b[0m\u001b[0;34m,\u001b[0m \u001b[0mtitle\u001b[0m\u001b[0;34m=\u001b[0m\u001b[0;34m\"Projected grad(u)\"\u001b[0m\u001b[0;34m)\u001b[0m\u001b[0;34m\u001b[0m\u001b[0;34m\u001b[0m\u001b[0m\n\u001b[0m",
      "\u001b[0;32m/usr/local/lib/python3.6/dist-packages/dolfin/plotting.py\u001b[0m in \u001b[0;36mplot\u001b[0;34m(object, *args, **kwargs)\u001b[0m\n\u001b[1;32m    420\u001b[0m     \u001b[0;31m# Try to project if object is not a standard plottable type\u001b[0m\u001b[0;34m\u001b[0m\u001b[0;34m\u001b[0m\u001b[0;34m\u001b[0m\u001b[0m\n\u001b[1;32m    421\u001b[0m     \u001b[0;32mif\u001b[0m \u001b[0;32mnot\u001b[0m \u001b[0misinstance\u001b[0m\u001b[0;34m(\u001b[0m\u001b[0mobject\u001b[0m\u001b[0;34m,\u001b[0m \u001b[0m_all_plottable_types\u001b[0m\u001b[0;34m)\u001b[0m\u001b[0;34m:\u001b[0m\u001b[0;34m\u001b[0m\u001b[0;34m\u001b[0m\u001b[0m\n\u001b[0;32m--> 422\u001b[0;31m         \u001b[0;32mfrom\u001b[0m \u001b[0mfem\u001b[0m\u001b[0;34m.\u001b[0m\u001b[0mprojection\u001b[0m \u001b[0;32mimport\u001b[0m \u001b[0mproject\u001b[0m\u001b[0;34m\u001b[0m\u001b[0;34m\u001b[0m\u001b[0m\n\u001b[0m\u001b[1;32m    423\u001b[0m         \u001b[0;32mtry\u001b[0m\u001b[0;34m:\u001b[0m\u001b[0;34m\u001b[0m\u001b[0;34m\u001b[0m\u001b[0m\n\u001b[1;32m    424\u001b[0m             cpp.log.info(\"Object cannot be plotted directly, projecting to \"\n",
      "\u001b[0;31mModuleNotFoundError\u001b[0m: No module named 'fem'"
     ]
    },
    {
     "data": {
      "text/plain": [
       "<matplotlib.figure.Figure at 0x7f5103632a20>"
      ]
     },
     "metadata": {},
     "output_type": "display_data"
    }
   ],
   "source": [
    "# Plot solution and gradient\n",
    "plt.figure()\n",
    "plot(grad(u), title=\"Projected grad(u)\")"
   ]
  }
 ],
 "metadata": {
  "kernelspec": {
   "display_name": "Python 3",
   "language": "python",
   "name": "python3"
  },
  "language_info": {
   "codemirror_mode": {
    "name": "ipython",
    "version": 3
   },
   "file_extension": ".py",
   "mimetype": "text/x-python",
   "name": "python",
   "nbconvert_exporter": "python",
   "pygments_lexer": "ipython3",
   "version": "3.6.7"
  }
 },
 "nbformat": 4,
 "nbformat_minor": 2
}

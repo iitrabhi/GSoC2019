{
 "cells": [
  {
   "cell_type": "code",
   "execution_count": 2,
   "metadata": {},
   "outputs": [],
   "source": [
    "from dolfin import *\n",
    "import meshio"
   ]
  },
  {
   "cell_type": "markdown",
   "metadata": {},
   "source": [
    "If physical entities are defined, the output mesh only contains those elements that belong to physical entities. Thus while creating physical entities it is very important that you mark all the parts of the domain as physical and assign them some name."
   ]
  },
  {
   "cell_type": "code",
   "execution_count": 3,
   "metadata": {},
   "outputs": [],
   "source": [
    "mesh = meshio.read(\"Models/tagging.msh\")\n",
    "points, cells, cell_data, field_data = mesh.points, mesh.cells, mesh.cell_data, mesh.field_data"
   ]
  },
  {
   "cell_type": "markdown",
   "metadata": {},
   "source": [
    "In gmsh\n",
    "* 1 -> Line\n",
    "* 2 -> 3 noded triangle\n",
    "* Therefore the field data tells us that `bottom` tag is assigned number tag 1 and is of type line.\n",
    "* Similarly `domain` is assigned number tag 5 and is of type triangle"
   ]
  },
  {
   "cell_type": "code",
   "execution_count": 4,
   "metadata": {
    "scrolled": true
   },
   "outputs": [
    {
     "data": {
      "text/plain": [
       "{'bottom': array([1, 1]),\n",
       " 'right': array([2, 1]),\n",
       " 'top': array([3, 1]),\n",
       " 'left': array([4, 1]),\n",
       " 'domain': array([5, 2])}"
      ]
     },
     "execution_count": 4,
     "metadata": {},
     "output_type": "execute_result"
    }
   ],
   "source": [
    "field_data"
   ]
  },
  {
   "cell_type": "markdown",
   "metadata": {},
   "source": [
    "In meshio `cell data` is a dictionary. The `key` represents the element type and the `value` is again a dictionary. \n",
    "The dictionary of a particular element type house a key `gmsh:physical` for which the values represents the `number tag` of corresponding element defined in `cells`.  "
   ]
  },
  {
   "cell_type": "code",
   "execution_count": 5,
   "metadata": {
    "scrolled": false
   },
   "outputs": [
    {
     "data": {
      "text/plain": [
       "{'line': {'gmsh:physical': array([1, 1, 1, 1, 1, 1, 1, 1, 2, 2, 2, 2, 2, 2, 2, 2, 3, 3, 3, 3, 3, 3, 3,\n",
       "         3, 4, 4, 4, 4, 4, 4, 4, 4])},\n",
       " 'triangle': {'gmsh:physical': array([5, 5, 5, 5, 5, 5, 5, 5, 5, 5, 5, 5, 5, 5, 5, 5, 5, 5, 5, 5, 5, 5, 5,\n",
       "         5, 5, 5, 5, 5, 5, 5, 5, 5, 5, 5, 5, 5, 5, 5, 5, 5, 5, 5, 5, 5, 5, 5,\n",
       "         5, 5, 5, 5, 5, 5, 5, 5, 5, 5, 5, 5, 5, 5, 5, 5, 5, 5, 5, 5, 5, 5, 5,\n",
       "         5, 5, 5, 5, 5, 5, 5, 5, 5, 5, 5, 5, 5, 5, 5, 5, 5, 5, 5, 5, 5, 5, 5,\n",
       "         5, 5, 5, 5, 5, 5, 5, 5, 5, 5, 5, 5, 5, 5, 5, 5, 5, 5, 5, 5, 5, 5, 5,\n",
       "         5, 5, 5, 5, 5, 5, 5, 5, 5, 5, 5, 5, 5, 5, 5, 5, 5, 5, 5, 5, 5, 5, 5,\n",
       "         5, 5, 5, 5, 5, 5, 5, 5, 5, 5, 5, 5, 5, 5, 5, 5, 5, 5, 5, 5, 5, 5, 5,\n",
       "         5, 5, 5, 5, 5, 5, 5, 5, 5, 5, 5, 5, 5, 5, 5, 5, 5, 5, 5])}}"
      ]
     },
     "execution_count": 5,
     "metadata": {},
     "output_type": "execute_result"
    }
   ],
   "source": [
    "cell_data"
   ]
  },
  {
   "cell_type": "code",
   "execution_count": 6,
   "metadata": {},
   "outputs": [
    {
     "data": {
      "text/plain": [
       "array([[ 0.        ,  0.        ,  0.        ],\n",
       "       [ 1.        ,  0.        ,  0.        ],\n",
       "       [ 1.        ,  1.        ,  0.        ],\n",
       "       [ 0.        ,  1.        ,  0.        ],\n",
       "       [ 0.125     ,  0.        ,  0.        ],\n",
       "       [ 0.25      ,  0.        ,  0.        ],\n",
       "       [ 0.375     ,  0.        ,  0.        ],\n",
       "       [ 0.5       ,  0.        ,  0.        ],\n",
       "       [ 0.625     ,  0.        ,  0.        ],\n",
       "       [ 0.75      ,  0.        ,  0.        ],\n",
       "       [ 0.875     ,  0.        ,  0.        ],\n",
       "       [ 1.        ,  0.125     ,  0.        ],\n",
       "       [ 1.        ,  0.25      ,  0.        ],\n",
       "       [ 1.        ,  0.375     ,  0.        ],\n",
       "       [ 1.        ,  0.5       ,  0.        ],\n",
       "       [ 1.        ,  0.625     ,  0.        ],\n",
       "       [ 1.        ,  0.75      ,  0.        ],\n",
       "       [ 1.        ,  0.875     ,  0.        ],\n",
       "       [ 0.875     ,  1.        ,  0.        ],\n",
       "       [ 0.75      ,  1.        ,  0.        ],\n",
       "       [ 0.625     ,  1.        ,  0.        ],\n",
       "       [ 0.5       ,  1.        ,  0.        ],\n",
       "       [ 0.375     ,  1.        ,  0.        ],\n",
       "       [ 0.25      ,  1.        ,  0.        ],\n",
       "       [ 0.125     ,  1.        ,  0.        ],\n",
       "       [ 0.        ,  0.875     ,  0.        ],\n",
       "       [ 0.        ,  0.75      ,  0.        ],\n",
       "       [ 0.        ,  0.625     ,  0.        ],\n",
       "       [ 0.        ,  0.5       ,  0.        ],\n",
       "       [ 0.        ,  0.375     ,  0.        ],\n",
       "       [ 0.        ,  0.25      ,  0.        ],\n",
       "       [ 0.        ,  0.125     ,  0.        ],\n",
       "       [ 0.49027665,  0.50630545,  0.        ],\n",
       "       [ 0.29166667,  0.70833333,  0.        ],\n",
       "       [ 0.30972213,  0.30922128,  0.        ],\n",
       "       [ 0.71008853,  0.6876621 ,  0.        ],\n",
       "       [ 0.70874318,  0.29700904,  0.        ],\n",
       "       [ 0.5086064 ,  0.78852625,  0.        ],\n",
       "       [ 0.78990726,  0.49396475,  0.        ],\n",
       "       [ 0.49608971,  0.21306078,  0.        ],\n",
       "       [ 0.20515794,  0.50294996,  0.        ],\n",
       "       [ 0.16806799,  0.1700962 ,  0.        ],\n",
       "       [ 0.8299038 ,  0.16806799,  0.        ],\n",
       "       [ 0.83193201,  0.8299038 ,  0.        ],\n",
       "       [ 0.1700962 ,  0.83193201,  0.        ],\n",
       "       [ 0.57778162,  0.35111881,  0.        ],\n",
       "       [ 0.38279018,  0.43549042,  0.        ],\n",
       "       [ 0.56885059,  0.65243845,  0.        ],\n",
       "       [ 0.84260017,  0.36061227,  0.        ],\n",
       "       [ 0.36076546,  0.15367108,  0.        ],\n",
       "       [ 0.63413355,  0.15224533,  0.        ],\n",
       "       [ 0.83142658,  0.63025776,  0.        ],\n",
       "       [ 0.37078482,  0.82490795,  0.        ],\n",
       "       [ 0.15190247,  0.36582479,  0.        ],\n",
       "       [ 0.63923454,  0.84632892,  0.        ],\n",
       "       [ 0.15791527,  0.63982039,  0.        ],\n",
       "       [ 0.37547602,  0.57976464,  0.        ],\n",
       "       [ 0.62638953,  0.47457283,  0.        ],\n",
       "       [ 0.44072846,  0.32847865,  0.        ],\n",
       "       [ 0.43162021,  0.69220312,  0.        ],\n",
       "       [ 0.68402504,  0.58127764,  0.        ],\n",
       "       [ 0.534724  ,  0.10266371,  0.        ],\n",
       "       [ 0.90766639,  0.53673497,  0.        ],\n",
       "       [ 0.09432863,  0.46336527,  0.        ],\n",
       "       [ 0.46398778,  0.90608646,  0.        ],\n",
       "       [ 0.72119173,  0.40366964,  0.        ],\n",
       "       [ 0.26561552,  0.59788645,  0.        ],\n",
       "       [ 0.90000576,  0.26526336,  0.        ],\n",
       "       [ 0.73471111,  0.90062722,  0.        ],\n",
       "       [ 0.26528889,  0.09937278,  0.        ],\n",
       "       [ 0.10008014,  0.73480875,  0.        ],\n",
       "       [ 0.26822428,  0.89602319,  0.        ],\n",
       "       [ 0.10121615,  0.2676338 ,  0.        ],\n",
       "       [ 0.73236124,  0.10125697,  0.        ],\n",
       "       [ 0.89915533,  0.72891291,  0.        ],\n",
       "       [ 0.61545227,  0.74696029,  0.        ],\n",
       "       [ 0.61298753,  0.25189881,  0.        ],\n",
       "       [ 0.26029124,  0.40086143,  0.        ],\n",
       "       [ 0.47433676,  0.59924807,  0.        ],\n",
       "       [ 0.91373159,  0.44130731,  0.        ],\n",
       "       [ 0.44132678,  0.08696589,  0.        ],\n",
       "       [ 0.5589216 ,  0.91378755,  0.        ],\n",
       "       [ 0.08732764,  0.55569025,  0.        ],\n",
       "       [ 0.38482957,  0.25201853,  0.        ],\n",
       "       [ 0.09711512,  0.09711512,  0.        ],\n",
       "       [ 0.90288488,  0.09711512,  0.        ],\n",
       "       [ 0.09711512,  0.90288488,  0.        ],\n",
       "       [ 0.90288488,  0.90288488,  0.        ],\n",
       "       [ 0.2813914 ,  0.21077903,  0.        ],\n",
       "       [ 0.80019172,  0.25812541,  0.        ],\n",
       "       [ 0.20001052,  0.74304402,  0.        ],\n",
       "       [ 0.72195734,  0.78853134,  0.        ],\n",
       "       [ 0.29786618,  0.50339058,  0.        ],\n",
       "       [ 0.71970946,  0.2010001 ,  0.        ],\n",
       "       [ 0.21209856,  0.28740275,  0.        ],\n",
       "       [ 0.2601565 ,  0.8008481 ,  0.        ],\n",
       "       [ 0.79891196,  0.73305358,  0.        ],\n",
       "       [ 0.57304282,  0.55591205,  0.        ],\n",
       "       [ 0.49315755,  0.4099621 ,  0.        ],\n",
       "       [ 0.1810944 ,  0.07331682,  0.        ],\n",
       "       [ 0.92655889,  0.1810893 ,  0.        ],\n",
       "       [ 0.07345829,  0.81892513,  0.        ],\n",
       "       [ 0.8189056 ,  0.92668318,  0.        ],\n",
       "       [ 0.18208712,  0.92616801,  0.        ],\n",
       "       [ 0.92679444,  0.81734032,  0.        ],\n",
       "       [ 0.07327985,  0.18196902,  0.        ],\n",
       "       [ 0.81802998,  0.07328802,  0.        ]])"
      ]
     },
     "execution_count": 6,
     "metadata": {},
     "output_type": "execute_result"
    }
   ],
   "source": [
    "points"
   ]
  },
  {
   "cell_type": "code",
   "execution_count": 7,
   "metadata": {},
   "outputs": [
    {
     "data": {
      "text/plain": [
       "(180, 3)"
      ]
     },
     "execution_count": 7,
     "metadata": {},
     "output_type": "execute_result"
    }
   ],
   "source": [
    "cells['triangle'].shape"
   ]
  },
  {
   "cell_type": "code",
   "execution_count": 8,
   "metadata": {
    "scrolled": true
   },
   "outputs": [
    {
     "data": {
      "text/plain": [
       "{'line': array([[ 0,  4],\n",
       "        [ 4,  5],\n",
       "        [ 5,  6],\n",
       "        [ 6,  7],\n",
       "        [ 7,  8],\n",
       "        [ 8,  9],\n",
       "        [ 9, 10],\n",
       "        [10,  1],\n",
       "        [ 1, 11],\n",
       "        [11, 12],\n",
       "        [12, 13],\n",
       "        [13, 14],\n",
       "        [14, 15],\n",
       "        [15, 16],\n",
       "        [16, 17],\n",
       "        [17,  2],\n",
       "        [ 2, 18],\n",
       "        [18, 19],\n",
       "        [19, 20],\n",
       "        [20, 21],\n",
       "        [21, 22],\n",
       "        [22, 23],\n",
       "        [23, 24],\n",
       "        [24,  3],\n",
       "        [ 3, 25],\n",
       "        [25, 26],\n",
       "        [26, 27],\n",
       "        [27, 28],\n",
       "        [28, 29],\n",
       "        [29, 30],\n",
       "        [30, 31],\n",
       "        [31,  0]]), 'triangle': array([[ 32,  56,  46],\n",
       "        [ 37,  59,  47],\n",
       "        [ 34,  58,  46],\n",
       "        [ 52,  59,  37],\n",
       "        [ 33,  59,  52],\n",
       "        [ 51,  60,  38],\n",
       "        [ 35,  60,  51],\n",
       "        [ 36,  65,  45],\n",
       "        [ 59,  78,  47],\n",
       "        [ 51,  96,  35],\n",
       "        [ 52,  95,  33],\n",
       "        [ 22,  71,  52],\n",
       "        [ 29,  72,  53],\n",
       "        [ 15,  74,  51],\n",
       "        [  8,  73,  50],\n",
       "        [ 54,  68,  20],\n",
       "        [ 49,  69,   6],\n",
       "        [ 48,  67,  13],\n",
       "        [ 55,  70,  27],\n",
       "        [ 32,  98,  57],\n",
       "        [ 57,  98,  45],\n",
       "        [ 45,  65,  57],\n",
       "        [ 55,  82,  40],\n",
       "        [ 49,  80,  39],\n",
       "        [ 48,  79,  38],\n",
       "        [ 54,  81,  37],\n",
       "        [ 47,  60,  35],\n",
       "        [ 50,  61,   8],\n",
       "        [ 51,  62,  15],\n",
       "        [ 52,  64,  22],\n",
       "        [ 53,  63,  29],\n",
       "        [ 34,  83,  58],\n",
       "        [ 45,  58,  39],\n",
       "        [ 16,  74,  15],\n",
       "        [  9,  73,   8],\n",
       "        [ 23,  71,  22],\n",
       "        [ 30,  72,  29],\n",
       "        [  6,  69,   5],\n",
       "        [ 13,  67,  12],\n",
       "        [ 20,  68,  19],\n",
       "        [ 27,  70,  26],\n",
       "        [ 56,  92,  46],\n",
       "        [ 48,  65,  36],\n",
       "        [ 38,  65,  48],\n",
       "        [ 46,  98,  32],\n",
       "        [ 13,  79,  48],\n",
       "        [ 20,  81,  54],\n",
       "        [ 27,  82,  55],\n",
       "        [  6,  80,  49],\n",
       "        [ 35,  75,  47],\n",
       "        [ 46,  77,  34],\n",
       "        [ 45,  76,  36],\n",
       "        [ 47,  75,  37],\n",
       "        [ 39,  76,  45],\n",
       "        [ 40,  63,  53],\n",
       "        [ 37,  64,  52],\n",
       "        [ 38,  62,  51],\n",
       "        [ 39,  61,  50],\n",
       "        [ 55,  66,  33],\n",
       "        [ 40,  66,  55],\n",
       "        [ 56,  59,  33],\n",
       "        [ 33,  90,  55],\n",
       "        [ 36,  89,  48],\n",
       "        [ 39,  83,  49],\n",
       "        [ 50,  76,  39],\n",
       "        [ 37,  75,  54],\n",
       "        [ 53,  77,  40],\n",
       "        [ 38,  79,  62],\n",
       "        [ 37,  81,  64],\n",
       "        [ 39,  80,  61],\n",
       "        [ 40,  82,  63],\n",
       "        [ 32,  78,  56],\n",
       "        [ 33,  66,  56],\n",
       "        [ 75,  91,  54],\n",
       "        [  8,  61,   7],\n",
       "        [ 15,  62,  14],\n",
       "        [ 29,  63,  28],\n",
       "        [ 22,  64,  21],\n",
       "        [ 35,  91,  75],\n",
       "        [ 38,  60,  57],\n",
       "        [ 57,  65,  38],\n",
       "        [ 57,  97,  32],\n",
       "        [  3,  86,  24],\n",
       "        [  0,  84,  31],\n",
       "        [ 11,  85,   1],\n",
       "        [  2,  87,  17],\n",
       "        [  4,  84,   0],\n",
       "        [  1,  85,  10],\n",
       "        [ 18,  87,   2],\n",
       "        [ 25,  86,   3],\n",
       "        [ 47,  97,  60],\n",
       "        [ 83,  88,  49],\n",
       "        [ 58,  98,  46],\n",
       "        [ 34,  88,  83],\n",
       "        [ 58,  83,  39],\n",
       "        [ 60,  97,  57],\n",
       "        [ 77,  92,  40],\n",
       "        [ 56,  78,  59],\n",
       "        [ 46,  92,  77],\n",
       "        [ 76,  93,  36],\n",
       "        [ 53,  94,  77],\n",
       "        [ 77,  94,  34],\n",
       "        [ 50,  93,  76],\n",
       "        [ 14,  79,  13],\n",
       "        [  7,  80,   6],\n",
       "        [ 21,  81,  20],\n",
       "        [ 28,  82,  27],\n",
       "        [ 45,  98,  58],\n",
       "        [  5,  99,   4],\n",
       "        [ 12, 100,  11],\n",
       "        [ 24, 103,  23],\n",
       "        [ 31, 105,  30],\n",
       "        [ 10, 106,   9],\n",
       "        [ 17, 104,  16],\n",
       "        [ 19, 102,  18],\n",
       "        [ 26, 101,  25],\n",
       "        [ 61,  80,   7],\n",
       "        [ 62,  79,  14],\n",
       "        [ 63,  82,  28],\n",
       "        [ 64,  81,  21],\n",
       "        [ 54,  91,  68],\n",
       "        [ 49,  88,  69],\n",
       "        [ 48,  89,  67],\n",
       "        [ 55,  90,  70],\n",
       "        [ 41,  94,  72],\n",
       "        [ 42,  93,  73],\n",
       "        [ 43,  96,  74],\n",
       "        [ 44,  95,  71],\n",
       "        [ 32,  97,  78],\n",
       "        [ 78,  97,  47],\n",
       "        [ 91,  96,  43],\n",
       "        [ 90,  95,  44],\n",
       "        [ 88,  94,  41],\n",
       "        [ 89,  93,  42],\n",
       "        [ 40,  92,  66],\n",
       "        [ 66,  92,  56],\n",
       "        [ 42, 100,  67],\n",
       "        [ 41,  99,  69],\n",
       "        [ 44, 101,  70],\n",
       "        [ 43, 102,  68],\n",
       "        [ 72, 105,  41],\n",
       "        [ 73, 106,  42],\n",
       "        [ 71, 103,  44],\n",
       "        [ 74, 104,  43],\n",
       "        [ 69,  88,  41],\n",
       "        [ 70,  90,  44],\n",
       "        [ 67,  89,  42],\n",
       "        [ 68,  91,  43],\n",
       "        [ 70, 101,  26],\n",
       "        [ 16, 104,  74],\n",
       "        [ 69,  99,   5],\n",
       "        [ 68, 102,  19],\n",
       "        [ 23, 103,  71],\n",
       "        [ 67, 100,  12],\n",
       "        [  9, 106,  73],\n",
       "        [ 30, 105,  72],\n",
       "        [ 73,  93,  50],\n",
       "        [ 72,  94,  53],\n",
       "        [ 74,  96,  51],\n",
       "        [ 71,  95,  52],\n",
       "        [ 85, 100,  42],\n",
       "        [ 86, 101,  44],\n",
       "        [ 87, 102,  43],\n",
       "        [ 84,  99,  41],\n",
       "        [ 43, 104,  87],\n",
       "        [ 44, 103,  86],\n",
       "        [ 42, 106,  85],\n",
       "        [ 41, 105,  84],\n",
       "        [ 33,  95,  90],\n",
       "        [ 35,  96,  91],\n",
       "        [ 36,  93,  89],\n",
       "        [ 34,  94,  88],\n",
       "        [  4,  99,  84],\n",
       "        [ 25, 101,  86],\n",
       "        [ 11, 100,  85],\n",
       "        [ 18, 102,  87],\n",
       "        [ 85, 106,  10],\n",
       "        [ 84, 105,  31],\n",
       "        [ 86, 103,  24],\n",
       "        [ 87, 104,  17]])}"
      ]
     },
     "execution_count": 8,
     "metadata": {},
     "output_type": "execute_result"
    }
   ],
   "source": [
    "cells"
   ]
  },
  {
   "cell_type": "markdown",
   "metadata": {},
   "source": [
    "### Creating the actual mesh of triangles"
   ]
  },
  {
   "cell_type": "code",
   "execution_count": 9,
   "metadata": {},
   "outputs": [],
   "source": [
    "meshio.write(\"Models/tag_triangle.xdmf\", meshio.Mesh(\n",
    "    points=points,\n",
    "    cells={\"triangle\": cells[\"triangle\"]}))"
   ]
  },
  {
   "cell_type": "markdown",
   "metadata": {},
   "source": [
    "### Creating a XDMF file of tagged boundary to be read by MeshValueCollection"
   ]
  },
  {
   "cell_type": "markdown",
   "metadata": {},
   "source": [
    "The command below would make an array of all the tags related to line"
   ]
  },
  {
   "cell_type": "code",
   "execution_count": 10,
   "metadata": {},
   "outputs": [],
   "source": [
    "line_tags=cell_data[\"line\"][\"gmsh:physical\"]"
   ]
  },
  {
   "cell_type": "markdown",
   "metadata": {},
   "source": [
    "Now we can use the above created array to extract the line data corresponding to a certain tag from `cells`"
   ]
  },
  {
   "cell_type": "code",
   "execution_count": 11,
   "metadata": {},
   "outputs": [
    {
     "data": {
      "text/plain": [
       "array([[ 0,  4],\n",
       "       [ 4,  5],\n",
       "       [ 5,  6],\n",
       "       [ 6,  7],\n",
       "       [ 7,  8],\n",
       "       [ 8,  9],\n",
       "       [ 9, 10],\n",
       "       [10,  1]])"
      ]
     },
     "execution_count": 11,
     "metadata": {},
     "output_type": "execute_result"
    }
   ],
   "source": [
    "cells[\"line\"][line_tags==field_data[\"bottom\"][0]] "
   ]
  },
  {
   "cell_type": "code",
   "execution_count": 12,
   "metadata": {},
   "outputs": [],
   "source": [
    "meshio.write(\"Models/tag_bottom.xdmf\", meshio.Mesh(\n",
    "    points=points,\n",
    "    cells={\"line\": cells[\"line\"][line_tags==field_data[\"bottom\"][0]]},# put data corresponding to that tag\n",
    "    cell_data={\"line\": {\"bottom\": line_tags[line_tags==field_data[\"bottom\"][0]]}}\n",
    "))"
   ]
  },
  {
   "cell_type": "code",
   "execution_count": 13,
   "metadata": {},
   "outputs": [],
   "source": [
    "meshio.write(\"Models/tag_all.xdmf\", meshio.Mesh(\n",
    "    points=points,\n",
    "    cells={\"line\": cells[\"line\"]},\n",
    "    cell_data={\"line\": {\"all_tags\": line_tags}}\n",
    "))"
   ]
  },
  {
   "cell_type": "markdown",
   "metadata": {},
   "source": [
    "# Step 3: Reading mesh in dolfinx"
   ]
  },
  {
   "cell_type": "code",
   "execution_count": 14,
   "metadata": {},
   "outputs": [],
   "source": [
    "import dolfin\n",
    "import dolfin.io"
   ]
  },
  {
   "cell_type": "code",
   "execution_count": 15,
   "metadata": {},
   "outputs": [],
   "source": [
    "mesh_2d = dolfin.UnitIntervalMesh(dolfin.MPI.comm_world, 2)\n",
    "with dolfin.io.XDMFFile(dolfin.MPI.comm_world,\"Models/tag_triangle.xdmf\") as xdmf_infile:\n",
    "    mesh_2d = xdmf_infile.read_mesh(dolfin.MPI.comm_world, dolfin.cpp.mesh.GhostMode.none)"
   ]
  },
  {
   "cell_type": "code",
   "execution_count": 16,
   "metadata": {},
   "outputs": [],
   "source": [
    "import dolfin.plotting as plt\n",
    "%matplotlib inline"
   ]
  },
  {
   "cell_type": "code",
   "execution_count": 17,
   "metadata": {
    "scrolled": true
   },
   "outputs": [
    {
     "data": {
      "text/plain": [
       "<mpl_toolkits.mplot3d.art3d.Poly3DCollection at 0x7f0e02dc4470>"
      ]
     },
     "execution_count": 17,
     "metadata": {},
     "output_type": "execute_result"
    },
    {
     "data": {
      "image/png": "[encoded data removed]",
      "text/plain": [
       "<matplotlib.figure.Figure at 0x7f0e04e1e828>"
      ]
     },
     "metadata": {
      "needs_background": "light"
     },
     "output_type": "display_data"
    }
   ],
   "source": [
    "plt.plot(mesh_2d)"
   ]
  },
  {
   "cell_type": "markdown",
   "metadata": {},
   "source": [
    "# MeshValueCollection\n",
    "The MeshValueCollection class can be used to store data associated with a subset of the entities of a mesh of a given topological dimension. It differs from the MeshFunction class in two ways. First, data does not need to be associated with all entities (only a subset). Second, data is associated with entities through the corresponding cell index and local entity number (relative to the cell), not by global entity index, which means that data may be stored robustly to file."
   ]
  },
  {
   "cell_type": "code",
   "execution_count": 18,
   "metadata": {},
   "outputs": [],
   "source": [
    "mvc = dolfin.MeshValueCollection(\"size_t\", mesh_2d, 1) #The mesh entity dimension for the mesh value collection."
   ]
  },
  {
   "cell_type": "markdown",
   "metadata": {},
   "source": [
    "## Reading 1d line data into dolfin mvc\n",
    "\n",
    "tag_bottom.xdmf file has the table that tells which lines correspond to the tag bottom. It does so by specifying the node number of the end points of line. \n",
    "\n",
    "When we give this to read_mvc along with the complete mesh of triangles it reads the point data from mesh_2d, creates the node--line table and marks the elemets corresponding to bottom"
   ]
  },
  {
   "cell_type": "code",
   "execution_count": 19,
   "metadata": {},
   "outputs": [],
   "source": [
    "with dolfin.io.XDMFFile(dolfin.MPI.comm_world,\"Models/tag_bottom.xdmf\") as xdmf_infile:\n",
    "    mvc = xdmf_infile.read_mvc_size_t(mesh_2d,\"bottom\")"
   ]
  },
  {
   "cell_type": "code",
   "execution_count": 20,
   "metadata": {},
   "outputs": [],
   "source": [
    "with dolfin.io.XDMFFile(dolfin.MPI.comm_world,\"Models/tag_all.xdmf\") as xdmf_infile:\n",
    "    mvc_all = xdmf_infile.read_mvc_size_t(mesh_2d,\"all_tags\")"
   ]
  },
  {
   "cell_type": "code",
   "execution_count": 21,
   "metadata": {},
   "outputs": [
    {
     "data": {
      "text/plain": [
       "{(34, 1): 1,\n",
       " (37, 1): 1,\n",
       " (74, 1): 1,\n",
       " (86, 1): 1,\n",
       " (87, 1): 1,\n",
       " (104, 1): 1,\n",
       " (108, 1): 1,\n",
       " (112, 1): 1}"
      ]
     },
     "execution_count": 21,
     "metadata": {},
     "output_type": "execute_result"
    }
   ],
   "source": [
    "mvc.values()"
   ]
  },
  {
   "cell_type": "code",
   "execution_count": 22,
   "metadata": {},
   "outputs": [
    {
     "name": "stdout",
     "output_type": "stream",
     "text": [
      "Constructing MeshFunction from MeshValueCollection\n"
     ]
    }
   ],
   "source": [
    "print(\"Constructing MeshFunction from MeshValueCollection\")\n",
    "mf = dolfin.cpp.mesh.MeshFunctionSizet(mesh_2d, mvc_all, 0) # 0=default value for mf"
   ]
  },
  {
   "cell_type": "code",
   "execution_count": 23,
   "metadata": {
    "scrolled": false
   },
   "outputs": [
    {
     "data": {
      "text/plain": [
       "array([0, 0, 0, 0, 0, 0, 0, 0, 0, 0, 0, 0, 0, 0, 0, 0, 0, 0, 0, 0, 0, 0, 0,\n",
       "       0, 0, 0, 0, 0, 0, 0, 0, 0, 0, 0, 0, 0, 0, 0, 0, 0, 0, 0, 0, 0, 0, 0,\n",
       "       0, 0, 0, 0, 0, 0, 0, 0, 0, 0, 0, 0, 0, 0, 0, 0, 0, 0, 0, 0, 0, 0, 0,\n",
       "       0, 0, 0, 0, 0, 0, 0, 0, 0, 0, 0, 0, 0, 0, 0, 0, 0, 0, 0, 0, 0, 0, 0,\n",
       "       3, 3, 0, 0, 0, 0, 0, 0, 4, 4, 0, 0, 0, 0, 0, 0, 0, 0, 0, 0, 0, 2, 2,\n",
       "       0, 0, 0, 0, 0, 0, 1, 1, 0, 0, 0, 0, 0, 0, 0, 0, 0, 0, 0, 0, 0, 0, 0,\n",
       "       0, 0, 0, 0, 0, 3, 3, 0, 0, 0, 0, 0, 0, 0, 0, 0, 0, 0, 0, 1, 1, 0, 0,\n",
       "       0, 0, 0, 0, 0, 0, 0, 0, 2, 2, 0, 0, 0, 0, 0, 0, 0, 0, 0, 0, 0, 0, 4,\n",
       "       4, 0, 0, 0, 0, 0, 0, 0, 0, 0, 0, 0, 0, 0, 0, 0, 0, 0, 0, 0, 0, 0, 0,\n",
       "       0, 0, 2, 0, 1, 0, 3, 0, 4, 0, 1, 0, 2, 0, 3, 0, 4, 0, 0, 0, 0, 0, 0,\n",
       "       0, 0, 0, 0, 0, 3, 4, 0, 0, 0, 0, 0, 0, 0, 4, 1, 0, 0, 0, 0, 0, 0, 0,\n",
       "       2, 0, 0, 0, 0, 0, 0, 1, 0, 2, 3, 0, 0, 0, 0, 0, 0, 0, 0, 0, 0, 0, 0,\n",
       "       0, 0, 0, 0, 0, 0, 0, 0, 0, 0], dtype=uint64)"
      ]
     },
     "execution_count": 23,
     "metadata": {},
     "output_type": "execute_result"
    }
   ],
   "source": [
    "mf.array()"
   ]
  },
  {
   "cell_type": "code",
   "execution_count": 24,
   "metadata": {},
   "outputs": [
    {
     "data": {
      "text/plain": [
       "286"
      ]
     },
     "execution_count": 24,
     "metadata": {},
     "output_type": "execute_result"
    }
   ],
   "source": [
    "mf.array().size"
   ]
  },
  {
   "cell_type": "code",
   "execution_count": 25,
   "metadata": {},
   "outputs": [
    {
     "data": {
      "text/plain": [
       "107"
      ]
     },
     "execution_count": 25,
     "metadata": {},
     "output_type": "execute_result"
    }
   ],
   "source": [
    "mesh_2d.num_entities(0) #Points"
   ]
  },
  {
   "cell_type": "code",
   "execution_count": 26,
   "metadata": {},
   "outputs": [
    {
     "data": {
      "text/plain": [
       "286"
      ]
     },
     "execution_count": 26,
     "metadata": {},
     "output_type": "execute_result"
    }
   ],
   "source": [
    "mesh_2d.num_entities(1) #Edges"
   ]
  },
  {
   "cell_type": "code",
   "execution_count": 27,
   "metadata": {},
   "outputs": [
    {
     "data": {
      "text/plain": [
       "180"
      ]
     },
     "execution_count": 27,
     "metadata": {},
     "output_type": "execute_result"
    }
   ],
   "source": [
    "mesh_2d.num_entities(2) #faces/triangles"
   ]
  },
  {
   "cell_type": "code",
   "execution_count": 28,
   "metadata": {},
   "outputs": [],
   "source": [
    "edge=MeshEntity(mesh_2d,1,104)"
   ]
  },
  {
   "cell_type": "code",
   "execution_count": 29,
   "metadata": {
    "scrolled": true
   },
   "outputs": [],
   "source": [
    "#help(edge)"
   ]
  },
  {
   "cell_type": "code",
   "execution_count": 30,
   "metadata": {},
   "outputs": [],
   "source": [
    "entity=MeshEntities(mesh_2d,1)"
   ]
  },
  {
   "cell_type": "code",
   "execution_count": 31,
   "metadata": {},
   "outputs": [],
   "source": [
    "edge_table=[]\n",
    "for en in entity:\n",
    "    edge_table.append(en.entities(0))"
   ]
  },
  {
   "cell_type": "code",
   "execution_count": 32,
   "metadata": {},
   "outputs": [
    {
     "data": {
      "text/plain": [
       "array([56, 27], dtype=int32)"
      ]
     },
     "execution_count": 32,
     "metadata": {},
     "output_type": "execute_result"
    }
   ],
   "source": [
    "edge_table[121]"
   ]
  },
  {
   "cell_type": "code",
   "execution_count": 33,
   "metadata": {},
   "outputs": [
    {
     "data": {
      "text/plain": [
       "{(34, 1): 1,\n",
       " (37, 1): 1,\n",
       " (74, 1): 1,\n",
       " (86, 1): 1,\n",
       " (87, 1): 1,\n",
       " (104, 1): 1,\n",
       " (108, 1): 1,\n",
       " (112, 1): 1}"
      ]
     },
     "execution_count": 33,
     "metadata": {},
     "output_type": "execute_result"
    }
   ],
   "source": [
    "mvc.values()"
   ]
  },
  {
   "cell_type": "code",
   "execution_count": 34,
   "metadata": {
    "scrolled": true
   },
   "outputs": [
    {
     "data": {
      "text/plain": [
       "[121, 122, 157, 158, 211, 217, 245, 260]"
      ]
     },
     "execution_count": 34,
     "metadata": {},
     "output_type": "execute_result"
    }
   ],
   "source": [
    "mf.where_equal(1)"
   ]
  },
  {
   "cell_type": "code",
   "execution_count": 35,
   "metadata": {
    "scrolled": true
   },
   "outputs": [
    {
     "data": {
      "text/plain": [
       "array([56, 28, 27], dtype=int32)"
      ]
     },
     "execution_count": 35,
     "metadata": {},
     "output_type": "execute_result"
    }
   ],
   "source": [
    "mesh_2d.cells()[34]"
   ]
  },
  {
   "cell_type": "code",
   "execution_count": 36,
   "metadata": {},
   "outputs": [],
   "source": [
    "vertex=Vertex(mesh_2d,58)"
   ]
  },
  {
   "cell_type": "code",
   "execution_count": 37,
   "metadata": {},
   "outputs": [
    {
     "data": {
      "text/plain": [
       "array([ 0.  ,  0.25,  0.  ])"
      ]
     },
     "execution_count": 37,
     "metadata": {},
     "output_type": "execute_result"
    }
   ],
   "source": [
    "vertex.point()"
   ]
  },
  {
   "cell_type": "code",
   "execution_count": 38,
   "metadata": {},
   "outputs": [
    {
     "data": {
      "text/plain": [
       "array([58], dtype=int32)"
      ]
     },
     "execution_count": 38,
     "metadata": {},
     "output_type": "execute_result"
    }
   ],
   "source": [
    "vertex.entities(0)"
   ]
  },
  {
   "cell_type": "code",
   "execution_count": 39,
   "metadata": {},
   "outputs": [
    {
     "name": "stdout",
     "output_type": "stream",
     "text": [
      "[0]\n",
      "[1]\n",
      "[2]\n",
      "[3]\n",
      "[4]\n",
      "[5]\n",
      "[6]\n",
      "[7]\n",
      "[8]\n",
      "[9]\n",
      "[10]\n",
      "[11]\n",
      "[12]\n",
      "[13]\n",
      "[14]\n",
      "[15]\n",
      "[16]\n",
      "[17]\n",
      "[18]\n",
      "[19]\n",
      "[20]\n",
      "[21]\n",
      "[22]\n",
      "[23]\n",
      "[24]\n",
      "[25]\n",
      "[26]\n",
      "[27]\n",
      "[28]\n",
      "[29]\n",
      "[30]\n",
      "[31]\n",
      "[32]\n",
      "[33]\n",
      "[34]\n",
      "[35]\n",
      "[36]\n",
      "[37]\n",
      "[38]\n",
      "[39]\n",
      "[40]\n",
      "[41]\n",
      "[42]\n",
      "[43]\n",
      "[44]\n",
      "[45]\n",
      "[46]\n",
      "[47]\n",
      "[48]\n",
      "[49]\n",
      "[50]\n",
      "[51]\n",
      "[52]\n",
      "[53]\n",
      "[54]\n",
      "[55]\n",
      "[56]\n",
      "[57]\n",
      "[58]\n",
      "[59]\n",
      "[60]\n",
      "[61]\n",
      "[62]\n",
      "[63]\n",
      "[64]\n",
      "[65]\n",
      "[66]\n",
      "[67]\n",
      "[68]\n",
      "[69]\n",
      "[70]\n",
      "[71]\n",
      "[72]\n",
      "[73]\n",
      "[74]\n",
      "[75]\n",
      "[76]\n",
      "[77]\n",
      "[78]\n",
      "[79]\n",
      "[80]\n",
      "[81]\n",
      "[82]\n",
      "[83]\n",
      "[84]\n",
      "[85]\n",
      "[86]\n",
      "[87]\n",
      "[88]\n",
      "[89]\n",
      "[90]\n",
      "[91]\n",
      "[92]\n",
      "[93]\n",
      "[94]\n",
      "[95]\n",
      "[96]\n",
      "[97]\n",
      "[98]\n",
      "[99]\n",
      "[100]\n",
      "[101]\n",
      "[102]\n",
      "[103]\n",
      "[104]\n",
      "[105]\n",
      "[106]\n"
     ]
    }
   ],
   "source": [
    "for ve in Vertices(mesh_2d):\n",
    "    print(ve.entities(0))"
   ]
  },
  {
   "cell_type": "code",
   "execution_count": 40,
   "metadata": {},
   "outputs": [
    {
     "data": {
      "text/plain": [
       "286"
      ]
     },
     "execution_count": 40,
     "metadata": {},
     "output_type": "execute_result"
    }
   ],
   "source": [
    "mf.size()"
   ]
  },
  {
   "cell_type": "code",
   "execution_count": 41,
   "metadata": {},
   "outputs": [
    {
     "data": {
      "text/plain": [
       "286"
      ]
     },
     "execution_count": 41,
     "metadata": {},
     "output_type": "execute_result"
    }
   ],
   "source": [
    "mesh_2d.topology.size(1)"
   ]
  },
  {
   "cell_type": "code",
   "execution_count": 42,
   "metadata": {},
   "outputs": [
    {
     "data": {
      "text/plain": [
       "2"
      ]
     },
     "execution_count": 42,
     "metadata": {},
     "output_type": "execute_result"
    }
   ],
   "source": [
    "D=mesh_2d.topology.dim\n",
    "D"
   ]
  },
  {
   "cell_type": "code",
   "execution_count": 43,
   "metadata": {},
   "outputs": [],
   "source": [
    "mesh_2d.create_connectivity(1,2)# connectivity in a 2d geo of lines"
   ]
  },
  {
   "cell_type": "code",
   "execution_count": 44,
   "metadata": {},
   "outputs": [],
   "source": [
    "connectivity=mesh_2d.topology.connectivity(1,2)"
   ]
  },
  {
   "cell_type": "code",
   "execution_count": 45,
   "metadata": {},
   "outputs": [
    {
     "name": "stdout",
     "output_type": "stream",
     "text": [
      "0\n",
      "71\n",
      "0\n",
      "44\n",
      "71\n",
      "128\n",
      "19\n",
      "44\n",
      "19\n",
      "81\n",
      "81\n",
      "128\n",
      "0\n",
      "41\n",
      "60\n",
      "97\n",
      "60\n",
      "72\n",
      "71\n",
      "97\n",
      "41\n",
      "135\n",
      "72\n",
      "135\n",
      "2\n",
      "50\n",
      "2\n",
      "92\n",
      "44\n",
      "92\n",
      "41\n",
      "98\n",
      "50\n",
      "98\n",
      "1\n",
      "3\n",
      "1\n",
      "52\n",
      "3\n",
      "55\n",
      "25\n",
      "65\n",
      "25\n",
      "68\n",
      "55\n",
      "68\n",
      "52\n",
      "65\n",
      "1\n",
      "8\n",
      "3\n",
      "4\n",
      "4\n",
      "60\n",
      "8\n",
      "97\n",
      "26\n",
      "90\n",
      "26\n",
      "49\n",
      "8\n",
      "129\n",
      "49\n",
      "52\n",
      "90\n",
      "129\n",
      "2\n",
      "31\n",
      "31\n",
      "93\n",
      "50\n",
      "101\n",
      "93\n",
      "171\n",
      "101\n",
      "171\n",
      "32\n",
      "107\n",
      "92\n",
      "107\n",
      "32\n",
      "94\n",
      "31\n",
      "94\n",
      "4\n",
      "10\n",
      "10\n",
      "159\n",
      "11\n",
      "29\n",
      "11\n",
      "159\n",
      "29\n",
      "55\n",
      "10\n",
      "168\n",
      "58\n",
      "61\n",
      "58\n",
      "72\n",
      "61\n",
      "168\n",
      "5\n",
      "6\n",
      "5\n",
      "56\n",
      "6\n",
      "9\n",
      "9\n",
      "158\n",
      "13\n",
      "28\n",
      "13\n",
      "158\n",
      "28\n",
      "56\n",
      "5\n",
      "79\n",
      "6\n",
      "26\n",
      "79\n",
      "95\n",
      "90\n",
      "95\n",
      "43\n",
      "80\n",
      "24\n",
      "43\n",
      "79\n",
      "80\n",
      "24\n",
      "67\n",
      "56\n",
      "67\n",
      "9\n",
      "169\n",
      "49\n",
      "78\n",
      "78\n",
      "169\n",
      "7\n",
      "42\n",
      "7\n",
      "51\n",
      "42\n",
      "62\n",
      "51\n",
      "99\n",
      "62\n",
      "170\n",
      "99\n",
      "170\n",
      "7\n",
      "21\n",
      "42\n",
      "43\n",
      "21\n",
      "80\n",
      "20\n",
      "107\n",
      "20\n",
      "21\n",
      "32\n",
      "53\n",
      "51\n",
      "53\n",
      "128\n",
      "129\n",
      "126\n",
      "158\n",
      "130\n",
      "169\n",
      "126\n",
      "130\n",
      "127\n",
      "159\n",
      "131\n",
      "168\n",
      "127\n",
      "131\n",
      "11\n",
      "35\n",
      "29\n",
      "77\n",
      "35\n",
      "77\n",
      "35\n",
      "152\n",
      "142\n",
      "152\n",
      "127\n",
      "142\n",
      "12\n",
      "36\n",
      "12\n",
      "30\n",
      "30\n",
      "76\n",
      "36\n",
      "76\n",
      "12\n",
      "157\n",
      "36\n",
      "155\n",
      "124\n",
      "157\n",
      "140\n",
      "155\n",
      "124\n",
      "140\n",
      "54\n",
      "66\n",
      "30\n",
      "54\n",
      "66\n",
      "100\n",
      "100\n",
      "157\n",
      "13\n",
      "33\n",
      "28\n",
      "75\n",
      "33\n",
      "75\n",
      "33\n",
      "149\n",
      "143\n",
      "149\n",
      "126\n",
      "143\n",
      "14\n",
      "34\n",
      "14\n",
      "27\n",
      "27\n",
      "74\n",
      "34\n",
      "74\n",
      "14\n",
      "156\n",
      "34\n",
      "154\n",
      "125\n",
      "156\n",
      "141\n",
      "154\n",
      "125\n",
      "141\n",
      "57\n",
      "64\n",
      "27\n",
      "57\n",
      "64\n",
      "102\n",
      "102\n",
      "156\n",
      "15\n",
      "120\n",
      "15\n",
      "46\n",
      "25\n",
      "46\n",
      "65\n",
      "73\n",
      "73\n",
      "120\n",
      "15\n",
      "39\n",
      "39\n",
      "151\n",
      "120\n",
      "147\n",
      "139\n",
      "151\n",
      "139\n",
      "147\n",
      "46\n",
      "105\n",
      "39\n",
      "105\n",
      "16\n",
      "121\n",
      "16\n",
      "48\n",
      "23\n",
      "48\n",
      "23\n",
      "63\n",
      "63\n",
      "91\n",
      "91\n",
      "121\n",
      "16\n",
      "37\n",
      "37\n",
      "150\n",
      "121\n",
      "144\n",
      "137\n",
      "150\n",
      "137\n",
      "144\n",
      "48\n",
      "104\n",
      "37\n",
      "104\n",
      "17\n",
      "122\n",
      "17\n",
      "45\n",
      "24\n",
      "45\n",
      "62\n",
      "122\n",
      "17\n",
      "38\n",
      "38\n",
      "153\n",
      "122\n",
      "146\n",
      "136\n",
      "153\n",
      "136\n",
      "146\n",
      "45\n",
      "103\n",
      "38\n",
      "103\n",
      "18\n",
      "123\n",
      "18\n",
      "47\n",
      "22\n",
      "47\n",
      "22\n",
      "59\n",
      "58\n",
      "59\n",
      "61\n",
      "123\n",
      "18\n",
      "40\n",
      "40\n",
      "148\n",
      "123\n",
      "145\n",
      "138\n",
      "148\n",
      "138\n",
      "145\n",
      "47\n",
      "106\n",
      "40\n",
      "106\n",
      "19\n",
      "20\n",
      "81\n",
      "95\n",
      "22\n",
      "70\n",
      "70\n",
      "118\n",
      "106\n",
      "118\n",
      "54\n",
      "70\n",
      "96\n",
      "134\n",
      "66\n",
      "96\n",
      "59\n",
      "134\n",
      "23\n",
      "69\n",
      "69\n",
      "116\n",
      "104\n",
      "116\n",
      "57\n",
      "69\n",
      "63\n",
      "94\n",
      "53\n",
      "64\n",
      "67\n",
      "117\n",
      "103\n",
      "117\n",
      "68\n",
      "119\n",
      "105\n",
      "119\n",
      "74\n",
      "116\n",
      "75\n",
      "117\n",
      "77\n",
      "119\n",
      "76\n",
      "118\n",
      "91\n",
      "93\n",
      "113\n",
      "113\n",
      "149\n",
      "112\n",
      "112\n",
      "154\n",
      "110\n",
      "110\n",
      "152\n",
      "111\n",
      "111\n",
      "155\n",
      "108\n",
      "108\n",
      "150\n",
      "109\n",
      "109\n",
      "153\n",
      "114\n",
      "114\n",
      "151\n",
      "115\n",
      "115\n",
      "148\n",
      "96\n",
      "98\n",
      "134\n",
      "135\n",
      "73\n",
      "78\n",
      "100\n",
      "101\n",
      "99\n",
      "102\n",
      "131\n",
      "145\n",
      "133\n",
      "170\n",
      "133\n",
      "146\n",
      "130\n",
      "147\n",
      "82\n",
      "89\n",
      "82\n",
      "89\n",
      "82\n",
      "178\n",
      "89\n",
      "173\n",
      "165\n",
      "178\n",
      "161\n",
      "173\n",
      "161\n",
      "165\n",
      "110\n",
      "178\n",
      "83\n",
      "86\n",
      "83\n",
      "86\n",
      "83\n",
      "177\n",
      "86\n",
      "172\n",
      "163\n",
      "172\n",
      "167\n",
      "177\n",
      "163\n",
      "167\n",
      "111\n",
      "177\n",
      "84\n",
      "174\n",
      "84\n",
      "109\n",
      "174\n",
      "84\n",
      "87\n",
      "87\n",
      "176\n",
      "160\n",
      "174\n",
      "166\n",
      "176\n",
      "160\n",
      "166\n",
      "87\n",
      "85\n",
      "88\n",
      "85\n",
      "88\n",
      "85\n",
      "179\n",
      "88\n",
      "175\n",
      "164\n",
      "179\n",
      "162\n",
      "175\n",
      "162\n",
      "164\n",
      "113\n",
      "179\n",
      "108\n",
      "172\n",
      "112\n",
      "176\n",
      "114\n",
      "175\n",
      "115\n",
      "173\n",
      "132\n",
      "171\n",
      "132\n",
      "144\n",
      "125\n",
      "133\n",
      "124\n",
      "132\n",
      "137\n",
      "163\n",
      "136\n",
      "160\n",
      "142\n",
      "165\n",
      "140\n",
      "167\n",
      "141\n",
      "166\n",
      "143\n",
      "164\n",
      "139\n",
      "162\n",
      "138\n",
      "161\n"
     ]
    }
   ],
   "source": [
    "\n",
    "for entity_index in range(mesh_2d.topology.size(1)):\n",
    "    if(connectivity.size(entity_index)>0):\n",
    "        entity = MeshEntity(mesh_2d, 1, entity_index)\n",
    "        for i in range(entity.num_entities(D)):\n",
    "            print( connectivity.connections(entity_index)[i])\n",
    "            #cell = Cell(mesh_2d, connectivity.connections(entity_index)[i])\n",
    "            #local_entity = cell.index()\n",
    "            #print(cell.index(),\";\",local_entity,\";\", mf[entity_index])\n",
    "        "
   ]
  },
  {
   "cell_type": "code",
   "execution_count": 46,
   "metadata": {},
   "outputs": [
    {
     "data": {
      "text/plain": [
       "2"
      ]
     },
     "execution_count": 46,
     "metadata": {},
     "output_type": "execute_result"
    }
   ],
   "source": [
    "entity.num_entities(D)"
   ]
  },
  {
   "cell_type": "code",
   "execution_count": 47,
   "metadata": {},
   "outputs": [
    {
     "data": {
      "text/plain": [
       "285"
      ]
     },
     "execution_count": 47,
     "metadata": {},
     "output_type": "execute_result"
    }
   ],
   "source": [
    "entity.index()"
   ]
  },
  {
   "cell_type": "code",
   "execution_count": 48,
   "metadata": {},
   "outputs": [
    {
     "data": {
      "text/plain": [
       "138"
      ]
     },
     "execution_count": 48,
     "metadata": {},
     "output_type": "execute_result"
    }
   ],
   "source": [
    "connectivity.connections(entity_index)[0]"
   ]
  },
  {
   "cell_type": "code",
   "execution_count": 49,
   "metadata": {},
   "outputs": [
    {
     "data": {
      "text/plain": [
       "array([106, 102], dtype=int32)"
      ]
     },
     "execution_count": 49,
     "metadata": {},
     "output_type": "execute_result"
    }
   ],
   "source": [
    "entity.entities(0)"
   ]
  },
  {
   "cell_type": "code",
   "execution_count": 50,
   "metadata": {},
   "outputs": [],
   "source": [
    "mesh_2d.create_connectivity(0,1)# connectivity in a 2d geo of lines"
   ]
  },
  {
   "cell_type": "code",
   "execution_count": 51,
   "metadata": {},
   "outputs": [],
   "source": [
    "connectivity=mesh_2d.topology.connectivity(0,1)"
   ]
  },
  {
   "cell_type": "code",
   "execution_count": 52,
   "metadata": {},
   "outputs": [
    {
     "name": "stdout",
     "output_type": "stream",
     "text": [
      "0 [0 1]\n",
      "1 [0 2]\n",
      "2 [ 0 17]\n",
      "3 [ 0 42]\n",
      "4 [ 0 43]\n",
      "5 [ 0 75]\n",
      "6 [1 2]\n",
      "7 [1 4]\n",
      "8 [1 9]\n",
      "9 [ 1 17]\n",
      "10 [ 1 63]\n",
      "11 [67  1]\n",
      "12 [6 2]\n",
      "13 [7 2]\n",
      "14 [ 2 42]\n",
      "15 [ 2 63]\n",
      "16 [ 2 65]\n",
      "17 [3 4]\n",
      "18 [3 5]\n",
      "19 [8 3]\n",
      "20 [30  3]\n",
      "21 [ 3 49]\n",
      "22 [ 3 52]\n",
      "23 [ 3 64]\n",
      "24 [4 5]\n",
      "25 [8 4]\n",
      "26 [9 4]\n",
      "27 [ 4 17]\n",
      "28 [ 5 11]\n",
      "29 [ 5 13]\n",
      "30 [17  5]\n",
      "31 [ 5 64]\n",
      "32 [ 5 75]\n",
      "33 [6 7]\n",
      "34 [ 6 54]\n",
      "35 [65  6]\n",
      "36 [ 6 92]\n",
      "37 [ 6 94]\n",
      "38 [16  7]\n",
      "39 [ 7 42]\n",
      "40 [ 7 47]\n",
      "41 [ 7 54]\n",
      "42 [9 8]\n",
      "43 [ 8 19]\n",
      "44 [20  8]\n",
      "45 [21  8]\n",
      "46 [ 8 52]\n",
      "47 [ 9 19]\n",
      "48 [39  9]\n",
      "49 [ 9 67]\n",
      "50 [ 9 68]\n",
      "51 [10 11]\n",
      "52 [10 12]\n",
      "53 [13 10]\n",
      "54 [10 18]\n",
      "55 [25 10]\n",
      "56 [26 10]\n",
      "57 [10 51]\n",
      "58 [12 11]\n",
      "59 [13 11]\n",
      "60 [11 43]\n",
      "61 [11 75]\n",
      "62 [12 15]\n",
      "63 [36 12]\n",
      "64 [12 43]\n",
      "65 [12 48]\n",
      "66 [12 51]\n",
      "67 [13 18]\n",
      "68 [13 64]\n",
      "69 [13 70]\n",
      "70 [14 15]\n",
      "71 [14 16]\n",
      "72 [36 14]\n",
      "73 [66 14]\n",
      "74 [14 69]\n",
      "75 [14 93]\n",
      "76 [16 15]\n",
      "77 [36 15]\n",
      "78 [43 15]\n",
      "79 [16 42]\n",
      "80 [43 16]\n",
      "81 [16 47]\n",
      "82 [16 66]\n",
      "83 [17 75]\n",
      "84 [26 18]\n",
      "85 [70 18]\n",
      "86 [105  18]\n",
      "87 [21 19]\n",
      "88 [68 19]\n",
      "89 [106  19]\n",
      "90 [20 21]\n",
      "91 [20 52]\n",
      "92 [57 20]\n",
      "93 [20 74]\n",
      "94 [57 21]\n",
      "95 [21 97]\n",
      "96 [106  21]\n",
      "97 [22 23]\n",
      "98 [22 24]\n",
      "99 [22 53]\n",
      "100 [58 22]\n",
      "101 [22 73]\n",
      "102 [23 24]\n",
      "103 [58 23]\n",
      "104 [23 94]\n",
      "105 [23 98]\n",
      "106 [103  23]\n",
      "107 [45 24]\n",
      "108 [24 53]\n",
      "109 [24 65]\n",
      "110 [24 94]\n",
      "111 [25 26]\n",
      "112 [25 51]\n",
      "113 [55 25]\n",
      "114 [25 72]\n",
      "115 [55 26]\n",
      "116 [ 26 100]\n",
      "117 [105  26]\n",
      "118 [27 28]\n",
      "119 [27 29]\n",
      "120 [27 50]\n",
      "121 [56 27]\n",
      "122 [27 71]\n",
      "123 [28 29]\n",
      "124 [56 28]\n",
      "125 [28 93]\n",
      "126 [28 99]\n",
      "127 [104  28]\n",
      "128 [47 29]\n",
      "129 [29 50]\n",
      "130 [29 66]\n",
      "131 [29 93]\n",
      "132 [30 31]\n",
      "133 [30 32]\n",
      "134 [30 49]\n",
      "135 [64 30]\n",
      "136 [30 70]\n",
      "137 [32 31]\n",
      "138 [31 61]\n",
      "139 [31 70]\n",
      "140 [ 31 101]\n",
      "141 [105  31]\n",
      "142 [32 49]\n",
      "143 [32 61]\n",
      "144 [74 32]\n",
      "145 [33 34]\n",
      "146 [33 35]\n",
      "147 [33 46]\n",
      "148 [33 47]\n",
      "149 [54 33]\n",
      "150 [33 92]\n",
      "151 [35 34]\n",
      "152 [34 59]\n",
      "153 [34 92]\n",
      "154 [34 95]\n",
      "155 [103  34]\n",
      "156 [35 46]\n",
      "157 [35 59]\n",
      "158 [71 35]\n",
      "159 [36 37]\n",
      "160 [36 38]\n",
      "161 [36 48]\n",
      "162 [36 69]\n",
      "163 [38 37]\n",
      "164 [37 60]\n",
      "165 [37 69]\n",
      "166 [37 96]\n",
      "167 [104  37]\n",
      "168 [38 48]\n",
      "169 [38 60]\n",
      "170 [72 38]\n",
      "171 [39 40]\n",
      "172 [39 41]\n",
      "173 [39 44]\n",
      "174 [39 45]\n",
      "175 [39 67]\n",
      "176 [39 68]\n",
      "177 [41 40]\n",
      "178 [40 62]\n",
      "179 [40 68]\n",
      "180 [ 40 102]\n",
      "181 [106  40]\n",
      "182 [41 44]\n",
      "183 [41 62]\n",
      "184 [73 41]\n",
      "185 [43 42]\n",
      "186 [43 75]\n",
      "187 [45 44]\n",
      "188 [53 44]\n",
      "189 [73 44]\n",
      "190 [45 53]\n",
      "191 [45 63]\n",
      "192 [65 45]\n",
      "193 [45 67]\n",
      "194 [47 46]\n",
      "195 [50 46]\n",
      "196 [71 46]\n",
      "197 [47 50]\n",
      "198 [47 54]\n",
      "199 [47 66]\n",
      "200 [51 48]\n",
      "201 [72 48]\n",
      "202 [52 49]\n",
      "203 [74 49]\n",
      "204 [50 71]\n",
      "205 [51 72]\n",
      "206 [52 74]\n",
      "207 [53 73]\n",
      "208 [54 92]\n",
      "209 [87 55]\n",
      "210 [ 55 100]\n",
      "211 [89 56]\n",
      "212 [56 99]\n",
      "213 [78 57]\n",
      "214 [57 97]\n",
      "215 [81 58]\n",
      "216 [58 98]\n",
      "217 [59 88]\n",
      "218 [59 95]\n",
      "219 [60 82]\n",
      "220 [60 96]\n",
      "221 [61 90]\n",
      "222 [ 61 101]\n",
      "223 [62 91]\n",
      "224 [ 62 102]\n",
      "225 [65 63]\n",
      "226 [67 63]\n",
      "227 [64 70]\n",
      "228 [65 94]\n",
      "229 [66 93]\n",
      "230 [ 68 106]\n",
      "231 [69 93]\n",
      "232 [ 69 104]\n",
      "233 [ 70 105]\n",
      "234 [76 77]\n",
      "235 [76 78]\n",
      "236 [91 76]\n",
      "237 [77 78]\n",
      "238 [91 77]\n",
      "239 [77 97]\n",
      "240 [ 77 102]\n",
      "241 [ 77 106]\n",
      "242 [78 97]\n",
      "243 [79 80]\n",
      "244 [79 81]\n",
      "245 [88 79]\n",
      "246 [80 81]\n",
      "247 [88 80]\n",
      "248 [80 95]\n",
      "249 [80 98]\n",
      "250 [ 80 103]\n",
      "251 [81 98]\n",
      "252 [82 83]\n",
      "253 [82 84]\n",
      "254 [82 96]\n",
      "255 [84 83]\n",
      "256 [83 89]\n",
      "257 [83 96]\n",
      "258 [83 99]\n",
      "259 [ 83 104]\n",
      "260 [84 89]\n",
      "261 [85 86]\n",
      "262 [85 87]\n",
      "263 [90 85]\n",
      "264 [86 87]\n",
      "265 [90 86]\n",
      "266 [ 86 100]\n",
      "267 [ 86 101]\n",
      "268 [ 86 105]\n",
      "269 [ 87 100]\n",
      "270 [88 95]\n",
      "271 [89 99]\n",
      "272 [ 90 101]\n",
      "273 [ 91 102]\n",
      "274 [92 94]\n",
      "275 [ 92 103]\n",
      "276 [104  93]\n",
      "277 [103  94]\n",
      "278 [103  95]\n",
      "279 [104  96]\n",
      "280 [106  97]\n",
      "281 [103  98]\n",
      "282 [104  99]\n",
      "283 [105 100]\n",
      "284 [105 101]\n",
      "285 [106 102]\n"
     ]
    }
   ],
   "source": [
    "for entity_index in range(mesh_2d.topology.size(1)):\n",
    "        entity = MeshEntity(mesh_2d, 1, entity_index)\n",
    "        print(entity_index,entity.entities(0))\n",
    "        "
   ]
  },
  {
   "cell_type": "code",
   "execution_count": 53,
   "metadata": {},
   "outputs": [
    {
     "data": {
      "text/plain": [
       "286"
      ]
     },
     "execution_count": 53,
     "metadata": {},
     "output_type": "execute_result"
    }
   ],
   "source": [
    "mesh_2d.e"
   ]
  },
  {
   "cell_type": "code",
   "execution_count": 86,
   "metadata": {},
   "outputs": [
    {
     "name": "stdout",
     "output_type": "stream",
     "text": [
      "Help on Mesh in module dolfin.cpp.mesh object:\n",
      "\n",
      "class Mesh(pybind11_builtins.pybind11_object)\n",
      " |  Mesh object\n",
      " |  \n",
      " |  Method resolution order:\n",
      " |      Mesh\n",
      " |      pybind11_builtins.pybind11_object\n",
      " |      builtins.object\n",
      " |  \n",
      " |  Methods defined here:\n",
      " |  \n",
      " |  __init__(...)\n",
      " |      __init__(self: dolfin.cpp.mesh.Mesh, arg0: MPICommWrapper, arg1: dolfin.cpp.mesh.CellType.Type, arg2: numpy.ndarray[float64[m, n], flags.c_contiguous], arg3: numpy.ndarray[int64[m, n], flags.c_contiguous], arg4: List[int], arg5: dolfin.cpp.mesh.GhostMode) -> None\n",
      " |  \n",
      " |  cell_name(...)\n",
      " |      cell_name(self: dolfin.cpp.mesh.Mesh) -> str\n",
      " |  \n",
      " |  cells(...)\n",
      " |      cells(self: dolfin.cpp.mesh.Mesh) -> array\n",
      " |  \n",
      " |  coordinate_dofs(...)\n",
      " |      coordinate_dofs(self: dolfin.cpp.mesh.Mesh) -> dolfin.cpp.mesh.CoordinateDofs\n",
      " |  \n",
      " |  create_connectivity(...)\n",
      " |      create_connectivity(self: dolfin.cpp.mesh.Mesh, arg0: int, arg1: int) -> None\n",
      " |  \n",
      " |  create_connectivity_all(...)\n",
      " |      create_connectivity_all(self: dolfin.cpp.mesh.Mesh) -> None\n",
      " |  \n",
      " |  create_entities(...)\n",
      " |      create_entities(self: dolfin.cpp.mesh.Mesh, arg0: int) -> int\n",
      " |  \n",
      " |  create_global_indices(...)\n",
      " |      create_global_indices(self: dolfin.cpp.mesh.Mesh, arg0: int) -> None\n",
      " |  \n",
      " |  degree(...)\n",
      " |      degree(self: dolfin.cpp.mesh.Mesh) -> int\n",
      " |  \n",
      " |  geometric_dimension(self)\n",
      " |      Returns geometric dimension for ufl interface\n",
      " |  \n",
      " |  hash(...)\n",
      " |      hash(self: dolfin.cpp.mesh.Mesh) -> int\n",
      " |  \n",
      " |  hmax(...)\n",
      " |      hmax(self: dolfin.cpp.mesh.Mesh) -> float\n",
      " |  \n",
      " |  hmin(...)\n",
      " |      hmin(self: dolfin.cpp.mesh.Mesh) -> float\n",
      " |  \n",
      " |  mpi_comm(...)\n",
      " |      mpi_comm(self: dolfin.cpp.mesh.Mesh) -> MPICommWrapper\n",
      " |  \n",
      " |  num_cells(self)\n",
      " |      Return number of mesh cells\n",
      " |  \n",
      " |  num_entities(...)\n",
      " |      num_entities(self: dolfin.cpp.mesh.Mesh, arg0: int) -> int\n",
      " |      \n",
      " |      Number of mesh entities\n",
      " |  \n",
      " |  num_entities_global(...)\n",
      " |      num_entities_global(self: dolfin.cpp.mesh.Mesh, arg0: int) -> int\n",
      " |  \n",
      " |  rmax(...)\n",
      " |      rmax(self: dolfin.cpp.mesh.Mesh) -> float\n",
      " |  \n",
      " |  rmin(...)\n",
      " |      rmin(self: dolfin.cpp.mesh.Mesh) -> float\n",
      " |  \n",
      " |  type(...)\n",
      " |      type(self: dolfin.cpp.mesh.Mesh) -> dolfin.cpp.mesh.CellType\n",
      " |  \n",
      " |  ufl_cell(self)\n",
      " |  \n",
      " |  ufl_coordinate_element(self)\n",
      " |      Return the finite element of the coordinate vector field of this\n",
      " |      domain.\n",
      " |  \n",
      " |  ufl_domain(self)\n",
      " |      Returns the ufl domain corresponding to the mesh.\n",
      " |  \n",
      " |  ufl_id(...)\n",
      " |      ufl_id(self: dolfin.cpp.mesh.Mesh) -> int\n",
      " |  \n",
      " |  ----------------------------------------------------------------------\n",
      " |  Data descriptors defined here:\n",
      " |  \n",
      " |  __dict__\n",
      " |  \n",
      " |  geometry\n",
      " |      Mesh geometry\n",
      " |  \n",
      " |  id\n",
      " |  \n",
      " |  topology\n",
      " |      Mesh topology\n",
      " |  \n",
      " |  ----------------------------------------------------------------------\n",
      " |  Methods inherited from pybind11_builtins.pybind11_object:\n",
      " |  \n",
      " |  __new__(*args, **kwargs) from pybind11_builtins.pybind11_type\n",
      " |      Create and return a new object.  See help(type) for accurate signature.\n",
      "\n"
     ]
    }
   ],
   "source": [
    "help(mesh_2d)"
   ]
  },
  {
   "cell_type": "code",
   "execution_count": 84,
   "metadata": {},
   "outputs": [],
   "source": [
    "entity=MeshEntity(mesh_2d,1,0)"
   ]
  },
  {
   "cell_type": "code",
   "execution_count": 85,
   "metadata": {},
   "outputs": [
    {
     "data": {
      "text/plain": [
       "2"
      ]
     },
     "execution_count": 85,
     "metadata": {},
     "output_type": "execute_result"
    }
   ],
   "source": [
    "entity.num_entities(0)"
   ]
  },
  {
   "cell_type": "code",
   "execution_count": null,
   "metadata": {},
   "outputs": [],
   "source": []
  },
  {
   "cell_type": "code",
   "execution_count": null,
   "metadata": {},
   "outputs": [],
   "source": []
  },
  {
   "cell_type": "code",
   "execution_count": null,
   "metadata": {},
   "outputs": [],
   "source": []
  },
  {
   "cell_type": "code",
   "execution_count": null,
   "metadata": {},
   "outputs": [],
   "source": []
  },
  {
   "cell_type": "code",
   "execution_count": null,
   "metadata": {},
   "outputs": [],
   "source": []
  },
  {
   "cell_type": "code",
   "execution_count": null,
   "metadata": {},
   "outputs": [],
   "source": []
  },
  {
   "cell_type": "code",
   "execution_count": null,
   "metadata": {},
   "outputs": [],
   "source": []
  },
  {
   "cell_type": "code",
   "execution_count": null,
   "metadata": {},
   "outputs": [],
   "source": []
  },
  {
   "cell_type": "code",
   "execution_count": null,
   "metadata": {},
   "outputs": [],
   "source": []
  },
  {
   "cell_type": "code",
   "execution_count": null,
   "metadata": {},
   "outputs": [],
   "source": []
  },
  {
   "cell_type": "code",
   "execution_count": null,
   "metadata": {},
   "outputs": [],
   "source": []
  },
  {
   "cell_type": "code",
   "execution_count": null,
   "metadata": {},
   "outputs": [],
   "source": []
  },
  {
   "cell_type": "code",
   "execution_count": null,
   "metadata": {},
   "outputs": [],
   "source": []
  },
  {
   "cell_type": "code",
   "execution_count": null,
   "metadata": {},
   "outputs": [],
   "source": []
  },
  {
   "cell_type": "code",
   "execution_count": null,
   "metadata": {},
   "outputs": [],
   "source": []
  },
  {
   "cell_type": "code",
   "execution_count": null,
   "metadata": {},
   "outputs": [],
   "source": []
  },
  {
   "cell_type": "code",
   "execution_count": null,
   "metadata": {},
   "outputs": [],
   "source": []
  },
  {
   "cell_type": "code",
   "execution_count": null,
   "metadata": {},
   "outputs": [],
   "source": []
  },
  {
   "cell_type": "code",
   "execution_count": null,
   "metadata": {},
   "outputs": [],
   "source": []
  },
  {
   "cell_type": "code",
   "execution_count": null,
   "metadata": {},
   "outputs": [],
   "source": []
  },
  {
   "cell_type": "code",
   "execution_count": null,
   "metadata": {},
   "outputs": [],
   "source": []
  },
  {
   "cell_type": "code",
   "execution_count": null,
   "metadata": {},
   "outputs": [],
   "source": []
  },
  {
   "cell_type": "code",
   "execution_count": null,
   "metadata": {},
   "outputs": [],
   "source": []
  }
 ],
 "metadata": {
  "kernelspec": {
   "display_name": "Python 3",
   "language": "python",
   "name": "python3"
  },
  "language_info": {
   "codemirror_mode": {
    "name": "ipython",
    "version": 3
   },
   "file_extension": ".py",
   "mimetype": "text/x-python",
   "name": "python",
   "nbconvert_exporter": "python",
   "pygments_lexer": "ipython3",
   "version": "3.6.7"
  }
 },
 "nbformat": 4,
 "nbformat_minor": 2
}

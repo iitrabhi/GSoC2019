{
 "cells": [
  {
   "cell_type": "code",
   "execution_count": 1,
   "metadata": {},
   "outputs": [],
   "source": [
    "import pygmsh\n",
    "import dolfin"
   ]
  },
  {
   "cell_type": "code",
   "execution_count": 2,
   "metadata": {},
   "outputs": [
    {
     "name": "stdout",
     "output_type": "stream",
     "text": [
      "Info    : Running 'gmsh -3 /tmp/tmprlvlfmrt.geo -format msh -bin -o /tmp/tmpnp5vyrg_.msh' [Gmsh 4.2.2, 1 node, max. 1 thread]\n",
      "Info    : Started on Wed Jul 10 15:07:06 2019\n",
      "Info    : Reading '/tmp/tmprlvlfmrt.geo'...\n",
      "Info    : Done reading '/tmp/tmprlvlfmrt.geo'\n",
      "Info    : Meshing 1D...\n",
      "Info    : Meshing curve 2 (Circle)\n",
      "Info    : Done meshing 1D (0 s)\n",
      "Info    : Meshing 2D...\n",
      "Info    : Meshing surface 1 (Sphere, MeshAdapt)\n",
      "Info    : Done meshing 2D (0.18 s)\n",
      "Info    : Meshing 3D...\n",
      "Info    : 3D Meshing 1 volumes with 1 connected components\n",
      "Info    : Tetrahedrization of 380 points in 0.01 seconds\n",
      "Info    : Reconstructing mesh ...\n",
      "Info    : Creating surface mesh...\n",
      "Info    : Identifying boundary edges...\n",
      "Info    : Boundary Recovery...\n",
      "Info    : Reconstruct time : 0.02 sec\n",
      "Info    : Found region 1\n",
      "Info    : 0 points created - worst tet radius 5.15792 (points removed 0 0)\n",
      "Info    : 3D point insertion terminated (532 points created):\n",
      "Info    :  - 0 Delaunay cavities modified for star shapeness\n",
      "Info    :  - 0 points could not be inserted\n",
      "Info    :  - 2008 tetrahedra created in 0.02 sec. (100400 tets/s)\n",
      "Info    : Done meshing 3D (0.04 s)\n",
      "Info    : Optimizing 3D mesh...\n",
      "Info    : Optimizing volume 1\n",
      "Info    : Optimization starts (volume = 4.12169) with worst = 0.0429696 / average = 0.744548:\n",
      "Info    : 0.00 < quality < 0.10 :         2 elements\n",
      "Info    : 0.10 < quality < 0.20 :        11 elements\n",
      "Info    : 0.20 < quality < 0.30 :        29 elements\n",
      "Info    : 0.30 < quality < 0.40 :        36 elements\n",
      "Info    : 0.40 < quality < 0.50 :        43 elements\n",
      "Info    : 0.50 < quality < 0.60 :       136 elements\n",
      "Info    : 0.60 < quality < 0.70 :       363 elements\n",
      "Info    : 0.70 < quality < 0.80 :       560 elements\n",
      "Info    : 0.80 < quality < 0.90 :       625 elements\n",
      "Info    : 0.90 < quality < 1.00 :       203 elements\n",
      "Info    : 42 edge swaps, 2 node relocations (volume = 4.12169): worst = 0.307652 / average = 0.75653 (0 s)\n",
      "Info    : No ill-shaped tets in the mesh :-)\n",
      "Info    : 0.00 < quality < 0.10 :         0 elements\n",
      "Info    : 0.10 < quality < 0.20 :         0 elements\n",
      "Info    : 0.20 < quality < 0.30 :         0 elements\n",
      "Info    : 0.30 < quality < 0.40 :        35 elements\n",
      "Info    : 0.40 < quality < 0.50 :        40 elements\n",
      "Info    : 0.50 < quality < 0.60 :       140 elements\n",
      "Info    : 0.60 < quality < 0.70 :       359 elements\n",
      "Info    : 0.70 < quality < 0.80 :       563 elements\n",
      "Info    : 0.80 < quality < 0.90 :       629 elements\n",
      "Info    : 0.90 < quality < 1.00 :       206 elements\n",
      "Info    : Done optimizing 3D mesh (0.01 s)\n",
      "Info    : 532 vertices 2730 elements\n",
      "Info    : Writing '/tmp/tmpnp5vyrg_.msh'...\n",
      "Info    : Done writing '/tmp/tmpnp5vyrg_.msh'\n",
      "Info    : Stopped on Wed Jul 10 15:07:07 2019\n"
     ]
    }
   ],
   "source": [
    "geom = pygmsh.opencascade.Geometry()\n",
    "bl =geom.add_ball([0.0, 0.0, 0.0], 1.0, char_length=0.2)\n",
    "geom.add_physical(bl, label=\"ball\")\n",
    "pygmsh_mesh = pygmsh.generate_mesh(geom)\n",
    "points, cells, cell_data = pygmsh_mesh.points, pygmsh_mesh.cells, pygmsh_mesh.cell_data"
   ]
  },
  {
   "cell_type": "code",
   "execution_count": 3,
   "metadata": {},
   "outputs": [
    {
     "data": {
      "text/plain": [
       "(1972,)"
      ]
     },
     "execution_count": 3,
     "metadata": {},
     "output_type": "execute_result"
    }
   ],
   "source": [
    "cell_data['tetra']['gmsh:physical'].shape"
   ]
  },
  {
   "cell_type": "code",
   "execution_count": 4,
   "metadata": {},
   "outputs": [
    {
     "ename": "KeyError",
     "evalue": "'triangle'",
     "output_type": "error",
     "traceback": [
      "\u001b[0;31m---------------------------------------------------------------------------\u001b[0m",
      "\u001b[0;31mKeyError\u001b[0m                                  Traceback (most recent call last)",
      "\u001b[0;32m<ipython-input-4-c6b2c64f77db>\u001b[0m in \u001b[0;36m<module>\u001b[0;34m\u001b[0m\n\u001b[1;32m      1\u001b[0m mesh = dolfin.cpp.mesh.Mesh(dolfin.MPI.comm_world,\n\u001b[1;32m      2\u001b[0m                                 \u001b[0mdolfin\u001b[0m\u001b[0;34m.\u001b[0m\u001b[0mcpp\u001b[0m\u001b[0;34m.\u001b[0m\u001b[0mmesh\u001b[0m\u001b[0;34m.\u001b[0m\u001b[0mCellType\u001b[0m\u001b[0;34m.\u001b[0m\u001b[0mType\u001b[0m\u001b[0;34m.\u001b[0m\u001b[0mtriangle\u001b[0m\u001b[0;34m,\u001b[0m \u001b[0mpoints\u001b[0m\u001b[0;34m,\u001b[0m\u001b[0;34m\u001b[0m\u001b[0;34m\u001b[0m\u001b[0m\n\u001b[0;32m----> 3\u001b[0;31m                                 cells['triangle'], [], dolfin.cpp.mesh.GhostMode.none)\n\u001b[0m\u001b[1;32m      4\u001b[0m \u001b[0;32massert\u001b[0m \u001b[0mmesh\u001b[0m\u001b[0;34m.\u001b[0m\u001b[0mdegree\u001b[0m\u001b[0;34m(\u001b[0m\u001b[0;34m)\u001b[0m \u001b[0;34m==\u001b[0m \u001b[0;36m1\u001b[0m\u001b[0;34m\u001b[0m\u001b[0;34m\u001b[0m\u001b[0m\n\u001b[1;32m      5\u001b[0m \u001b[0;32massert\u001b[0m \u001b[0mmesh\u001b[0m\u001b[0;34m.\u001b[0m\u001b[0mgeometry\u001b[0m\u001b[0;34m.\u001b[0m\u001b[0mdim\u001b[0m \u001b[0;34m==\u001b[0m \u001b[0;36m3\u001b[0m\u001b[0;34m\u001b[0m\u001b[0;34m\u001b[0m\u001b[0m\n",
      "\u001b[0;31mKeyError\u001b[0m: 'triangle'"
     ]
    }
   ],
   "source": [
    "mesh = dolfin.cpp.mesh.Mesh(dolfin.MPI.comm_world,\n",
    "                                dolfin.cpp.mesh.CellType.Type.triangle, points,\n",
    "                                cells['triangle'], [], dolfin.cpp.mesh.GhostMode.none)\n",
    "assert mesh.degree() == 1\n",
    "assert mesh.geometry.dim == 3\n",
    "assert mesh.topology.dim == 2"
   ]
  },
  {
   "cell_type": "code",
   "execution_count": 5,
   "metadata": {},
   "outputs": [
    {
     "ename": "NameError",
     "evalue": "name 'mesh' is not defined",
     "output_type": "error",
     "traceback": [
      "\u001b[0;31m---------------------------------------------------------------------------\u001b[0m",
      "\u001b[0;31mNameError\u001b[0m                                 Traceback (most recent call last)",
      "\u001b[0;32m<ipython-input-5-b87099516797>\u001b[0m in \u001b[0;36m<module>\u001b[0;34m\u001b[0m\n\u001b[0;32m----> 1\u001b[0;31m \u001b[0mf\u001b[0m \u001b[0;34m=\u001b[0m \u001b[0mdolfin\u001b[0m\u001b[0;34m.\u001b[0m\u001b[0mMeshValueCollection\u001b[0m\u001b[0;34m(\u001b[0m\u001b[0;34m\"int\"\u001b[0m\u001b[0;34m,\u001b[0m \u001b[0mmesh\u001b[0m\u001b[0;34m,\u001b[0m \u001b[0;36m2\u001b[0m\u001b[0;34m)\u001b[0m\u001b[0;34m\u001b[0m\u001b[0;34m\u001b[0m\u001b[0m\n\u001b[0m",
      "\u001b[0;31mNameError\u001b[0m: name 'mesh' is not defined"
     ]
    }
   ],
   "source": [
    "f = dolfin.MeshValueCollection(\"int\", mesh, 2)"
   ]
  },
  {
   "cell_type": "code",
   "execution_count": 6,
   "metadata": {},
   "outputs": [
    {
     "name": "stdout",
     "output_type": "stream",
     "text": [
      "Info    : Running 'gmsh -3 /tmp/tmprpp5ynow.geo -format msh -bin -o /tmp/tmps8ppycz7.msh' [Gmsh 4.2.2, 1 node, max. 1 thread]\n",
      "Info    : Started on Wed Jul 10 15:07:20 2019\n",
      "Info    : Reading '/tmp/tmprpp5ynow.geo'...\n",
      "Info    : Done reading '/tmp/tmprpp5ynow.geo'\n",
      "Info    : Meshing 1D...\n",
      "Info    : Meshing curve 1 (Line)\n",
      "Info    : Meshing curve 2 (Line)\n",
      "Info    : Meshing curve 3 (Line)\n",
      "Info    : Meshing curve 4 (Line)\n",
      "Info    : Done meshing 1D (0 s)\n",
      "Info    : Meshing 2D...\n",
      "Info    : Meshing surface 1 (Plane, Delaunay)\n",
      "Info    : Done meshing 2D (0.01 s)\n",
      "Info    : Meshing 3D...\n",
      "Info    : Done meshing 3D (0 s)\n",
      "Info    : 109 vertices 220 elements\n",
      "Info    : Writing '/tmp/tmps8ppycz7.msh'...\n",
      "Info    : Done writing '/tmp/tmps8ppycz7.msh'\n",
      "Info    : Stopped on Wed Jul 10 15:07:20 2019\n"
     ]
    }
   ],
   "source": [
    "geom_2d = pygmsh.opencascade.Geometry()\n",
    "rectangle = geom_2d.add_rectangle([-1.0, -1.0, 0.0], 2.0, 2.0)\n",
    "geom_2d.add_physical(rectangle, label=\"rect\")\n",
    "pygmsh_mesh = pygmsh.generate_mesh(geom_2d)\n",
    "points, cells, cell_data = pygmsh_mesh.points, pygmsh_mesh.cells, pygmsh_mesh.cell_data"
   ]
  },
  {
   "cell_type": "code",
   "execution_count": 7,
   "metadata": {},
   "outputs": [
    {
     "name": "stdout",
     "output_type": "stream",
     "text": [
      "Info    : Running 'gmsh -3 /tmp/tmp983flya6.geo -format msh -bin -o /tmp/tmppegwoghk.msh' [Gmsh 4.2.2, 1 node, max. 1 thread]\n",
      "Info    : Started on Wed Jul 10 15:07:21 2019\n",
      "Info    : Reading '/tmp/tmp983flya6.geo'...\n",
      "Info    : Done reading '/tmp/tmp983flya6.geo'\n",
      "Info    : Meshing 1D...\n",
      "Info    : Meshing curve 1 (Line)\n",
      "Info    : Meshing curve 2 (Line)\n",
      "Info    : Meshing curve 3 (Line)\n",
      "Info    : Meshing curve 4 (Line)\n",
      "Info    : Done meshing 1D (0 s)\n",
      "Info    : Meshing 2D...\n",
      "Info    : Meshing surface 1 (Plane, Delaunay)\n",
      "Info    : Done meshing 2D (0.01 s)\n",
      "Info    : Meshing 3D...\n",
      "Info    : Done meshing 3D (0 s)\n",
      "Info    : 109 vertices 220 elements\n",
      "Info    : Writing '/tmp/tmppegwoghk.msh'...\n",
      "Info    : Done writing '/tmp/tmppegwoghk.msh'\n",
      "Info    : Stopped on Wed Jul 10 15:07:21 2019\n"
     ]
    }
   ],
   "source": [
    "import pygmsh\n",
    "\n",
    "geom = pygmsh.opencascade.Geometry()\n",
    "rectangle = geom.add_rectangle([-1.0, -1.0, 0.0], 2.0, 2.0)\n",
    "geom.add_physical(rectangle, label=\"rect\")\n",
    "pygmsh_mesh = pygmsh.generate_mesh(geom)\n",
    "points, cells, cell_data = pygmsh_mesh.points, pygmsh_mesh.cells, pygmsh_mesh.cell_data\n",
    "\n",
    "mesh = dolfin.cpp.mesh.Mesh(dolfin.MPI.comm_world,\n",
    "                            dolfin.cpp.mesh.CellType.Type.triangle, points,\n",
    "                            cells['triangle'], [], dolfin.cpp.mesh.GhostMode.none)\n",
    "assert mesh.degree() == 1\n",
    "assert mesh.geometry.dim == 3\n",
    "assert mesh.topology.dim == 2"
   ]
  },
  {
   "cell_type": "code",
   "execution_count": 9,
   "metadata": {},
   "outputs": [],
   "source": [
    "f = dolfin.MeshValueCollection(\"int\", mesh, 2)"
   ]
  },
  {
   "cell_type": "code",
   "execution_count": 13,
   "metadata": {},
   "outputs": [
    {
     "data": {
      "text/plain": [
       "0"
      ]
     },
     "execution_count": 13,
     "metadata": {},
     "output_type": "execute_result"
    }
   ],
   "source": [
    "f.size()"
   ]
  },
  {
   "cell_type": "code",
   "execution_count": null,
   "metadata": {},
   "outputs": [],
   "source": []
  }
 ],
 "metadata": {
  "kernelspec": {
   "display_name": "Python 3",
   "language": "python",
   "name": "python3"
  },
  "language_info": {
   "codemirror_mode": {
    "name": "ipython",
    "version": 3
   },
   "file_extension": ".py",
   "mimetype": "text/x-python",
   "name": "python",
   "nbconvert_exporter": "python",
   "pygments_lexer": "ipython3",
   "version": "3.6.7"
  }
 },
 "nbformat": 4,
 "nbformat_minor": 2
}

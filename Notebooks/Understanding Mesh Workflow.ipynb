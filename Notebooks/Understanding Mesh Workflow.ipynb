{
 "cells": [
  {
   "cell_type": "markdown",
   "metadata": {},
   "source": [
    "# Mesh Workflow\n",
    "The intention of this notebook is to understand the workflow \n",
    "* Mesh generation in gmsh\n",
    "* Mesh conversion with meshio to XDMF\n",
    "* Reading mesh in dolfinx\n",
    "\n",
    "The primary intention is to be able to mark/tag cells in gmsh with a string variable for further use in dolfinx. The tagged cells would be used to apply boundary condition, loads or material properties to different parts of the mesh.\n",
    "\n",
    "In dolfinx we use `MeshFunction` to mark different parts of the mesh with boolean values, doubles or integers. So we need a way to transition from the string tags of gmsh to integers in dolfinx. For this we can use dictionaries or some class."
   ]
  },
  {
   "cell_type": "markdown",
   "metadata": {},
   "source": [
    "# Step 1: Mesh generation in gmsh\n",
    "This step is simulated here with the help of pygmsh. Pygmsh combines the power of Gmsh with the versatility of Python to provide useful abstractions from the Gmsh scripting language. In short we can make the `.geo` from pygmsh. In real world scenario user would normally use gmsh to create the `.geo` file. "
   ]
  },
  {
   "cell_type": "code",
   "execution_count": 2,
   "metadata": {},
   "outputs": [],
   "source": [
    "from pygmsh.built_in.geometry import Geometry"
   ]
  },
  {
   "cell_type": "code",
   "execution_count": 3,
   "metadata": {},
   "outputs": [],
   "source": [
    "geom = Geometry()"
   ]
  },
  {
   "cell_type": "code",
   "execution_count": 4,
   "metadata": {},
   "outputs": [],
   "source": [
    "mesh_ele_size = .25\n",
    "p0 = geom.add_point([0, 0, 0], lcar=mesh_ele_size)\n",
    "p1 = geom.add_point([1, 0, 0], lcar=mesh_ele_size)\n",
    "p2 = geom.add_point([1, 1, 0], lcar=mesh_ele_size)\n",
    "p3 = geom.add_point([0, 1, 0], lcar=mesh_ele_size)\n",
    "\n",
    "l0 = geom.add_line(p0, p1)\n",
    "l1 = geom.add_line(p1, p2)\n",
    "l2 = geom.add_line(p2, p3)\n",
    "l3 = geom.add_line(p3, p0)\n",
    "\n",
    "ll = geom.add_line_loop(lines=[l0, l1, l2, l3])\n",
    "ps = geom.add_plane_surface(ll)"
   ]
  },
  {
   "cell_type": "code",
   "execution_count": 5,
   "metadata": {},
   "outputs": [],
   "source": [
    "# Tag line and surface\n",
    "geom.add_physical(l3, label=444)\n",
    "geom.add_physical(ps, label=456)"
   ]
  },
  {
   "cell_type": "markdown",
   "metadata": {},
   "source": [
    "`geom._GMSH_CODE` gives us the script created by pygmsh that would be normally created in gmsh."
   ]
  },
  {
   "cell_type": "code",
   "execution_count": 6,
   "metadata": {
    "scrolled": true
   },
   "outputs": [
    {
     "name": "stdout",
     "output_type": "stream",
     "text": [
      "// This code was created by pygmsh v5.0.1.\n",
      "p0 = newp;\n",
      "Point(p0) = {0, 0, 0, 0.25};\n",
      "p1 = newp;\n",
      "Point(p1) = {1, 0, 0, 0.25};\n",
      "p2 = newp;\n",
      "Point(p2) = {1, 1, 0, 0.25};\n",
      "p3 = newp;\n",
      "Point(p3) = {0, 1, 0, 0.25};\n",
      "l0 = newl;\n",
      "Line(l0) = {p0, p1};\n",
      "l1 = newl;\n",
      "Line(l1) = {p1, p2};\n",
      "l2 = newl;\n",
      "Line(l2) = {p2, p3};\n",
      "l3 = newl;\n",
      "Line(l3) = {p3, p0};\n",
      "ll0 = newll;\n",
      "Line Loop(ll0) = {l0, l1, l2, l3};\n",
      "s0 = news;\n",
      "Plane Surface(s0) = {ll0};\n",
      "Physical Line(444) = {l3};\n",
      "Physical Surface(456) = {s0};\n"
     ]
    }
   ],
   "source": [
    "print(\"\\n\".join(geom._GMSH_CODE))"
   ]
  },
  {
   "cell_type": "markdown",
   "metadata": {},
   "source": [
    "### Generation of mesh object\n",
    "In gmsh the user creates a `.msh` mesh file. Here we are creating a mesh object directly that could be used in meshio. Without this we had to do the following\n",
    "\n",
    "`mesh = meshio.read(filename.msh)\n",
    "points, cells, cell_data = mesh.points, mesh.cells, mesh.cell_data`"
   ]
  },
  {
   "cell_type": "code",
   "execution_count": 7,
   "metadata": {
    "scrolled": true
   },
   "outputs": [
    {
     "name": "stdout",
     "output_type": "stream",
     "text": [
      "Info    : Running 'gmsh -3 /tmp/tmp5iysiz72.geo -format msh -bin -o /tmp/tmp5q_ya_9j.msh' [Gmsh 4.2.2, 1 node, max. 1 thread]\n",
      "Info    : Started on Fri Jun 21 00:33:55 2019\n",
      "Info    : Reading '/tmp/tmp5iysiz72.geo'...\n",
      "Info    : Done reading '/tmp/tmp5iysiz72.geo'\n",
      "Info    : Meshing 1D...\n",
      "Info    : Meshing curve 1 (Line)\n",
      "Info    : Meshing curve 2 (Line)\n",
      "Info    : Meshing curve 3 (Line)\n",
      "Info    : Meshing curve 4 (Line)\n",
      "Info    : Done meshing 1D (0 s)\n",
      "Info    : Meshing 2D...\n",
      "Info    : Meshing surface 6 (Plane, Delaunay)\n",
      "Info    : Done meshing 2D (0 s)\n",
      "Info    : Meshing 3D...\n",
      "Info    : Done meshing 3D (0 s)\n",
      "Info    : 29 vertices 60 elements\n",
      "Info    : Writing '/tmp/tmp5q_ya_9j.msh'...\n",
      "Info    : Done writing '/tmp/tmp5q_ya_9j.msh'\n",
      "Info    : Stopped on Fri Jun 21 00:33:55 2019\n"
     ]
    }
   ],
   "source": [
    "from pygmsh import generate_mesh\n",
    "mesh = generate_mesh(geom)"
   ]
  },
  {
   "cell_type": "markdown",
   "metadata": {},
   "source": [
    "# Step 2: Mesh conversion with meshio to XDMF"
   ]
  },
  {
   "cell_type": "code",
   "execution_count": 8,
   "metadata": {},
   "outputs": [],
   "source": [
    "import meshio"
   ]
  },
  {
   "cell_type": "markdown",
   "metadata": {},
   "source": [
    "meshio reads the mesh file into a `Mesh` object and then converts that mesh object into the specified format. Since we have already created the mesh object we can use it."
   ]
  },
  {
   "cell_type": "code",
   "execution_count": 9,
   "metadata": {},
   "outputs": [],
   "source": [
    "points, cells, cell_data = mesh.points, mesh.cells, mesh.cell_data"
   ]
  },
  {
   "cell_type": "markdown",
   "metadata": {},
   "source": [
    "### Creating the actual mesh of triangles"
   ]
  },
  {
   "cell_type": "code",
   "execution_count": 10,
   "metadata": {},
   "outputs": [],
   "source": [
    "meshio.write(\"mesh_2d.xdmf\", meshio.Mesh(\n",
    "    points=points,\n",
    "    cells={\"triangle\": cells[\"triangle\"]}))"
   ]
  },
  {
   "cell_type": "markdown",
   "metadata": {},
   "source": [
    "### Creating a XDMF file of tagged boundary to be read by MeshValueCollection"
   ]
  },
  {
   "cell_type": "code",
   "execution_count": 11,
   "metadata": {},
   "outputs": [],
   "source": [
    "meshio.write(\"mvc_1d.xdmf\", meshio.Mesh(\n",
    "    points=points,\n",
    "    cells={\"line\": cells[\"line\"]},\n",
    "    cell_data={\"line\": {\"name_to_read\": cell_data[\"line\"][\"gmsh:physical\"]}}\n",
    "))"
   ]
  },
  {
   "cell_type": "markdown",
   "metadata": {},
   "source": [
    "# Step 3: Reading mesh in dolfinx"
   ]
  },
  {
   "cell_type": "code",
   "execution_count": 12,
   "metadata": {},
   "outputs": [],
   "source": [
    "import dolfin\n",
    "import dolfin.io"
   ]
  },
  {
   "cell_type": "code",
   "execution_count": 13,
   "metadata": {},
   "outputs": [],
   "source": [
    "with dolfin.io.XDMFFile(dolfin.MPI.comm_world,\"mesh_2d.xdmf\") as xdmf_infile:\n",
    "    mesh_2d = xdmf_infile.read_mesh(dolfin.MPI.comm_world, dolfin.cpp.mesh.GhostMode.none)"
   ]
  },
  {
   "cell_type": "code",
   "execution_count": 14,
   "metadata": {},
   "outputs": [],
   "source": [
    "import dolfin.plotting as plt\n",
    "%matplotlib inline"
   ]
  },
  {
   "cell_type": "code",
   "execution_count": 15,
   "metadata": {
    "scrolled": true
   },
   "outputs": [
    {
     "data": {
      "text/plain": [
       "<mpl_toolkits.mplot3d.art3d.Poly3DCollection at 0x7f1f68fd4780>"
      ]
     },
     "execution_count": 15,
     "metadata": {},
     "output_type": "execute_result"
    },
    {
     "data": {
      "image/png": "[encoded data removed]",
      "text/plain": [
       "<matplotlib.figure.Figure at 0x7f1f6b0b1ba8>"
      ]
     },
     "metadata": {
      "needs_background": "light"
     },
     "output_type": "display_data"
    }
   ],
   "source": [
    "plt.plot(mesh_2d)"
   ]
  },
  {
   "cell_type": "markdown",
   "metadata": {},
   "source": [
    "# MeshValueCollection\n",
    "The MeshValueCollection class can be used to store data associated with a subset of the entities of a mesh of a given topological dimension. It differs from the MeshFunction class in two ways. First, data does not need to be associated with all entities (only a subset). Second, data is associated with entities through the corresponding cell index and local entity number (relative to the cell), not by global entity index, which means that data may be stored robustly to file."
   ]
  },
  {
   "cell_type": "code",
   "execution_count": 16,
   "metadata": {},
   "outputs": [],
   "source": [
    "mvc = dolfin.MeshValueCollection(\"size_t\", mesh_2d, 1)"
   ]
  },
  {
   "cell_type": "markdown",
   "metadata": {},
   "source": [
    "Reading 1d line data into dolfin mvc"
   ]
  },
  {
   "cell_type": "code",
   "execution_count": 17,
   "metadata": {},
   "outputs": [],
   "source": [
    "with dolfin.io.XDMFFile(dolfin.MPI.comm_world,\"mvc_1d.xdmf\") as xdmf_infile:\n",
    "    mvc = xdmf_infile.read_mvc_size_t(mesh_2d,\"name_to_read\")"
   ]
  },
  {
   "cell_type": "code",
   "execution_count": 18,
   "metadata": {},
   "outputs": [
    {
     "data": {
      "text/plain": [
       "{(9, 2): 444, (13, 2): 444, (33, 2): 444, (36, 2): 444}"
      ]
     },
     "execution_count": 18,
     "metadata": {},
     "output_type": "execute_result"
    }
   ],
   "source": [
    "mvc.values()"
   ]
  },
  {
   "cell_type": "code",
   "execution_count": 19,
   "metadata": {},
   "outputs": [
    {
     "name": "stdout",
     "output_type": "stream",
     "text": [
      "Constructing MeshFunction from MeshValueCollection\n"
     ]
    }
   ],
   "source": [
    "print(\"Constructing MeshFunction from MeshValueCollection\")\n",
    "mf = dolfin.cpp.mesh.MeshFunctionSizet(mesh_2d, mvc, 1)"
   ]
  },
  {
   "cell_type": "code",
   "execution_count": 20,
   "metadata": {},
   "outputs": [
    {
     "data": {
      "text/plain": [
       "array([  1,   1,   1,   1,   1,   1,   1,   1,   1,   1,   1,   1,   1,\n",
       "         1,   1,   1,   1,   1,   1,   1, 444,   1, 444,   1,   1,   1,\n",
       "         1,   1,   1,   1,   1,   1,   1,   1,   1,   1,   1,   1,   1,\n",
       "         1,   1,   1,   1,   1,   1,   1,   1,   1,   1,   1,   1,   1,\n",
       "         1,   1,   1,   1,   1,   1,   1,   1,   1, 444,   1, 444,   1,\n",
       "         1,   1,   1], dtype=uint64)"
      ]
     },
     "execution_count": 20,
     "metadata": {},
     "output_type": "execute_result"
    }
   ],
   "source": [
    "mf.array()"
   ]
  },
  {
   "cell_type": "code",
   "execution_count": 23,
   "metadata": {},
   "outputs": [
    {
     "data": {
      "text/plain": [
       "{'line': array([[ 3, 13],\n",
       "        [13, 14],\n",
       "        [14, 15],\n",
       "        [15,  0]]), 'triangle': array([[17, 10, 21],\n",
       "        [18, 13, 22],\n",
       "        [19,  7, 23],\n",
       "        [20,  4, 24],\n",
       "        [ 9, 17, 23],\n",
       "        [ 6, 19, 24],\n",
       "        [12, 18, 21],\n",
       "        [15, 20, 22],\n",
       "        [10, 11, 21],\n",
       "        [13, 14, 22],\n",
       "        [ 7,  8, 23],\n",
       "        [ 4,  5, 24],\n",
       "        [11, 12, 21],\n",
       "        [14, 15, 22],\n",
       "        [ 8,  9, 23],\n",
       "        [ 5,  6, 24],\n",
       "        [16, 17, 21],\n",
       "        [18, 16, 21],\n",
       "        [16, 18, 22],\n",
       "        [17, 16, 23],\n",
       "        [20, 16, 22],\n",
       "        [16, 19, 23],\n",
       "        [19, 16, 24],\n",
       "        [16, 20, 24],\n",
       "        [10, 17, 25],\n",
       "        [13, 18, 26],\n",
       "        [ 7, 19, 27],\n",
       "        [ 4, 20, 28],\n",
       "        [17,  9, 25],\n",
       "        [19,  6, 27],\n",
       "        [18, 12, 26],\n",
       "        [20, 15, 28],\n",
       "        [ 2, 10, 25],\n",
       "        [ 3, 13, 26],\n",
       "        [12,  3, 26],\n",
       "        [ 9,  2, 25],\n",
       "        [15,  0, 28],\n",
       "        [ 6,  1, 27],\n",
       "        [ 1,  7, 27],\n",
       "        [ 0,  4, 28]])}"
      ]
     },
     "execution_count": 23,
     "metadata": {},
     "output_type": "execute_result"
    }
   ],
   "source": [
    "cells"
   ]
  },
  {
   "cell_type": "code",
   "execution_count": 29,
   "metadata": {},
   "outputs": [],
   "source": [
    "mesh_from_array = dolfin.cpp.mesh.Mesh(\n",
    "    dolfin.MPI.comm_world, \n",
    "    dolfin.cpp.mesh.CellType.Type.triangle, \n",
    "    points,\n",
    "    cells['triangle'], \n",
    "    [], \n",
    "    dolfin.cpp.mesh.GhostMode.none)"
   ]
  },
  {
   "cell_type": "code",
   "execution_count": 31,
   "metadata": {},
   "outputs": [
    {
     "data": {
      "text/plain": [
       "<mpl_toolkits.mplot3d.art3d.Poly3DCollection at 0x7f16b1beb9e8>"
      ]
     },
     "execution_count": 31,
     "metadata": {},
     "output_type": "execute_result"
    },
    {
     "data": {
      "image/png": "[encoded data removed]",
      "text/plain": [
       "<matplotlib.figure.Figure at 0x7f16b1c70438>"
      ]
     },
     "metadata": {
      "needs_background": "light"
     },
     "output_type": "display_data"
    }
   ],
   "source": [
    "plt.plot(mesh_from_array)"
   ]
  },
  {
   "cell_type": "code",
   "execution_count": 33,
   "metadata": {},
   "outputs": [],
   "source": [
    "mvc = dolfin.MeshValueCollection(\"size_t\", mesh_from_array, 1)"
   ]
  },
  {
   "cell_type": "code",
   "execution_count": 40,
   "metadata": {},
   "outputs": [
    {
     "data": {
      "text/plain": [
       "True"
      ]
     },
     "execution_count": 40,
     "metadata": {},
     "output_type": "execute_result"
    }
   ],
   "source": [
    "mvc.set_value(6,1)"
   ]
  },
  {
   "cell_type": "code",
   "execution_count": 41,
   "metadata": {},
   "outputs": [
    {
     "data": {
      "text/plain": [
       "{(0, 1): 1, (4, 1): 1}"
      ]
     },
     "execution_count": 41,
     "metadata": {},
     "output_type": "execute_result"
    }
   ],
   "source": [
    "mvc.values()"
   ]
  },
  {
   "cell_type": "code",
   "execution_count": 43,
   "metadata": {},
   "outputs": [
    {
     "data": {
      "text/plain": [
       "{'line': array([[ 3, 31],\n",
       "        [31, 32],\n",
       "        [32, 33],\n",
       "        [33, 34],\n",
       "        [34, 35],\n",
       "        [35, 36],\n",
       "        [36, 37],\n",
       "        [37, 38],\n",
       "        [38, 39],\n",
       "        [39,  0]]), 'triangle': array([[  1,  13,  53],\n",
       "        [  0,   4,  72],\n",
       "        [  2,  22,  98],\n",
       "        [  3,  31,  51],\n",
       "        [ 12,   1,  53],\n",
       "        [ 39,   0,  72],\n",
       "        [ 21,   2,  98],\n",
       "        [ 30,   3,  51],\n",
       "        [113,  74,  46],\n",
       "        [ 77,  74, 113],\n",
       "        [ 75,  63,  62],\n",
       "        [ 75,  54,  63],\n",
       "        [ 76,  45,  62],\n",
       "        [ 76,  62, 141],\n",
       "        [ 65,  91, 110],\n",
       "        [ 64,  90, 109],\n",
       "        [ 70,  93, 112],\n",
       "        [ 68,  92, 111],\n",
       "        [ 91,  41, 110],\n",
       "        [ 90,  42, 109],\n",
       "        [ 93,  48, 112],\n",
       "        [ 92,  43, 111],\n",
       "        [ 77,  52,  94],\n",
       "        [ 54,  56,  95],\n",
       "        [ 49,  55,  96],\n",
       "        [ 45,  57,  97],\n",
       "        [ 95,  67, 103],\n",
       "        [ 94,  66, 104],\n",
       "        [ 97,  71, 106],\n",
       "        [ 96,  69, 107],\n",
       "        [ 49,  76, 141],\n",
       "        [ 26,  27,  47],\n",
       "        [ 35,  36,  50],\n",
       "        [ 17,  18,  78],\n",
       "        [  8,   9,  79],\n",
       "        [ 78,  18, 117],\n",
       "        [ 79,   9, 118],\n",
       "        [ 47,  27, 119],\n",
       "        [ 50,  36, 120],\n",
       "        [ 52,  77, 129],\n",
       "        [ 55,  49, 130],\n",
       "        [ 54,  75, 131],\n",
       "        [ 56,  54, 131],\n",
       "        [ 45,  76, 132],\n",
       "        [ 57,  45, 132],\n",
       "        [ 42,  95, 103],\n",
       "        [ 41,  94, 104],\n",
       "        [ 43,  97, 106],\n",
       "        [ 48,  96, 107],\n",
       "        [ 74,  77,  87],\n",
       "        [ 76,  49, 105],\n",
       "        [ 46,  49, 141],\n",
       "        [ 44, 113,  46],\n",
       "        [ 63,  44,  62],\n",
       "        [ 67,  78, 117],\n",
       "        [ 71,  79, 118],\n",
       "        [ 66,  47, 119],\n",
       "        [ 69,  50, 120],\n",
       "        [ 23,  24,  80],\n",
       "        [ 32,  33,  81],\n",
       "        [ 14,  15,  82],\n",
       "        [  5,   6,  83],\n",
       "        [ 19,  20,  84],\n",
       "        [ 10,  11,  88],\n",
       "        [ 28,  29,  86],\n",
       "        [ 37,  38,  89],\n",
       "        [ 26,  47,  99],\n",
       "        [ 35,  50, 100],\n",
       "        [ 17,  78, 101],\n",
       "        [  8,  79, 102],\n",
       "        [ 67,  84, 103],\n",
       "        [ 66,  86, 104],\n",
       "        [ 71,  88, 106],\n",
       "        [ 69,  89, 107],\n",
       "        [ 47,  52, 133],\n",
       "        [ 50,  55, 134],\n",
       "        [ 78,  56, 135],\n",
       "        [ 79,  57, 136],\n",
       "        [ 90,  73,  85],\n",
       "        [ 91,  74,  87],\n",
       "        [ 92,  75,  40],\n",
       "        [ 93,  76, 105],\n",
       "        [ 58,  80, 109],\n",
       "        [ 59,  81, 110],\n",
       "        [ 60,  82, 111],\n",
       "        [ 61,  83, 112],\n",
       "        [ 42,  90,  85],\n",
       "        [ 41,  91,  87],\n",
       "        [ 43,  92,  40],\n",
       "        [ 48,  93, 105],\n",
       "        [ 73,  63,  85],\n",
       "        [ 63,  54,  85],\n",
       "        [ 75,  62,  40],\n",
       "        [ 62,  45,  40],\n",
       "        [ 25,  26,  99],\n",
       "        [ 34,  35, 100],\n",
       "        [ 16,  17, 101],\n",
       "        [  7,   8, 102],\n",
       "        [ 94,  52, 137],\n",
       "        [ 95,  56, 139],\n",
       "        [ 96,  55, 138],\n",
       "        [ 97,  57, 140],\n",
       "        [ 23,  80, 121],\n",
       "        [ 32,  81, 122],\n",
       "        [ 14,  82, 123],\n",
       "        [  5,  83, 124],\n",
       "        [ 84,  20, 125],\n",
       "        [ 88,  11, 126],\n",
       "        [ 86,  29, 127],\n",
       "        [ 89,  38, 128],\n",
       "        [ 81,  65, 110],\n",
       "        [ 80,  64, 109],\n",
       "        [ 83,  70, 112],\n",
       "        [ 82,  68, 111],\n",
       "        [ 84,  58, 103],\n",
       "        [ 86,  59, 104],\n",
       "        [ 88,  60, 106],\n",
       "        [ 89,  61, 107],\n",
       "        [ 13,  14, 123],\n",
       "        [ 22,  23, 121],\n",
       "        [  4,   5, 124],\n",
       "        [ 31,  32, 122],\n",
       "        [ 20,  21, 125],\n",
       "        [ 11,  12, 126],\n",
       "        [ 29,  30, 127],\n",
       "        [ 38,  39, 128],\n",
       "        [ 99,  47, 133],\n",
       "        [100,  50, 134],\n",
       "        [101,  78, 135],\n",
       "        [102,  79, 136],\n",
       "        [ 53,  13, 123],\n",
       "        [ 72,   4, 124],\n",
       "        [ 98,  22, 121],\n",
       "        [ 51,  31, 122],\n",
       "        [ 21,  98, 125],\n",
       "        [ 12,  53, 126],\n",
       "        [ 30,  51, 127],\n",
       "        [ 39,  72, 128],\n",
       "        [103,  58, 109],\n",
       "        [104,  59, 110],\n",
       "        [106,  60, 111],\n",
       "        [107,  61, 112],\n",
       "        [ 73,  90, 129],\n",
       "        [ 74,  91, 130],\n",
       "        [ 75,  92, 131],\n",
       "        [ 76,  93, 132],\n",
       "        [ 52,  47, 137],\n",
       "        [ 55,  50, 138],\n",
       "        [ 47,  66, 137],\n",
       "        [ 50,  69, 138],\n",
       "        [ 56,  78, 139],\n",
       "        [ 57,  79, 140],\n",
       "        [ 78,  67, 139],\n",
       "        [ 79,  71, 140],\n",
       "        [ 80,  24, 108],\n",
       "        [ 81,  33, 114],\n",
       "        [ 86,  66, 119],\n",
       "        [ 64,  80, 108],\n",
       "        [ 65,  81, 114],\n",
       "        [ 84,  67, 117],\n",
       "        [ 89,  69, 120],\n",
       "        [ 88,  71, 118],\n",
       "        [ 28,  86, 119],\n",
       "        [ 19,  84, 117],\n",
       "        [ 37,  89, 120],\n",
       "        [ 10,  88, 118],\n",
       "        [ 82,  15, 115],\n",
       "        [ 83,   6, 116],\n",
       "        [ 68,  82, 115],\n",
       "        [ 70,  83, 116],\n",
       "        [ 90,  52, 129],\n",
       "        [ 91,  55, 130],\n",
       "        [ 92,  56, 131],\n",
       "        [ 93,  57, 132],\n",
       "        [113,  73, 129],\n",
       "        [ 77, 113, 129],\n",
       "        [ 46,  74, 130],\n",
       "        [ 49,  46, 130],\n",
       "        [ 80,  58, 121],\n",
       "        [ 81,  59, 122],\n",
       "        [ 58,  84, 125],\n",
       "        [ 82,  60, 123],\n",
       "        [ 59,  86, 127],\n",
       "        [ 83,  61, 124],\n",
       "        [ 60,  88, 126],\n",
       "        [ 61,  89, 128],\n",
       "        [ 90,  64, 133],\n",
       "        [ 52,  90, 133],\n",
       "        [ 91,  65, 134],\n",
       "        [ 55,  91, 134],\n",
       "        [ 56,  92, 135],\n",
       "        [ 92,  68, 135],\n",
       "        [ 93,  70, 136],\n",
       "        [ 57,  93, 136],\n",
       "        [ 77,  94,  87],\n",
       "        [ 94,  41,  87],\n",
       "        [ 54,  95,  85],\n",
       "        [ 95,  42,  85],\n",
       "        [ 49,  96, 105],\n",
       "        [ 45,  97,  40],\n",
       "        [ 96,  48, 105],\n",
       "        [ 97,  43,  40],\n",
       "        [ 42, 103, 109],\n",
       "        [ 41, 104, 110],\n",
       "        [ 43, 106, 111],\n",
       "        [ 48, 107, 112],\n",
       "        [ 58,  98, 121],\n",
       "        [ 59,  51, 122],\n",
       "        [ 98,  58, 125],\n",
       "        [ 51,  59, 127],\n",
       "        [ 60,  53, 123],\n",
       "        [ 53,  60, 126],\n",
       "        [ 61,  72, 124],\n",
       "        [ 72,  61, 128],\n",
       "        [113,  44,  63],\n",
       "        [ 73, 113,  63],\n",
       "        [ 25,  99, 108],\n",
       "        [ 34, 100, 114],\n",
       "        [ 99,  64, 108],\n",
       "        [100,  65, 114],\n",
       "        [ 16, 101, 115],\n",
       "        [  7, 102, 116],\n",
       "        [101,  68, 115],\n",
       "        [102,  70, 116],\n",
       "        [ 24,  25, 108],\n",
       "        [ 33,  34, 114],\n",
       "        [ 15,  16, 115],\n",
       "        [  6,   7, 116],\n",
       "        [ 18,  19, 117],\n",
       "        [  9,  10, 118],\n",
       "        [ 27,  28, 119],\n",
       "        [ 36,  37, 120],\n",
       "        [ 66,  94, 137],\n",
       "        [ 67,  95, 139],\n",
       "        [ 69,  96, 138],\n",
       "        [ 71,  97, 140],\n",
       "        [ 64,  99, 133],\n",
       "        [ 65, 100, 134],\n",
       "        [ 68, 101, 135],\n",
       "        [ 70, 102, 136],\n",
       "        [ 62,  44, 141],\n",
       "        [ 44,  46, 141]])}"
      ]
     },
     "execution_count": 43,
     "metadata": {},
     "output_type": "execute_result"
    }
   ],
   "source": [
    "cells"
   ]
  },
  {
   "cell_type": "code",
   "execution_count": 22,
   "metadata": {},
   "outputs": [
    {
     "data": {
      "text/plain": [
       "array([[ 0.        ,  0.        ,  0.        ],\n",
       "       [ 1.        ,  0.        ,  0.        ],\n",
       "       [ 1.        ,  1.        ,  0.        ],\n",
       "       [ 0.        ,  1.        ,  0.        ],\n",
       "       [ 0.25      ,  0.        ,  0.        ],\n",
       "       [ 0.5       ,  0.        ,  0.        ],\n",
       "       [ 0.75      ,  0.        ,  0.        ],\n",
       "       [ 1.        ,  0.25      ,  0.        ],\n",
       "       [ 1.        ,  0.5       ,  0.        ],\n",
       "       [ 1.        ,  0.75      ,  0.        ],\n",
       "       [ 0.75      ,  1.        ,  0.        ],\n",
       "       [ 0.5       ,  1.        ,  0.        ],\n",
       "       [ 0.25      ,  1.        ,  0.        ],\n",
       "       [ 0.        ,  0.75      ,  0.        ],\n",
       "       [ 0.        ,  0.5       ,  0.        ],\n",
       "       [ 0.        ,  0.25      ,  0.        ],\n",
       "       [ 0.5       ,  0.5       ,  0.        ],\n",
       "       [ 0.70833333,  0.70833333,  0.        ],\n",
       "       [ 0.29166667,  0.70833333,  0.        ],\n",
       "       [ 0.70833333,  0.29166667,  0.        ],\n",
       "       [ 0.29166667,  0.29166667,  0.        ],\n",
       "       [ 0.5       ,  0.7797619 ,  0.        ],\n",
       "       [ 0.2202381 ,  0.5       ,  0.        ],\n",
       "       [ 0.7797619 ,  0.5       ,  0.        ],\n",
       "       [ 0.5       ,  0.2202381 ,  0.        ],\n",
       "       [ 0.83854167,  0.83854167,  0.        ],\n",
       "       [ 0.16145833,  0.83854167,  0.        ],\n",
       "       [ 0.83854167,  0.16145833,  0.        ],\n",
       "       [ 0.16145833,  0.16145833,  0.        ]])"
      ]
     },
     "execution_count": 22,
     "metadata": {},
     "output_type": "execute_result"
    }
   ],
   "source": [
    "points"
   ]
  },
  {
   "cell_type": "code",
   "execution_count": null,
   "metadata": {},
   "outputs": [],
   "source": []
  }
 ],
 "metadata": {
  "kernelspec": {
   "display_name": "Python 3",
   "language": "python",
   "name": "python3"
  },
  "language_info": {
   "codemirror_mode": {
    "name": "ipython",
    "version": 3
   },
   "file_extension": ".py",
   "mimetype": "text/x-python",
   "name": "python",
   "nbconvert_exporter": "python",
   "pygments_lexer": "ipython3",
   "version": "3.6.7"
  }
 },
 "nbformat": 4,
 "nbformat_minor": 2
}

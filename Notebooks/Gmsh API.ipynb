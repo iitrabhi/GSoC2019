{
 "cells": [
  {
   "cell_type": "code",
   "execution_count": 1,
   "metadata": {},
   "outputs": [],
   "source": [
    "import sys\n",
    "import numpy\n",
    "import meshio\n",
    "\n",
    "from dolfin import (MPI, MeshValueCollection, cpp, plotting)\n",
    "%matplotlib inline"
   ]
  },
  {
   "cell_type": "code",
   "execution_count": 2,
   "metadata": {},
   "outputs": [],
   "source": [
    "import gmsh"
   ]
  },
  {
   "cell_type": "code",
   "execution_count": 319,
   "metadata": {},
   "outputs": [],
   "source": [
    "# Map from gmsh to type that is also used by meshio\n",
    "mapping = {1: 'line',\n",
    "           2: 'triangle',\n",
    "           4: 'tetra',\n",
    "           8: 'line3',\n",
    "           9: 'triangle6',\n",
    "           11: 'tetra10',\n",
    "           15: 'vertex'\n",
    "           }\n",
    "nodes = {'line': 2,\n",
    "         'triangle': 3,\n",
    "         'tetra': 4,\n",
    "         'line3': 3,\n",
    "         'triangle6': 6,\n",
    "         'tetra10': 10,\n",
    "         'vertex': 1\n",
    "         }\n",
    "\n",
    "# Generate mesh\n",
    "mesh_ele_size = 0.2\n",
    "\n",
    "gmsh.initialize(sys.argv)\n",
    "gmsh.model.add('unit_square')\n",
    "gmsh.model.geo.addPoint(0.0, 0.0, 0.0, mesh_ele_size, 1)\n",
    "gmsh.model.geo.addPoint(1.0, 0.0, 0.0, mesh_ele_size, 2)\n",
    "gmsh.model.geo.addPoint(1.0, 1.0, 0.0, mesh_ele_size, 3)\n",
    "gmsh.model.geo.addPoint(0.0, 1.0, 0.0, mesh_ele_size, 4)\n",
    "\n",
    "gmsh.model.geo.addLine(1, 2, 1)\n",
    "gmsh.model.geo.addLine(2, 3, 2)\n",
    "gmsh.model.geo.addLine(3, 4, 3)\n",
    "gmsh.model.geo.addLine(4, 1, 4)\n",
    "\n",
    "gmsh.model.geo.addCurveLoop([1, 2, 3, 4], 1)\n",
    "gmsh.model.geo.addPlaneSurface([1], 6)\n",
    "\n",
    "gmsh.model.addPhysicalGroup(1, [1], 1)\n",
    "gmsh.model.setPhysicalName(1, 1, \"BOTTOM\")\n",
    "\n",
    "gmsh.model.addPhysicalGroup(1, [3], 2)\n",
    "gmsh.model.setPhysicalName(1, 2, \"TOP\")\n",
    "\n",
    "gmsh.model.addPhysicalGroup(1, [4], 3)\n",
    "gmsh.model.setPhysicalName(1, 3, \"LEFT\")\n",
    "\n",
    "gmsh.model.addPhysicalGroup(1, [2], 4)\n",
    "gmsh.model.setPhysicalName(1, 4, \"RIGHT\")\n",
    "\n",
    "gmsh.model.addPhysicalGroup(2, [6], 6)\n",
    "gmsh.model.setPhysicalName(2, 6, \"DOMAIN\")"
   ]
  },
  {
   "cell_type": "code",
   "execution_count": 320,
   "metadata": {},
   "outputs": [],
   "source": [
    "gmsh.model.geo.synchronize()\n",
    "gmsh.model.mesh.generate()"
   ]
  },
  {
   "cell_type": "code",
   "execution_count": 321,
   "metadata": {},
   "outputs": [],
   "source": [
    "nodeTags, coord, parametricCoord = gmsh.model.mesh.getNodes()\n",
    "dim = 3"
   ]
  },
  {
   "cell_type": "code",
   "execution_count": 322,
   "metadata": {},
   "outputs": [
    {
     "data": {
      "text/plain": [
       "array([ 0.        ,  0.        ,  0.        ,  1.        ,  0.        ,\n",
       "        0.        ,  1.        ,  1.        ,  0.        ,  0.        ,\n",
       "        1.        ,  0.        ,  0.2       ,  0.        ,  0.        ,\n",
       "        0.4       ,  0.        ,  0.        ,  0.6       ,  0.        ,\n",
       "        0.        ,  0.8       ,  0.        ,  0.        ,  1.        ,\n",
       "        0.2       ,  0.        ,  1.        ,  0.4       ,  0.        ,\n",
       "        1.        ,  0.6       ,  0.        ,  1.        ,  0.8       ,\n",
       "        0.        ,  0.8       ,  1.        ,  0.        ,  0.6       ,\n",
       "        1.        ,  0.        ,  0.4       ,  1.        ,  0.        ,\n",
       "        0.2       ,  1.        ,  0.        ,  0.        ,  0.8       ,\n",
       "        0.        ,  0.        ,  0.6       ,  0.        ,  0.        ,\n",
       "        0.4       ,  0.        ,  0.        ,  0.2       ,  0.        ,\n",
       "        0.5       ,  0.5       ,  0.        ,  0.2875    ,  0.7125    ,\n",
       "        0.        ,  0.7125    ,  0.7125    ,  0.        ,  0.2875    ,\n",
       "        0.2875    ,  0.        ,  0.7125    ,  0.2875    ,  0.        ,\n",
       "        0.79606445,  0.51032609,  0.        ,  0.48967391,  0.79606445,\n",
       "        0.        ,  0.51032609,  0.20393555,  0.        ,  0.20393555,\n",
       "        0.48967391,  0.        ,  0.16708333,  0.83291667,  0.        ,\n",
       "        0.83291667,  0.83291667,  0.        ,  0.16708333,  0.16708333,\n",
       "        0.        ,  0.83291667,  0.16708333,  0.        ,  0.36834335,\n",
       "        0.56965569,  0.        ,  0.57552917,  0.61679538,  0.        ,\n",
       "        0.43103403,  0.36854769,  0.        ,  0.61695296,  0.42457634,\n",
       "        0.        ,  0.31206279,  0.86749953,  0.        ,  0.13250047,\n",
       "        0.31206279,  0.        ,  0.86749953,  0.68793721,  0.        ,\n",
       "        0.13170378,  0.68701812,  0.        ,  0.68793721,  0.13250047,\n",
       "        0.        ,  0.68701812,  0.86829622,  0.        ,  0.31298188,\n",
       "        0.13170378,  0.        ,  0.86829622,  0.31298188,  0.        ])"
      ]
     },
     "execution_count": 322,
     "metadata": {},
     "output_type": "execute_result"
    }
   ],
   "source": [
    "coord"
   ]
  },
  {
   "cell_type": "code",
   "execution_count": 323,
   "metadata": {},
   "outputs": [],
   "source": [
    "# Reshape to get right format\n",
    "points = numpy.reshape(coord, (int(coord.size / dim), dim))"
   ]
  },
  {
   "cell_type": "code",
   "execution_count": null,
   "metadata": {
    "scrolled": true
   },
   "outputs": [],
   "source": []
  },
  {
   "cell_type": "code",
   "execution_count": 324,
   "metadata": {},
   "outputs": [
    {
     "data": {
      "text/plain": [
       "array([ 1,  2, 15], dtype=int32)"
      ]
     },
     "execution_count": 324,
     "metadata": {},
     "output_type": "execute_result"
    }
   ],
   "source": [
    "element_types"
   ]
  },
  {
   "cell_type": "code",
   "execution_count": 325,
   "metadata": {},
   "outputs": [
    {
     "data": {
      "text/plain": [
       "(array([1], dtype=int32),\n",
       " [array([ 6,  7,  8,  9, 10], dtype=uint64)],\n",
       " [array([ 2,  9,  9, 10, 10, 11, 11, 12, 12,  3], dtype=uint64)])"
      ]
     },
     "execution_count": 325,
     "metadata": {},
     "output_type": "execute_result"
    }
   ],
   "source": [
    "gmsh.model.mesh.getElements(1,2)"
   ]
  },
  {
   "cell_type": "markdown",
   "metadata": {},
   "source": [
    "# This is the value of field_data without string tag"
   ]
  },
  {
   "cell_type": "code",
   "execution_count": 326,
   "metadata": {},
   "outputs": [],
   "source": [
    "dim_tags = gmsh.model.getPhysicalGroups(1)"
   ]
  },
  {
   "cell_type": "code",
   "execution_count": 327,
   "metadata": {},
   "outputs": [
    {
     "data": {
      "text/plain": [
       "[(1, 1), (1, 2), (1, 3), (1, 4)]"
      ]
     },
     "execution_count": 327,
     "metadata": {},
     "output_type": "execute_result"
    }
   ],
   "source": [
    "dim_tags"
   ]
  },
  {
   "cell_type": "code",
   "execution_count": 328,
   "metadata": {},
   "outputs": [
    {
     "data": {
      "text/plain": [
       "'BOTTOM'"
      ]
     },
     "execution_count": 328,
     "metadata": {},
     "output_type": "execute_result"
    }
   ],
   "source": [
    "gmsh.model.getPhysicalName(dim_tags[0][0], dim_tags[0][1])"
   ]
  },
  {
   "cell_type": "markdown",
   "metadata": {},
   "source": [
    "# Cell_data"
   ]
  },
  {
   "cell_type": "code",
   "execution_count": 329,
   "metadata": {},
   "outputs": [],
   "source": [
    "element_type, element_tag, node_tag = gmsh.model.mesh.getElements(2, 6)"
   ]
  },
  {
   "cell_type": "code",
   "execution_count": 330,
   "metadata": {
    "scrolled": true
   },
   "outputs": [
    {
     "data": {
      "text/plain": [
       "2"
      ]
     },
     "execution_count": 330,
     "metadata": {},
     "output_type": "execute_result"
    }
   ],
   "source": [
    "element_type[0]"
   ]
  },
  {
   "cell_type": "code",
   "execution_count": 331,
   "metadata": {},
   "outputs": [
    {
     "data": {
      "text/plain": [
       "[array([21, 22, 23, 24, 25, 26, 27, 28, 29, 30, 31, 32, 33, 34, 35, 36, 37,\n",
       "        38, 39, 40, 41, 42, 43, 44, 45, 46, 47, 48, 49, 50, 51, 52, 53, 54,\n",
       "        55, 56, 57, 58, 59, 60, 61, 62, 63, 64, 65, 66, 67, 68, 69, 70, 71,\n",
       "        72, 73, 74, 75, 76, 77, 78, 79, 80, 81, 82, 83, 84, 85, 86, 87, 88], dtype=uint64)]"
      ]
     },
     "execution_count": 331,
     "metadata": {},
     "output_type": "execute_result"
    }
   ],
   "source": [
    "element_tag"
   ]
  },
  {
   "cell_type": "code",
   "execution_count": 332,
   "metadata": {
    "scrolled": false
   },
   "outputs": [
    {
     "data": {
      "text/plain": [
       "[array([27, 22, 34, 27, 34, 35, 26, 23, 35, 26, 35, 37, 34, 29, 36, 29, 24,\n",
       "        36, 36, 28, 37, 28, 25, 37, 18, 19, 29, 14, 15, 27,  6,  7, 28, 10,\n",
       "        11, 26,  4, 17, 30,  3, 13, 31, 16,  4, 30,  1,  5, 32, 20,  1, 32,\n",
       "        12,  3, 31,  2,  9, 33,  8,  2, 33, 18, 29, 41, 14, 27, 43,  6, 28,\n",
       "        44, 10, 26, 45, 26, 25, 45, 27, 23, 43, 23, 26, 40, 28, 24, 44, 29,\n",
       "        22, 41, 26, 11, 40, 25, 28, 42, 28,  7, 42, 27, 15, 38, 22, 27, 38,\n",
       "        29, 19, 39, 24, 29, 39, 35, 21, 37, 21, 36, 37, 25, 26, 37, 23, 27,\n",
       "        35, 24, 28, 36, 22, 29, 34, 34, 21, 35, 21, 34, 36, 15, 16, 38, 17,\n",
       "        18, 41, 19, 20, 39, 13, 14, 43, 11, 12, 40,  5,  6, 44,  7,  8, 42,\n",
       "         9, 10, 45, 30, 17, 41, 31, 13, 43, 16, 30, 38, 32,  5, 44, 20, 32,\n",
       "        39, 12, 31, 40, 33,  9, 45,  8, 33, 42, 30, 22, 38, 31, 23, 40, 32,\n",
       "        24, 39, 22, 30, 41, 23, 31, 43, 33, 25, 42, 24, 32, 44, 25, 33, 45], dtype=uint64)]"
      ]
     },
     "execution_count": 332,
     "metadata": {},
     "output_type": "execute_result"
    }
   ],
   "source": [
    "node_tag"
   ]
  },
  {
   "cell_type": "code",
   "execution_count": 333,
   "metadata": {},
   "outputs": [],
   "source": [
    "for dim_tag in dim_tags:\n",
    "    dim = dim_tag[0]\n",
    "    tag = dim_tag[1]\n",
    "    element_type, element_tag, node_tag = gmsh.model.mesh.getElements(dim, tag)\n",
    "    for num in element_tag[0]:\n",
    "        element_tags[dim - 1][element_tags[dim - 1]==num] = tag"
   ]
  },
  {
   "cell_type": "code",
   "execution_count": 334,
   "metadata": {},
   "outputs": [
    {
     "data": {
      "text/plain": [
       "array([1, 1, 1, 1, 1, 1, 1, 1, 1, 1, 1, 1, 1, 1, 1, 1, 1, 1, 1, 1], dtype=uint64)"
      ]
     },
     "execution_count": 334,
     "metadata": {},
     "output_type": "execute_result"
    }
   ],
   "source": [
    "element_tags[0]"
   ]
  },
  {
   "cell_type": "markdown",
   "metadata": {},
   "source": [
    "# Cells"
   ]
  },
  {
   "cell_type": "code",
   "execution_count": 335,
   "metadata": {},
   "outputs": [],
   "source": [
    "element_types, element_tags, node_tags = gmsh.model.mesh.getElements()"
   ]
  },
  {
   "cell_type": "code",
   "execution_count": 336,
   "metadata": {
    "scrolled": true
   },
   "outputs": [
    {
     "data": {
      "text/plain": [
       "array([ 1,  2, 15], dtype=int32)"
      ]
     },
     "execution_count": 336,
     "metadata": {},
     "output_type": "execute_result"
    }
   ],
   "source": [
    "element_types"
   ]
  },
  {
   "cell_type": "code",
   "execution_count": 337,
   "metadata": {},
   "outputs": [
    {
     "data": {
      "text/plain": [
       "[array([ 1,  2,  3,  4,  5,  6,  7,  8,  9, 10, 11, 12, 13, 14, 15, 16, 17,\n",
       "        18, 19, 20], dtype=uint64),\n",
       " array([21, 22, 23, 24, 25, 26, 27, 28, 29, 30, 31, 32, 33, 34, 35, 36, 37,\n",
       "        38, 39, 40, 41, 42, 43, 44, 45, 46, 47, 48, 49, 50, 51, 52, 53, 54,\n",
       "        55, 56, 57, 58, 59, 60, 61, 62, 63, 64, 65, 66, 67, 68, 69, 70, 71,\n",
       "        72, 73, 74, 75, 76, 77, 78, 79, 80, 81, 82, 83, 84, 85, 86, 87, 88], dtype=uint64),\n",
       " array([89, 90, 91, 92], dtype=uint64)]"
      ]
     },
     "execution_count": 337,
     "metadata": {},
     "output_type": "execute_result"
    }
   ],
   "source": [
    "element_tags"
   ]
  },
  {
   "cell_type": "code",
   "execution_count": 338,
   "metadata": {
    "scrolled": false
   },
   "outputs": [
    {
     "data": {
      "text/plain": [
       "[array([ 1,  5,  5,  6,  6,  7,  7,  8,  8,  2,  2,  9,  9, 10, 10, 11, 11,\n",
       "        12, 12,  3,  3, 13, 13, 14, 14, 15, 15, 16, 16,  4,  4, 17, 17, 18,\n",
       "        18, 19, 19, 20, 20,  1], dtype=uint64),\n",
       " array([27, 22, 34, 27, 34, 35, 26, 23, 35, 26, 35, 37, 34, 29, 36, 29, 24,\n",
       "        36, 36, 28, 37, 28, 25, 37, 18, 19, 29, 14, 15, 27,  6,  7, 28, 10,\n",
       "        11, 26,  4, 17, 30,  3, 13, 31, 16,  4, 30,  1,  5, 32, 20,  1, 32,\n",
       "        12,  3, 31,  2,  9, 33,  8,  2, 33, 18, 29, 41, 14, 27, 43,  6, 28,\n",
       "        44, 10, 26, 45, 26, 25, 45, 27, 23, 43, 23, 26, 40, 28, 24, 44, 29,\n",
       "        22, 41, 26, 11, 40, 25, 28, 42, 28,  7, 42, 27, 15, 38, 22, 27, 38,\n",
       "        29, 19, 39, 24, 29, 39, 35, 21, 37, 21, 36, 37, 25, 26, 37, 23, 27,\n",
       "        35, 24, 28, 36, 22, 29, 34, 34, 21, 35, 21, 34, 36, 15, 16, 38, 17,\n",
       "        18, 41, 19, 20, 39, 13, 14, 43, 11, 12, 40,  5,  6, 44,  7,  8, 42,\n",
       "         9, 10, 45, 30, 17, 41, 31, 13, 43, 16, 30, 38, 32,  5, 44, 20, 32,\n",
       "        39, 12, 31, 40, 33,  9, 45,  8, 33, 42, 30, 22, 38, 31, 23, 40, 32,\n",
       "        24, 39, 22, 30, 41, 23, 31, 43, 33, 25, 42, 24, 32, 44, 25, 33, 45], dtype=uint64),\n",
       " array([1, 2, 3, 4], dtype=uint64)]"
      ]
     },
     "execution_count": 338,
     "metadata": {},
     "output_type": "execute_result"
    }
   ],
   "source": [
    "node_tags"
   ]
  },
  {
   "cell_type": "code",
   "execution_count": 339,
   "metadata": {},
   "outputs": [],
   "source": [
    "cells = {}\n",
    "cell_data = {}"
   ]
  },
  {
   "cell_type": "code",
   "execution_count": 340,
   "metadata": {},
   "outputs": [],
   "source": [
    "# Generate cells dict\n",
    "for num, element in enumerate(element_types):\n",
    "    name = mapping[element]\n",
    "    num_nodes = nodes[name]\n",
    "    # since nodes are numbered starting from 0\n",
    "    cells[name] = node_tags[num] - 1\n",
    "    cells[name] = numpy.reshape(cells[name],\n",
    "                                (numpy.int(cells[name].size / num_nodes), num_nodes))\n",
    "    # If mesh contains the physical group of dimension dim \n",
    "    # -1 to match with gmsh api dimensions\n",
    "    dim_tags = gmsh.model.getPhysicalGroups(dim - 1)\n",
    "    if dim_tags:\n",
    "        for dim_tag in dim_tags:\n",
    "            dim = dim_tag[0]\n",
    "            tag = dim_tag[1]\n",
    "            element_type, element_tag, node_tag = gmsh.model.mesh.getElements(dim, tag)\n",
    "            for ele_num in element_tag[0]:\n",
    "                element_tags[dim - 1][element_tags[dim - 1] == ele_num] = tag\n",
    "        cell_data[name] =  element_tags[dim - 1]\n",
    "\n",
    "#print(points)\n",
    "#print(cells)"
   ]
  },
  {
   "cell_type": "code",
   "execution_count": 341,
   "metadata": {},
   "outputs": [
    {
     "data": {
      "text/plain": [
       "{'line': array([1, 1, 1, 1, 1, 2, 2, 2, 2, 2, 3, 3, 3, 3, 3, 4, 4, 4, 4, 4], dtype=uint64),\n",
       " 'triangle': array([6, 6, 6, 6, 6, 6, 6, 6, 6, 6, 6, 6, 6, 6, 6, 6, 6, 6, 6, 6, 6, 6, 6,\n",
       "        6, 6, 6, 6, 6, 6, 6, 6, 6, 6, 6, 6, 6, 6, 6, 6, 6, 6, 6, 6, 6, 6, 6,\n",
       "        6, 6, 6, 6, 6, 6, 6, 6, 6, 6, 6, 6, 6, 6, 6, 6, 6, 6, 6, 6, 6, 6], dtype=uint64)}"
      ]
     },
     "execution_count": 341,
     "metadata": {},
     "output_type": "execute_result"
    }
   ],
   "source": [
    "cell_data"
   ]
  },
  {
   "cell_type": "code",
   "execution_count": 342,
   "metadata": {},
   "outputs": [],
   "source": [
    "gmsh.write(\"unit_square.geo_unrolled\")\n",
    "\n",
    "# End Generate mesh\n",
    "gmsh.finalize()"
   ]
  },
  {
   "cell_type": "code",
   "execution_count": 343,
   "metadata": {},
   "outputs": [],
   "source": [
    "mesh = cpp.mesh.Mesh(MPI.comm_world,\n",
    "                     cpp.mesh.CellType.Type.triangle, points,\n",
    "                     cells['triangle'], [], cpp.mesh.GhostMode.none)"
   ]
  },
  {
   "cell_type": "code",
   "execution_count": 344,
   "metadata": {},
   "outputs": [
    {
     "data": {
      "text/plain": [
       "<mpl_toolkits.mplot3d.art3d.Poly3DCollection at 0x7ff1d5729e48>"
      ]
     },
     "execution_count": 344,
     "metadata": {},
     "output_type": "execute_result"
    },
    {
     "data": {
      "image/png": "[encoded data removed]",
      "text/plain": [
       "<matplotlib.figure.Figure at 0x7ff1d5810710>"
      ]
     },
     "metadata": {
      "needs_background": "light"
     },
     "output_type": "display_data"
    }
   ],
   "source": [
    "plotting.plot(mesh)"
   ]
  },
  {
   "cell_type": "code",
   "execution_count": null,
   "metadata": {},
   "outputs": [],
   "source": []
  }
 ],
 "metadata": {
  "kernelspec": {
   "display_name": "Python 3",
   "language": "python",
   "name": "python3"
  },
  "language_info": {
   "codemirror_mode": {
    "name": "ipython",
    "version": 3
   },
   "file_extension": ".py",
   "mimetype": "text/x-python",
   "name": "python",
   "nbconvert_exporter": "python",
   "pygments_lexer": "ipython3",
   "version": "3.6.8"
  }
 },
 "nbformat": 4,
 "nbformat_minor": 2
}
